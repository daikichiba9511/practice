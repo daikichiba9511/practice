{
 "cells": [
  {
   "cell_type": "code",
   "execution_count": 35,
   "metadata": {},
   "outputs": [
    {
     "name": "stdout",
     "output_type": "stream",
     "text": [
      "Python 3.7.6\n"
     ]
    }
   ],
   "source": [
    "!python --version"
   ]
  },
  {
   "cell_type": "code",
   "execution_count": 36,
   "metadata": {},
   "outputs": [
    {
     "name": "stdout",
     "output_type": "stream",
     "text": [
      "[104, 101, 108, 108, 111]\n",
      "b'hello'\n"
     ]
    }
   ],
   "source": [
    "a = b'h\\x65llo'\n",
    "print(list(a))\n",
    "print(a)"
   ]
  },
  {
   "cell_type": "code",
   "execution_count": 37,
   "metadata": {},
   "outputs": [
    {
     "name": "stdout",
     "output_type": "stream",
     "text": [
      "['a', '̀', ' ', 'p', 'r', 'o', 'p', 'o', 's']\n",
      "à propos\n"
     ]
    }
   ],
   "source": [
    "a = \"a\\u0300 propos\"\n",
    "print(list(a))\n",
    "print(a)"
   ]
  },
  {
   "cell_type": "code",
   "execution_count": 38,
   "metadata": {},
   "outputs": [
    {
     "name": "stdout",
     "output_type": "stream",
     "text": [
      "b is empty\n"
     ]
    }
   ],
   "source": [
    "b = []\n",
    "if not b:\n",
    "    print(\"b is empty\")"
   ]
  },
  {
   "cell_type": "code",
   "execution_count": 39,
   "metadata": {},
   "outputs": [
    {
     "name": "stdout",
     "output_type": "stream",
     "text": [
      "b is not empty\n"
     ]
    }
   ],
   "source": [
    "b = [1]\n",
    "if b:\n",
    "    print(\"b is not empty\")\n",
    "else:\n",
    "    print(\"b is empty\")"
   ]
  },
  {
   "cell_type": "code",
   "execution_count": 40,
   "metadata": {},
   "outputs": [
    {
     "name": "stdout",
     "output_type": "stream",
     "text": [
      "'foo'\n",
      "'bar'\n"
     ]
    }
   ],
   "source": [
    "from typing import Union\n",
    "\n",
    "def to_str(bytes_or_str: Union[str, bytes]) -> str:\n",
    "    if isinstance(bytes_or_str, bytes):\n",
    "        value = bytes_or_str.decode(\"utf-8\")\n",
    "    else:\n",
    "        value = bytes_or_str\n",
    "    return value\n",
    "\n",
    "print(repr(to_str(b\"foo\")))\n",
    "print(repr(to_str(\"bar\")))"
   ]
  },
  {
   "cell_type": "code",
   "execution_count": 41,
   "metadata": {},
   "outputs": [
    {
     "name": "stdout",
     "output_type": "stream",
     "text": [
      "None\n",
      "None\n"
     ]
    }
   ],
   "source": [
    "def to_bytes(bytes_or_str: Union[str, bytes]) -> bytes:\n",
    "    if isinstance(bytes_or_str, str):\n",
    "        value = bytes_or_str.encode(\"utf-8\")\n",
    "    else:\n",
    "        value = bytes_or_str\n",
    "\n",
    "print(repr(to_bytes(b\"foo\")))\n",
    "print(repr(to_bytes(\"bar\")))"
   ]
  },
  {
   "cell_type": "code",
   "execution_count": 42,
   "metadata": {},
   "outputs": [
    {
     "name": "stdout",
     "output_type": "stream",
     "text": [
      "b'onetwo'\n"
     ]
    }
   ],
   "source": [
    "print(b\"one\"+b\"two\")"
   ]
  },
  {
   "cell_type": "code",
   "execution_count": 43,
   "metadata": {},
   "outputs": [
    {
     "name": "stdout",
     "output_type": "stream",
     "text": [
      "onetwo\n"
     ]
    }
   ],
   "source": [
    "print(\"one\"+\"two\")"
   ]
  },
  {
   "cell_type": "code",
   "execution_count": 44,
   "metadata": {},
   "outputs": [
    {
     "ename": "TypeError",
     "evalue": "can't concat str to bytes",
     "output_type": "error",
     "traceback": [
      "\u001b[0;31m---------------------------------------------------------------------------\u001b[0m",
      "\u001b[0;31mTypeError\u001b[0m                                 Traceback (most recent call last)",
      "\u001b[0;32m<ipython-input-44-200e49012939>\u001b[0m in \u001b[0;36m<module>\u001b[0;34m\u001b[0m\n\u001b[0;32m----> 1\u001b[0;31m \u001b[0;34mb\"one\"\u001b[0m\u001b[0;34m+\u001b[0m\u001b[0;34m\"two\"\u001b[0m\u001b[0;34m\u001b[0m\u001b[0;34m\u001b[0m\u001b[0m\n\u001b[0m",
      "\u001b[0;31mTypeError\u001b[0m: can't concat str to bytes"
     ]
    }
   ],
   "source": [
    "b\"one\"+\"two\""
   ]
  },
  {
   "cell_type": "code",
   "execution_count": 45,
   "metadata": {},
   "outputs": [
    {
     "data": {
      "image/png": "[encoded data removed]",
      "text/plain": [
       "<Figure size 432x288 with 1 Axes>"
      ]
     },
     "metadata": {
      "needs_background": "light"
     },
     "output_type": "display_data"
    }
   ],
   "source": [
    "import numpy as np\n",
    "\n",
    "from matplotlib import pyplot as plt\n",
    "%matplotlib inline\n",
    "\n",
    "def f(x):\n",
    "    return x**2 + 2*x\n",
    "\n",
    "x = np.arange(-1,10)\n",
    "y = [f(i) for i in x]\n",
    "\n",
    "fig = plt.figure()\n",
    "plt.plot(x, y, \".-\")\n",
    "plt.show()\n"
   ]
  },
  {
   "cell_type": "code",
   "execution_count": 46,
   "metadata": {},
   "outputs": [],
   "source": [
    "assert b\"red\" > b\"blue\"\n",
    "assert \"red\" > \"blue\""
   ]
  },
  {
   "cell_type": "code",
   "execution_count": 47,
   "metadata": {},
   "outputs": [
    {
     "ename": "TypeError",
     "evalue": "'>' not supported between instances of 'bytes' and 'str'",
     "output_type": "error",
     "traceback": [
      "\u001b[0;31m---------------------------------------------------------------------------\u001b[0m",
      "\u001b[0;31mTypeError\u001b[0m                                 Traceback (most recent call last)",
      "\u001b[0;32m<ipython-input-47-964b235c790b>\u001b[0m in \u001b[0;36m<module>\u001b[0;34m\u001b[0m\n\u001b[0;32m----> 1\u001b[0;31m \u001b[0;32massert\u001b[0m \u001b[0;34mb\"red\"\u001b[0m \u001b[0;34m>\u001b[0m \u001b[0;34m\"red\"\u001b[0m\u001b[0;34m\u001b[0m\u001b[0;34m\u001b[0m\u001b[0m\n\u001b[0m",
      "\u001b[0;31mTypeError\u001b[0m: '>' not supported between instances of 'bytes' and 'str'"
     ]
    }
   ],
   "source": [
    "assert b\"red\" > \"red\""
   ]
  },
  {
   "cell_type": "code",
   "execution_count": 48,
   "metadata": {},
   "outputs": [
    {
     "ename": "TypeError",
     "evalue": "'>' not supported between instances of 'str' and 'bytes'",
     "output_type": "error",
     "traceback": [
      "\u001b[0;31m---------------------------------------------------------------------------\u001b[0m",
      "\u001b[0;31mTypeError\u001b[0m                                 Traceback (most recent call last)",
      "\u001b[0;32m<ipython-input-48-a2f62fe1519c>\u001b[0m in \u001b[0;36m<module>\u001b[0;34m\u001b[0m\n\u001b[0;32m----> 1\u001b[0;31m \u001b[0;32massert\u001b[0m \u001b[0;34m\"red\"\u001b[0m \u001b[0;34m>\u001b[0m \u001b[0;34mb\"blue\"\u001b[0m\u001b[0;34m\u001b[0m\u001b[0;34m\u001b[0m\u001b[0m\n\u001b[0m",
      "\u001b[0;31mTypeError\u001b[0m: '>' not supported between instances of 'str' and 'bytes'"
     ]
    }
   ],
   "source": [
    "assert \"red\" > b\"blue\""
   ]
  },
  {
   "cell_type": "code",
   "execution_count": 49,
   "metadata": {},
   "outputs": [
    {
     "name": "stdout",
     "output_type": "stream",
     "text": [
      "False\n"
     ]
    }
   ],
   "source": [
    "print(b\"foo\" == \"foo\")"
   ]
  },
  {
   "cell_type": "code",
   "execution_count": 50,
   "metadata": {},
   "outputs": [
    {
     "name": "stdout",
     "output_type": "stream",
     "text": [
      "b'red blue'\n"
     ]
    }
   ],
   "source": [
    "print(b\"red %s\" % b\"blue\")"
   ]
  },
  {
   "cell_type": "code",
   "execution_count": 51,
   "metadata": {},
   "outputs": [
    {
     "name": "stdout",
     "output_type": "stream",
     "text": [
      "red blue\n"
     ]
    }
   ],
   "source": [
    "print(\"red %s\" % \"blue\")"
   ]
  },
  {
   "cell_type": "code",
   "execution_count": 52,
   "metadata": {},
   "outputs": [
    {
     "ename": "TypeError",
     "evalue": "%b requires a bytes-like object, or an object that implements __bytes__, not 'str'",
     "output_type": "error",
     "traceback": [
      "\u001b[0;31m---------------------------------------------------------------------------\u001b[0m",
      "\u001b[0;31mTypeError\u001b[0m                                 Traceback (most recent call last)",
      "\u001b[0;32m<ipython-input-52-02f258e7e6aa>\u001b[0m in \u001b[0;36m<module>\u001b[0;34m\u001b[0m\n\u001b[0;32m----> 1\u001b[0;31m \u001b[0mprint\u001b[0m\u001b[0;34m(\u001b[0m\u001b[0;34mb\"red %s\"\u001b[0m \u001b[0;34m%\u001b[0m \u001b[0;34m\"blue\"\u001b[0m\u001b[0;34m)\u001b[0m\u001b[0;34m\u001b[0m\u001b[0;34m\u001b[0m\u001b[0m\n\u001b[0m",
      "\u001b[0;31mTypeError\u001b[0m: %b requires a bytes-like object, or an object that implements __bytes__, not 'str'"
     ]
    }
   ],
   "source": [
    "print(b\"red %s\" % \"blue\")"
   ]
  },
  {
   "cell_type": "code",
   "execution_count": 53,
   "metadata": {},
   "outputs": [],
   "source": [
    "with open(\"random.bin\", \"wb\") as f:\n",
    "    f.write(b\"\\xf1\\xf2\\xf3\\xf4\\xf5\")"
   ]
  },
  {
   "cell_type": "code",
   "execution_count": 54,
   "metadata": {},
   "outputs": [],
   "source": [
    "with open(\"random.bin\", \"rb\") as f:\n",
    "    data = f.read()"
   ]
  },
  {
   "cell_type": "code",
   "execution_count": 55,
   "metadata": {},
   "outputs": [
    {
     "data": {
      "text/plain": [
       "b'\\xf1\\xf2\\xf3\\xf4\\xf5'"
      ]
     },
     "execution_count": 55,
     "metadata": {},
     "output_type": "execute_result"
    }
   ],
   "source": [
    "data"
   ]
  },
  {
   "cell_type": "code",
   "execution_count": 56,
   "metadata": {},
   "outputs": [
    {
     "ename": "UnicodeDecodeError",
     "evalue": "'utf-8' codec can't decode byte 0xf1 in position 0: invalid continuation byte",
     "output_type": "error",
     "traceback": [
      "\u001b[0;31m---------------------------------------------------------------------------\u001b[0m",
      "\u001b[0;31mUnicodeDecodeError\u001b[0m                        Traceback (most recent call last)",
      "\u001b[0;32m<ipython-input-56-5d167f234a32>\u001b[0m in \u001b[0;36m<module>\u001b[0;34m\u001b[0m\n\u001b[1;32m      1\u001b[0m \u001b[0;32mwith\u001b[0m \u001b[0mopen\u001b[0m\u001b[0;34m(\u001b[0m\u001b[0;34m\"random.bin\"\u001b[0m\u001b[0;34m,\u001b[0m \u001b[0;34m\"r\"\u001b[0m\u001b[0;34m)\u001b[0m \u001b[0;32mas\u001b[0m \u001b[0mf\u001b[0m\u001b[0;34m:\u001b[0m\u001b[0;34m\u001b[0m\u001b[0;34m\u001b[0m\u001b[0m\n\u001b[0;32m----> 2\u001b[0;31m     \u001b[0mdata\u001b[0m \u001b[0;34m=\u001b[0m \u001b[0mf\u001b[0m\u001b[0;34m.\u001b[0m\u001b[0mread\u001b[0m\u001b[0;34m(\u001b[0m\u001b[0;34m)\u001b[0m\u001b[0;34m\u001b[0m\u001b[0;34m\u001b[0m\u001b[0m\n\u001b[0m",
      "\u001b[0;32m~/.pyenv/versions/3.7.6/lib/python3.7/codecs.py\u001b[0m in \u001b[0;36mdecode\u001b[0;34m(self, input, final)\u001b[0m\n\u001b[1;32m    320\u001b[0m         \u001b[0;31m# decode input (taking the buffer into account)\u001b[0m\u001b[0;34m\u001b[0m\u001b[0;34m\u001b[0m\u001b[0;34m\u001b[0m\u001b[0m\n\u001b[1;32m    321\u001b[0m         \u001b[0mdata\u001b[0m \u001b[0;34m=\u001b[0m \u001b[0mself\u001b[0m\u001b[0;34m.\u001b[0m\u001b[0mbuffer\u001b[0m \u001b[0;34m+\u001b[0m \u001b[0minput\u001b[0m\u001b[0;34m\u001b[0m\u001b[0;34m\u001b[0m\u001b[0m\n\u001b[0;32m--> 322\u001b[0;31m         \u001b[0;34m(\u001b[0m\u001b[0mresult\u001b[0m\u001b[0;34m,\u001b[0m \u001b[0mconsumed\u001b[0m\u001b[0;34m)\u001b[0m \u001b[0;34m=\u001b[0m \u001b[0mself\u001b[0m\u001b[0;34m.\u001b[0m\u001b[0m_buffer_decode\u001b[0m\u001b[0;34m(\u001b[0m\u001b[0mdata\u001b[0m\u001b[0;34m,\u001b[0m \u001b[0mself\u001b[0m\u001b[0;34m.\u001b[0m\u001b[0merrors\u001b[0m\u001b[0;34m,\u001b[0m \u001b[0mfinal\u001b[0m\u001b[0;34m)\u001b[0m\u001b[0;34m\u001b[0m\u001b[0;34m\u001b[0m\u001b[0m\n\u001b[0m\u001b[1;32m    323\u001b[0m         \u001b[0;31m# keep undecoded input until the next call\u001b[0m\u001b[0;34m\u001b[0m\u001b[0;34m\u001b[0m\u001b[0;34m\u001b[0m\u001b[0m\n\u001b[1;32m    324\u001b[0m         \u001b[0mself\u001b[0m\u001b[0;34m.\u001b[0m\u001b[0mbuffer\u001b[0m \u001b[0;34m=\u001b[0m \u001b[0mdata\u001b[0m\u001b[0;34m[\u001b[0m\u001b[0mconsumed\u001b[0m\u001b[0;34m:\u001b[0m\u001b[0;34m]\u001b[0m\u001b[0;34m\u001b[0m\u001b[0;34m\u001b[0m\u001b[0m\n",
      "\u001b[0;31mUnicodeDecodeError\u001b[0m: 'utf-8' codec can't decode byte 0xf1 in position 0: invalid continuation byte"
     ]
    }
   ],
   "source": [
    "with open(\"random.bin\", \"r\") as f:\n",
    "    data = f.read()"
   ]
  },
  {
   "cell_type": "code",
   "execution_count": 57,
   "metadata": {},
   "outputs": [],
   "source": [
    "assert data == b\"\\xf1\\xf2\\xf3\\xf4\\xf5\""
   ]
  },
  {
   "cell_type": "code",
   "execution_count": 58,
   "metadata": {},
   "outputs": [
    {
     "name": "stdout",
     "output_type": "stream",
     "text": [
      "Binary is 187, hex is 3167\n"
     ]
    }
   ],
   "source": [
    "a = 0b10111011\n",
    "b = 0xc5f\n",
    "print(\"Binary is %d, hex is %d\" % (a, b))"
   ]
  },
  {
   "cell_type": "code",
   "execution_count": 59,
   "metadata": {},
   "outputs": [
    {
     "name": "stdout",
     "output_type": "stream",
     "text": [
      "my_var     = 1.23\n"
     ]
    }
   ],
   "source": [
    "key = \"my_var\"\n",
    "value = 1.234\n",
    "formatted = \"%-10s = %.2f\" % (key, value)\n",
    "print(formatted)\n"
   ]
  },
  {
   "cell_type": "code",
   "execution_count": 60,
   "metadata": {},
   "outputs": [
    {
     "ename": "TypeError",
     "evalue": "must be real number, not str",
     "output_type": "error",
     "traceback": [
      "\u001b[0;31m---------------------------------------------------------------------------\u001b[0m",
      "\u001b[0;31mTypeError\u001b[0m                                 Traceback (most recent call last)",
      "\u001b[0;32m<ipython-input-60-82c307629edf>\u001b[0m in \u001b[0;36m<module>\u001b[0;34m\u001b[0m\n\u001b[0;32m----> 1\u001b[0;31m \u001b[0mreordered_string\u001b[0m \u001b[0;34m=\u001b[0m \u001b[0;34m\"%-10s = %.2f\"\u001b[0m \u001b[0;34m%\u001b[0m \u001b[0;34m(\u001b[0m\u001b[0mvalue\u001b[0m\u001b[0;34m,\u001b[0m \u001b[0mkey\u001b[0m\u001b[0;34m)\u001b[0m\u001b[0;34m\u001b[0m\u001b[0;34m\u001b[0m\u001b[0m\n\u001b[0m",
      "\u001b[0;31mTypeError\u001b[0m: must be real number, not str"
     ]
    }
   ],
   "source": [
    "reordered_string = \"%-10s = %.2f\" % (value, key)"
   ]
  },
  {
   "cell_type": "code",
   "execution_count": 61,
   "metadata": {},
   "outputs": [
    {
     "ename": "TypeError",
     "evalue": "must be real number, not str",
     "output_type": "error",
     "traceback": [
      "\u001b[0;31m---------------------------------------------------------------------------\u001b[0m",
      "\u001b[0;31mTypeError\u001b[0m                                 Traceback (most recent call last)",
      "\u001b[0;32m<ipython-input-61-9aaf2a3967c3>\u001b[0m in \u001b[0;36m<module>\u001b[0;34m\u001b[0m\n\u001b[0;32m----> 1\u001b[0;31m \u001b[0mreordered_string\u001b[0m \u001b[0;34m=\u001b[0m \u001b[0;34m\"%.2f = %-10s\"\u001b[0m \u001b[0;34m%\u001b[0m \u001b[0;34m(\u001b[0m\u001b[0mkey\u001b[0m\u001b[0;34m,\u001b[0m \u001b[0mvalue\u001b[0m\u001b[0;34m)\u001b[0m\u001b[0;34m\u001b[0m\u001b[0;34m\u001b[0m\u001b[0m\n\u001b[0m",
      "\u001b[0;31mTypeError\u001b[0m: must be real number, not str"
     ]
    }
   ],
   "source": [
    "reordered_string = \"%.2f = %-10s\" % (key, value)"
   ]
  },
  {
   "cell_type": "code",
   "execution_count": 62,
   "metadata": {},
   "outputs": [],
   "source": [
    "key = \"my_var\"\n",
    "value = 1.234\n",
    "\n",
    "old_way = \"%-10s = %.2f\" % (key, value)\n",
    "\n",
    "new_way = \"%(key)-10s = %(value).2f\" % {\n",
    "    \"key\": key, \"value\": value\n",
    "}\n",
    "\n",
    "reordered = \"%(key)-10s = %(value).2f\" % {\n",
    "    \"value\": value, \"key\": key\n",
    "}\n",
    "\n",
    "assert old_way == new_way == reordered"
   ]
  },
  {
   "cell_type": "code",
   "execution_count": 63,
   "metadata": {},
   "outputs": [
    {
     "name": "stdout",
     "output_type": "stream",
     "text": [
      "my_var = 1.234\n"
     ]
    }
   ],
   "source": [
    "# 要はフォーマット文字列が見やすいし、キャストの問題も解決してくれるからこれ使えってこと。\n",
    "\n",
    "key = \"my_var\"\n",
    "value = 1.234\n",
    "\n",
    "formatted = f\"{key} = {value}\"\n",
    "print(formatted)"
   ]
  },
  {
   "cell_type": "code",
   "execution_count": 64,
   "metadata": {},
   "outputs": [
    {
     "name": "stdout",
     "output_type": "stream",
     "text": [
      "'my_var'   = 1.23\n"
     ]
    }
   ],
   "source": [
    "formatted = f\"{key!r:<10} = {value:.2f}\"\n",
    "print(formatted)"
   ]
  },
  {
   "cell_type": "markdown",
   "metadata": {},
   "source": [
    "## 複雑な式の代わりにヘルパー関数を書く"
   ]
  },
  {
   "cell_type": "code",
   "execution_count": 65,
   "metadata": {},
   "outputs": [],
   "source": [
    "from urllib.parse import parse_qs"
   ]
  },
  {
   "cell_type": "code",
   "execution_count": 66,
   "metadata": {},
   "outputs": [
    {
     "name": "stdout",
     "output_type": "stream",
     "text": [
      "{'red': ['5'], 'blue': ['0'], 'green': ['']}\n"
     ]
    }
   ],
   "source": [
    "my_values = parse_qs(\"red=5&blue=0&green=\",\n",
    "                    keep_blank_values=True)\n",
    "print(repr(my_values))"
   ]
  },
  {
   "cell_type": "code",
   "execution_count": 67,
   "metadata": {},
   "outputs": [
    {
     "name": "stdout",
     "output_type": "stream",
     "text": [
      "red: ['5']\n",
      "green: ['']\n",
      "Opacity: None\n"
     ]
    }
   ],
   "source": [
    "print(\"red:\", my_values.get(\"red\"))\n",
    "print(\"green:\", my_values.get(\"green\"))\n",
    "print(\"Opacity:\", my_values.get(\"opacity\"))"
   ]
  },
  {
   "cell_type": "code",
   "execution_count": 68,
   "metadata": {},
   "outputs": [
    {
     "name": "stdout",
     "output_type": "stream",
     "text": [
      "red :   '5'\n"
     ]
    }
   ],
   "source": [
    "red = my_values.get(\"red\", [\"\"])[0] or 0\n",
    "print(f\"red :   {red!r}\")"
   ]
  },
  {
   "cell_type": "code",
   "execution_count": 69,
   "metadata": {},
   "outputs": [
    {
     "name": "stdout",
     "output_type": "stream",
     "text": [
      "5\n"
     ]
    }
   ],
   "source": [
    "# hard to see\n",
    "red = int(my_values.get(\"red\", [\"\"])[0] or 0)\n",
    "print(red)"
   ]
  },
  {
   "cell_type": "code",
   "execution_count": 70,
   "metadata": {},
   "outputs": [
    {
     "name": "stdout",
     "output_type": "stream",
     "text": [
      "5\n"
     ]
    }
   ],
   "source": [
    "from typing import List\n",
    "# So, by using ternary operator, it is easy to see\n",
    "red_str: List[str] = my_values.get(\"red\", [\"\"])\n",
    "red = int(red_str[0]) if red_str[0] else 0\n",
    "print(red)"
   ]
  },
  {
   "cell_type": "code",
   "execution_count": 71,
   "metadata": {},
   "outputs": [
    {
     "name": "stdout",
     "output_type": "stream",
     "text": [
      "0\n"
     ]
    }
   ],
   "source": [
    "green_str = my_values.get(\"green\", [\"\"])\n",
    "if green_str[0]:\n",
    "    green = int(green_str[0])\n",
    "else:\n",
    "    green = 0\n",
    "    \n",
    "print(green)"
   ]
  },
  {
   "cell_type": "code",
   "execution_count": 72,
   "metadata": {},
   "outputs": [
    {
     "name": "stdout",
     "output_type": "stream",
     "text": [
      "0\n"
     ]
    }
   ],
   "source": [
    "from typing import Dict\n",
    "# if you used the logic like this, you must use helper funciton\n",
    "def get_first_int(values: Dict[str, List[str]], key: str, default: int=0):\n",
    "    found = values.get(key, [\"\"])\n",
    "    if found[0]:\n",
    "        return int(found[0])\n",
    "    else:\n",
    "        return default\n",
    "    \n",
    "# this is more clear than others. (using \"or\", using Ternary Operator) \n",
    "green = get_first_int(my_values, \"green\")\n",
    "\n",
    "print(green)\n",
    "\n",
    "# the profit made by readabilty　is more than  the one made by code is simple\n",
    "# you should keep DRY on mind "
   ]
  },
  {
   "cell_type": "markdown",
   "metadata": {},
   "source": [
    "## インデックスではなく複数代入アンパックを使う。"
   ]
  },
  {
   "cell_type": "code",
   "execution_count": 73,
   "metadata": {},
   "outputs": [
    {
     "name": "stdout",
     "output_type": "stream",
     "text": [
      "(('chips', 140), ('popcorn', 80), ('nuts', 190))\n"
     ]
    }
   ],
   "source": [
    "snack_calories = {\n",
    "    \"chips\" : 140,\n",
    "    \"popcorn\" : 80,\n",
    "    \"nuts\" : 190,\n",
    "}\n",
    "\n",
    "items = tuple(snack_calories.items())\n",
    "print(items)"
   ]
  },
  {
   "cell_type": "code",
   "execution_count": 74,
   "metadata": {},
   "outputs": [
    {
     "name": "stdout",
     "output_type": "stream",
     "text": [
      "Peanut butter and Jelly\n"
     ]
    }
   ],
   "source": [
    "item = (\"Peanut butter\", \"Jelly\")\n",
    "first = item[0]\n",
    "second = item[1]\n",
    "\n",
    "print(first, \"and\", second)"
   ]
  },
  {
   "cell_type": "code",
   "execution_count": 75,
   "metadata": {},
   "outputs": [
    {
     "name": "stdout",
     "output_type": "stream",
     "text": [
      "Peanut butter and Jelly\n"
     ]
    }
   ],
   "source": [
    "first, second = item # unpack\n",
    "print(first, \"and\", second)"
   ]
  },
  {
   "cell_type": "code",
   "execution_count": 76,
   "metadata": {},
   "outputs": [
    {
     "name": "stdout",
     "output_type": "stream",
     "text": [
      "favarite salty is pretzels with 100 calories\n",
      "favarite sweet is cookies with 180 calories\n",
      "favarite veggie is carrotes with 20 calories\n"
     ]
    }
   ],
   "source": [
    "favorite_snacks = {\n",
    "    \"salty\": (\"pretzels\", 100),\n",
    "    \"sweet\": (\"cookies\", 180),\n",
    "    \"veggie\": (\"carrotes\", 20),\n",
    "}\n",
    "\n",
    "((type1, (name1, cals1)),\n",
    " (type2, (name2, cals2)),\n",
    " (type3, (name3, cals3))) = favorite_snacks.items()\n",
    "\n",
    "print(f\"favarite {type1} is {name1} with {cals1} calories\")\n",
    "print(f\"favarite {type2} is {name2} with {cals2} calories\")\n",
    "print(f\"favarite {type3} is {name3} with {cals3} calories\")"
   ]
  },
  {
   "cell_type": "code",
   "execution_count": 77,
   "metadata": {},
   "outputs": [
    {
     "name": "stdout",
     "output_type": "stream",
     "text": [
      "['arugula', 'bacon', 'carrots', 'pretzels']\n"
     ]
    }
   ],
   "source": [
    "from typing import List, Union\n",
    "# bubble sort\n",
    "def bubble_sort(a: List[Union[str, float]]):\n",
    "    for _ in range(1, len(a)):\n",
    "        for i in range(1, len(a)):\n",
    "            if a[i] < a[i-1]:\n",
    "                tmp = a[i]\n",
    "                a[i] = a[i-1]\n",
    "                a[i-1] = tmp\n",
    "                \n",
    "                \n",
    "names = [\"pretzels\", \"carrots\", \"arugula\", \"bacon\"]\n",
    "bubble_sort(names)\n",
    "print(names)"
   ]
  },
  {
   "cell_type": "code",
   "execution_count": 78,
   "metadata": {},
   "outputs": [
    {
     "name": "stdout",
     "output_type": "stream",
     "text": [
      "[1, 2, 5, 7, 8, 8, 10, 11]\n"
     ]
    }
   ],
   "source": [
    "nums = [ 1, 2, 5, 11, 7, 8, 8, 10]\n",
    "bubble_sort(nums)\n",
    "print(nums)"
   ]
  },
  {
   "cell_type": "code",
   "execution_count": 79,
   "metadata": {},
   "outputs": [],
   "source": [
    "def bubble_sort2(a: List[int], i: int)-> List[int]:\n",
    "    if a[i] < a[i-1]:\n",
    "        tmp = a[i]\n",
    "        a[i] = a[i-1]\n",
    "        a[i-1] = tmp\n",
    "        return a\n",
    "    else:\n",
    "        return a"
   ]
  },
  {
   "cell_type": "code",
   "execution_count": 80,
   "metadata": {},
   "outputs": [],
   "source": [
    "import numpy as np\n",
    "from matplotlib import pyplot as plt\n",
    "from matplotlib import animation\n",
    "from IPython.display import HTML\n",
    "%matplotlib inline"
   ]
  },
  {
   "cell_type": "code",
   "execution_count": 81,
   "metadata": {},
   "outputs": [
    {
     "data": {
      "text/html": [
       "\n",
       "<link rel=\"stylesheet\"\n",
       "href=\"https://maxcdn.bootstrapcdn.com/font-awesome/4.4.0/css/font-awesome.min.css\">\n",
       "<script language=\"javascript\">\n",
       "  function isInternetExplorer() {\n",
       "    ua = navigator.userAgent;\n",
       "    /* MSIE used to detect old browsers and Trident used to newer ones*/\n",
       "    return ua.indexOf(\"MSIE \") > -1 || ua.indexOf(\"Trident/\") > -1;\n",
       "  }\n",
       "\n",
       "  /* Define the Animation class */\n",
       "  function Animation(frames, img_id, slider_id, interval, loop_select_id){\n",
       "    this.img_id = img_id;\n",
       "    this.slider_id = slider_id;\n",
       "    this.loop_select_id = loop_select_id;\n",
       "    this.interval = interval;\n",
       "    this.current_frame = 0;\n",
       "    this.direction = 0;\n",
       "    this.timer = null;\n",
       "    this.frames = new Array(frames.length);\n",
       "\n",
       "    for (var i=0; i<frames.length; i++)\n",
       "    {\n",
       "     this.frames[i] = new Image();\n",
       "     this.frames[i].src = frames[i];\n",
       "    }\n",
       "    var slider = document.getElementById(this.slider_id);\n",
       "    slider.max = this.frames.length - 1;\n",
       "    if (isInternetExplorer()) {\n",
       "        // switch from oninput to onchange because IE <= 11 does not conform\n",
       "        // with W3C specification. It ignores oninput and onchange behaves\n",
       "        // like oninput. In contrast, Mircosoft Edge behaves correctly.\n",
       "        slider.setAttribute('onchange', slider.getAttribute('oninput'));\n",
       "        slider.setAttribute('oninput', null);\n",
       "    }\n",
       "    this.set_frame(this.current_frame);\n",
       "  }\n",
       "\n",
       "  Animation.prototype.get_loop_state = function(){\n",
       "    var button_group = document[this.loop_select_id].state;\n",
       "    for (var i = 0; i < button_group.length; i++) {\n",
       "        var button = button_group[i];\n",
       "        if (button.checked) {\n",
       "            return button.value;\n",
       "        }\n",
       "    }\n",
       "    return undefined;\n",
       "  }\n",
       "\n",
       "  Animation.prototype.set_frame = function(frame){\n",
       "    this.current_frame = frame;\n",
       "    document.getElementById(this.img_id).src =\n",
       "            this.frames[this.current_frame].src;\n",
       "    document.getElementById(this.slider_id).value = this.current_frame;\n",
       "  }\n",
       "\n",
       "  Animation.prototype.next_frame = function()\n",
       "  {\n",
       "    this.set_frame(Math.min(this.frames.length - 1, this.current_frame + 1));\n",
       "  }\n",
       "\n",
       "  Animation.prototype.previous_frame = function()\n",
       "  {\n",
       "    this.set_frame(Math.max(0, this.current_frame - 1));\n",
       "  }\n",
       "\n",
       "  Animation.prototype.first_frame = function()\n",
       "  {\n",
       "    this.set_frame(0);\n",
       "  }\n",
       "\n",
       "  Animation.prototype.last_frame = function()\n",
       "  {\n",
       "    this.set_frame(this.frames.length - 1);\n",
       "  }\n",
       "\n",
       "  Animation.prototype.slower = function()\n",
       "  {\n",
       "    this.interval /= 0.7;\n",
       "    if(this.direction > 0){this.play_animation();}\n",
       "    else if(this.direction < 0){this.reverse_animation();}\n",
       "  }\n",
       "\n",
       "  Animation.prototype.faster = function()\n",
       "  {\n",
       "    this.interval *= 0.7;\n",
       "    if(this.direction > 0){this.play_animation();}\n",
       "    else if(this.direction < 0){this.reverse_animation();}\n",
       "  }\n",
       "\n",
       "  Animation.prototype.anim_step_forward = function()\n",
       "  {\n",
       "    this.current_frame += 1;\n",
       "    if(this.current_frame < this.frames.length){\n",
       "      this.set_frame(this.current_frame);\n",
       "    }else{\n",
       "      var loop_state = this.get_loop_state();\n",
       "      if(loop_state == \"loop\"){\n",
       "        this.first_frame();\n",
       "      }else if(loop_state == \"reflect\"){\n",
       "        this.last_frame();\n",
       "        this.reverse_animation();\n",
       "      }else{\n",
       "        this.pause_animation();\n",
       "        this.last_frame();\n",
       "      }\n",
       "    }\n",
       "  }\n",
       "\n",
       "  Animation.prototype.anim_step_reverse = function()\n",
       "  {\n",
       "    this.current_frame -= 1;\n",
       "    if(this.current_frame >= 0){\n",
       "      this.set_frame(this.current_frame);\n",
       "    }else{\n",
       "      var loop_state = this.get_loop_state();\n",
       "      if(loop_state == \"loop\"){\n",
       "        this.last_frame();\n",
       "      }else if(loop_state == \"reflect\"){\n",
       "        this.first_frame();\n",
       "        this.play_animation();\n",
       "      }else{\n",
       "        this.pause_animation();\n",
       "        this.first_frame();\n",
       "      }\n",
       "    }\n",
       "  }\n",
       "\n",
       "  Animation.prototype.pause_animation = function()\n",
       "  {\n",
       "    this.direction = 0;\n",
       "    if (this.timer){\n",
       "      clearInterval(this.timer);\n",
       "      this.timer = null;\n",
       "    }\n",
       "  }\n",
       "\n",
       "  Animation.prototype.play_animation = function()\n",
       "  {\n",
       "    this.pause_animation();\n",
       "    this.direction = 1;\n",
       "    var t = this;\n",
       "    if (!this.timer) this.timer = setInterval(function() {\n",
       "        t.anim_step_forward();\n",
       "    }, this.interval);\n",
       "  }\n",
       "\n",
       "  Animation.prototype.reverse_animation = function()\n",
       "  {\n",
       "    this.pause_animation();\n",
       "    this.direction = -1;\n",
       "    var t = this;\n",
       "    if (!this.timer) this.timer = setInterval(function() {\n",
       "        t.anim_step_reverse();\n",
       "    }, this.interval);\n",
       "  }\n",
       "</script>\n",
       "\n",
       "<style>\n",
       ".animation {\n",
       "    display: inline-block;\n",
       "    text-align: center;\n",
       "}\n",
       "input[type=range].anim-slider {\n",
       "    width: 374px;\n",
       "    margin-left: auto;\n",
       "    margin-right: auto;\n",
       "}\n",
       ".anim-buttons {\n",
       "    margin: 8px 0px;\n",
       "}\n",
       ".anim-buttons button {\n",
       "    padding: 0;\n",
       "    width: 36px;\n",
       "}\n",
       ".anim-state label {\n",
       "    margin-right: 8px;\n",
       "}\n",
       ".anim-state input {\n",
       "    margin: 0;\n",
       "    vertical-align: middle;\n",
       "}\n",
       "</style>\n",
       "\n",
       "<div class=\"animation\">\n",
       "  <img id=\"_anim_img601fa0c27dad4228b1b7f5cc810889b7\">\n",
       "  <div class=\"anim-controls\">\n",
       "    <input id=\"_anim_slider601fa0c27dad4228b1b7f5cc810889b7\" type=\"range\" class=\"anim-slider\"\n",
       "           name=\"points\" min=\"0\" max=\"1\" step=\"1\" value=\"0\"\n",
       "           oninput=\"anim601fa0c27dad4228b1b7f5cc810889b7.set_frame(parseInt(this.value));\"></input>\n",
       "    <div class=\"anim-buttons\">\n",
       "      <button title=\"Decrease speed\" onclick=\"anim601fa0c27dad4228b1b7f5cc810889b7.slower()\">\n",
       "          <i class=\"fa fa-minus\"></i></button>\n",
       "      <button title=\"First frame\" onclick=\"anim601fa0c27dad4228b1b7f5cc810889b7.first_frame()\">\n",
       "        <i class=\"fa fa-fast-backward\"></i></button>\n",
       "      <button title=\"Previous frame\" onclick=\"anim601fa0c27dad4228b1b7f5cc810889b7.previous_frame()\">\n",
       "          <i class=\"fa fa-step-backward\"></i></button>\n",
       "      <button title=\"Play backwards\" onclick=\"anim601fa0c27dad4228b1b7f5cc810889b7.reverse_animation()\">\n",
       "          <i class=\"fa fa-play fa-flip-horizontal\"></i></button>\n",
       "      <button title=\"Pause\" onclick=\"anim601fa0c27dad4228b1b7f5cc810889b7.pause_animation()\">\n",
       "          <i class=\"fa fa-pause\"></i></button>\n",
       "      <button title=\"Play\" onclick=\"anim601fa0c27dad4228b1b7f5cc810889b7.play_animation()\">\n",
       "          <i class=\"fa fa-play\"></i></button>\n",
       "      <button title=\"Next frame\" onclick=\"anim601fa0c27dad4228b1b7f5cc810889b7.next_frame()\">\n",
       "          <i class=\"fa fa-step-forward\"></i></button>\n",
       "      <button title=\"Last frame\" onclick=\"anim601fa0c27dad4228b1b7f5cc810889b7.last_frame()\">\n",
       "          <i class=\"fa fa-fast-forward\"></i></button>\n",
       "      <button title=\"Increase speed\" onclick=\"anim601fa0c27dad4228b1b7f5cc810889b7.faster()\">\n",
       "          <i class=\"fa fa-plus\"></i></button>\n",
       "    </div>\n",
       "    <form title=\"Repetition mode\" action=\"#n\" name=\"_anim_loop_select601fa0c27dad4228b1b7f5cc810889b7\"\n",
       "          class=\"anim-state\">\n",
       "      <input type=\"radio\" name=\"state\" value=\"once\" id=\"_anim_radio1_601fa0c27dad4228b1b7f5cc810889b7\"\n",
       "             >\n",
       "      <label for=\"_anim_radio1_601fa0c27dad4228b1b7f5cc810889b7\">Once</label>\n",
       "      <input type=\"radio\" name=\"state\" value=\"loop\" id=\"_anim_radio2_601fa0c27dad4228b1b7f5cc810889b7\"\n",
       "             checked>\n",
       "      <label for=\"_anim_radio2_601fa0c27dad4228b1b7f5cc810889b7\">Loop</label>\n",
       "      <input type=\"radio\" name=\"state\" value=\"reflect\" id=\"_anim_radio3_601fa0c27dad4228b1b7f5cc810889b7\"\n",
       "             >\n",
       "      <label for=\"_anim_radio3_601fa0c27dad4228b1b7f5cc810889b7\">Reflect</label>\n",
       "    </form>\n",
       "  </div>\n",
       "</div>\n",
       "\n",
       "\n",
       "<script language=\"javascript\">\n",
       "  /* Instantiate the Animation class. */\n",
       "  /* The IDs given should match those used in the template above. */\n",
       "  (function() {\n",
       "    var img_id = \"_anim_img601fa0c27dad4228b1b7f5cc810889b7\";\n",
       "    var slider_id = \"_anim_slider601fa0c27dad4228b1b7f5cc810889b7\";\n",
       "    var loop_select_id = \"_anim_loop_select601fa0c27dad4228b1b7f5cc810889b7\";\n",
       "    var frames = new Array(9);\n",
       "    \n",
       "  frames[0] = \"data:image/png;base64,iVBORw0KGgoAAAANSUhEUgAAAbAAAAEgCAYAAADVKCZpAAAAOXRFWHRTb2Z0d2FyZQBNYXRwbG90\\\n",
       "bGliIHZlcnNpb24zLjMuMSwgaHR0cHM6Ly9tYXRwbG90bGliLm9yZy/d3fzzAAAACXBIWXMAAAsT\\\n",
       "AAALEwEAmpwYAAArSklEQVR4nO3deXhU1f0G8PdM9o0kk02ykJmwBIJIIBugsrhSte5WbRVQrEu1\\\n",
       "aq212p+tVbu41WrVWlEE3GuVKi7gHsCFQMKeZZJAQjaSmez7NnN+fyRRoAFCMjNn7sz7eZ4+hGHI\\\n",
       "fDuYvLnnvvdcIaUEERGR1uhUD0BERDQaDDAiItIkBhgREWkSA4yIiDSJAUZERJrEACMiIk1igBER\\\n",
       "kSYxwIiISJMYYEREpEkMMCIi0iQGGBERaRIDjIiINIkBRkREmsQAIyIiTWKAERGRJjHAiIhIkxhg\\\n",
       "RESkSQwwIiLSJAYYERFpEgOMiIg0iQFGRESaxAAjIiJNYoAREZEmMcCIiEiTGGBERKRJDDAiItIk\\\n",
       "BhgREWkSA4yIiDSJAUZERJrEACMiIk1igBERkSYxwIiISJMYYEREpEkMMCIi0iRv1QM4SmRkpDQY\\\n",
       "DKrHICLSlLy8vHopZZTqOUbCbQPMYDAgNzdX9RhERJoihDigeoaR4hIiERFpEgOMiIg0iQFGRESa\\\n",
       "xAAjIiJNYoAREZEmMcCIiEiTGGCkCQU1rejtt6keg4hcCAOMXF5VUycueGYznv2yRPUoRORCGGDk\\\n",
       "8r4yWWCTwOs5Fejus6oeh4hcBAOMXN5Gkxl+3jo0dPTio90HVY9DRC6CAUYuraffim/3NeAn6QmY\\\n",
       "FB2M1d+WQ0qpeiwicgEMMHJp28qa0NlrxaKpUVg6NxF7qluwvaJZ9VhE5AIYYOTSsk1m+HrrMDcp\\\n",
       "EpfOjkeInzdWf1uueiwicgEMMHJp2cUWZBn1CPD1QpCfN65IT8D6PQdR19qtejQiUowBRi6rqqkT\\\n",
       "peZ2LEyO/v6xJXMTYZUSr2/RzB0fiMhBGGDksrJNFgDAwuQf7q1niAzCouRovLG1Aj39rNQTeTIG\\\n",
       "GLmsbJMFCfoAJEUGHfb4snkG1LezUk/k6Rhg5JIG6vP1WDglGkKIw/7stEmRSIoKYqWeyMMxwMgl\\\n",
       "5ZYP1OcPXT4cotMJLJtnwO6qFuyobHb+cETkEhhg5JKyTWb4eukwd2LEsH9+6ex4BPt5Yw0r9UQe\\\n",
       "iwFGLinbZEFWkh6Bvt7D/nmwnzeuSI/HR7sPwsxKPZFHYoCRy6lu7kKJuR0Lpvzv8uGhlsw1oN8m\\\n",
       "8XpOhZMmIyJXwgAjl5NtMgPAYdd/DccYGYRFyVF4PaeC9woj8kAuF2BCiJeFEGYhxN5DHtMLIT4T\\\n",
       "QpQM/hquckZyrGyTBfHhAZgYFXTc5y6dZ0B9ew8+3sNKPZGncbkAA7AawOIjHrsXwBdSyskAvhj8\\\n",
       "Pbmh3n4bvi2tx8LkqP+pzw9n/uQoJEUGYRXLHEQex+UCTEq5CUDjEQ9fBGDN4MdrAFzszJnIeXLL\\\n",
       "G9HRa8XCKcdePhyi0wksmZuIXZXN2FHR5ODpiMiVuFyAHUWMlHJojagWQIzKYchxsost8PXSYd6k\\\n",
       "4evzw7ksjZV6FXZWNmPDXi7dkjpaCbDvyYGtF4bdfkEIcaMQIlcIkWuxWJw8GdlDtsmMTOPR6/PD\\\n",
       "CfH3weVp8fhoz0GY21ipdwZTbRuufSkHd729C31WFmhIDa0EWJ0QYjwADP5qHu5JUsoVUsp0KWV6\\\n",
       "VNSxK9jkemqau1Bcd/z6/HCWzE1En1XiDVbqHc7S1oPrV29DV58Vnb1W7K1uUT0SeSitBNg6AEsH\\\n",
       "P14K4H2Fs5CDDLf7/EglRQVjwRRW6h2tq9eKG17JRWNHL15ckg4A2Fp25ClrIudwuQATQrwJ4DsA\\\n",
       "yUKIKiHEcgCPADhbCFEC4KzB35ObyTaZERcWgEnRwaP6+8tONcDS1oP1PC/jEDabxF1v78TuqmY8\\\n",
       "fVUqFk2NRlJUEHIYYKTIyE80OImU8uqj/NGZTh2EnKq334ZvSutx0ay4EdXnh7NgchSMkQO71F+U\\\n",
       "GmfnCemxT0xYv7cW958/DedMPwkAkGWMwIe7a2C1SXjpRvfvRjRaLncERp4p98BQfX705y6HKvU7\\\n",
       "Kpqxi7vU29VbWyvwr4378LOsCVh+mvH7x7OMerR196PwYKvC6chTMcDIJWw0WeDjJTBvUuSYPs/l\\\n",
       "afEI8vVipd6Ovimtx/3v7cX8KVF48MLphx0hZxr1AHgejNRggJFLyDZZkGHQI9hvbKvaQ5X6D3bX\\\n",
       "wNLWY6fpPFdJXRtufi0PE6OC8dxPZ8Hb6/BvGbFhAUjQByCnrEHRhOTJGGCkXE1zF0x1baNqHw5n\\\n",
       "yTwD+qwSb25lpX4s6tt7cN3qbfDz9sLKZekI8fcZ9nlZxghsLWuEzca7Y5NzMcBIuY3FQ/X5kW0f\\\n",
       "dTwTo4Ixf0oUXttygJX6Uerus+Lnr+Sivr0HK5emIz488KjPzTTq0dTZh1JLuxMnJGKAkQvINpkR\\\n",
       "G+qPyaOszw9n2bxEmNt6sCG/1m6f01PYbBK//s8u7KxsxlNXpmJmQtgxnz/HOLDtV85+LiOSczHA\\\n",
       "SKmB+nwDFiRHj7o+P5yFU6KRGBHIMsco/O0zEz7afRD3Lp6KxSePP+7zE/QBGB/qz+vByOkYYKRU\\\n",
       "3oEmtPf02+3815CBSr0BeQeasKeKWx2N1Nu5lXjuq324OjMBN85PGtHfEUIg06hHTlkjBrYqJXIO\\\n",
       "BhgplV1sho+XwKljrM8P54r0eAT6emE1j8JG5Nt99fjd2j04fXIkHrro5BM6Is4yRsDS1oPyhk4H\\\n",
       "Tkh0OAYYKbXRZEF64tjr88MZ5++Dy2bH44NdNahvZ6X+WErN7bj51TwYI4Pw3M9mw8frxL41DF0P\\\n",
       "xvNg5EwMMFLmYEsXimrtV58fztJ5iei12vAWK/VH1dA+sLu8r7cOLy/LwLij1OWPZWJUECKDfXke\\\n",
       "jJyKAUbKbDTZtz4/nEnRITh9ciRe3XKA960aRnefFTe+moe61m68uCQdCfqj1+WPZeg8GHfkIGdi\\\n",
       "gJEy2SYLxof6Y0qM/erzw1k2z4C61h58wkr9YaSUuOed3cg70IS/X5mKWRPCx/T5sowRqG7uQmUj\\\n",
       "z4ORczDASIk+68Du8wuTo+xanx/OwuRoTNAHYvU35Q59Ha35+2fFWLerBvcsTsZ5M45flz+erCTu\\\n",
       "i0jOxQAjJfIONKGtpx8Lpjhu+XCI1+Au9bkHmnj34EHv5lXhH1+W4sr0BNyyYKJdPueU6BCEBfpw\\\n",
       "X0RyGgYYKZFtssBbJ3DqpAinvN4V6QkI8GGlHgC27G/AvWt3Y97ECPzpkhOryx+LTieQYeB5MHIe\\\n",
       "BhgpkW0yI90QftQNYu0tNMAHl6XFYd2uGjR4cKV+v6UdN72ahwn6QDz/s7QTrssfT5ZRj/KGTtS1\\\n",
       "dtv18xINhwFGTlfb0j1Yn3f88uGhls41oLffhre2VTr1dV1FY0cvrl+9Dd46gVXLMhEaaP8fHrIG\\\n",
       "90XcwuvByAkYYOR0G4vNAODQ67+GMzkmBKdNisRrHlip7+m34qZXc1HT0o0VS9IxIWJ0dfnjmTY+\\\n",
       "BMF+3lxGJKdggJHTZZssOGmcP5JjQpz+2kvnGXCwpRuf5tc5/bVVkVLi3nf3YFt5E/52xUykJY6t\\\n",
       "Ln8s3l46pBvCeUEzOQUDjJyqz2rD1yXOqc8P54yp0UjQB3jULvVPf1GC/+6oxt3nTMGPZ8Y6/PWy\\\n",
       "jBEoNbdz+y5yOAYYOdX2wfq8s5cPh3jpBJbMMWBreSPya9y/Uv/ejmo89XkJLpsdj1sXTXLKaw7t\\\n",
       "i7iNR2HkYAwwcqrs4qH6vP13nx+pnwxW6t39KGxrWSPueWc35iTp8ddLZzjtiHdGXCgCfLy4jEgO\\\n",
       "xwAjp8o2WZCW6Lz6/HBCA31wyew4vLezBo0dvcrmcKTy+g7c9Gou4sMD8K9r0uDr7bwvdV9vHWYn\\\n",
       "hjHAyOEYYOQ0da3dKDzY6vT6/HCWzRuq1LvfLvXNnQN1eQBYdV0GwgJ9nT5DljECRbWtaOnsc/pr\\\n",
       "k+dggJHT/LD7vJrzX4eaEhOCeRMj8Np3B9DvRpX63n4bbno1D1VNXVixJB2JEUFK5sg06iElsK2c\\\n",
       "R2HkOAwwcprsYjNOGuePqSc5vz4/nGXzDKhp6cZnBe5RqZdS4t61u5FT1ojHLj8FGQa9sllSE8Lg\\\n",
       "663jvojkUAwwcop+qw2bS+qxYIqa+vxwzpwWg/jwAKxykzLHs1+WYu32atx51mRcPCtO6Sz+Pl5I\\\n",
       "TQjjBc3kUAwwcortFc1o61ZXnx/O0C71W8saUVDTqnqcMXl/ZzX+9lkxLpkVhzvOnKx6HAAD+yLu\\\n",
       "rWlFe0+/6lHITTHAyCmyTeaB+vxkdfX54fwkPQH+PjpNV+rzDjTiN+/sRqZBj0cuc15d/niyjBGw\\\n",
       "2iTyDjSpHoXcFAOMnCLbZMHsxHCMU1ifH05YoC8umRWP93ZWo0mDlfoDDR34+St5iA31xwvXpsHP\\\n",
       "20v1SN+bnRgGb51ADjf2JQfRTIAJIX4lhMgXQuwVQrwphPBXPRONjLm1GwUHW11q+fBQS+clokeD\\\n",
       "u9S3dPbhutXbYJMSLy/LQHiQ8+vyxxLo640Z8aE8D0YOo4kAE0LEAbgdQLqU8mQAXgCuUjsVjVR2\\\n",
       "8WB93gl3Xx6NqSeNw9ykCLy2RTuV+t5+G25+LQ+VjZ144Zo0JEUFqx5pWJlGPXZVNaOr16p6FHJD\\\n",
       "mgiwQd4AAoQQ3gACAdQonodGaKPJgphxfpg23jXq88NZOs+A6uYufF7o+pV6KSX+77978N3+Bjxy\\\n",
       "6SnISnLOXa1HY44xAn1WiR0VPA9G9qeJAJNSVgN4AkAFgIMAWqSUn6qdikZioD5vcan6/HDOmhaN\\\n",
       "uLAArHbxMkdNcxdue2MH/pNXhdvPmITL0uJVj3RMaYZw6AS4rRQ5hCYCTAgRDuAiAEYAsQCChBDX\\\n",
       "DPO8G4UQuUKIXIvF4uwxaRg7KpvR2t3vEttHHYu3lw7Xzk3Elv2NKDzoepX67j4r/vFFCc74WzY+\\\n",
       "L6zDXWdPwa/OnqJ6rOMa5++DlNhxvKCZHEITAQbgLABlUkqLlLIPwFoA8458kpRyhZQyXUqZHhXl\\\n",
       "moUBT5NtMsNL8e7zI3VVxkCl/pXvylWP8j0pJTbsrcVZT27Ek58VY1FyND6/awFuP3OySx/RHirL\\\n",
       "GIEdFc3o6ed5MLIvrQRYBYA5QohAMfBVeyaAQsUz0QhkmyxImxCO0ADXqs8PJyzQFxenxuG/O6rR\\\n",
       "3Km+Ul9c14ZrVubg5tfyEOjrhTduyMLz16QhQR+oerQTkmnUo6ffht1V7n//NXIuTQSYlDIHwDsA\\\n",
       "tgPYg4G5Vygdio7L3NaN/JpWLHDR+vxwls4zoLvPhn8rrNS3dPXhwQ/y8aOnN2NPVQsevHA6Pr79\\\n",
       "dMzTwFHscDIH92RknZ7szVv1ACMlpXwAwAOq56CRc6Xd50dq2vhxyDLq8cp3B3DD6Unw0jlvmc5q\\\n",
       "k3g7txKPf2JCU2cvrs6cgLvPSYbexa7vOlHhQb5IjgnBlv0NTrsrNHkGTRyBkTZlF1sQHeKHlPHj\\\n",
       "VI9yQpYpqNTnljfioue+xn1r92BiVBA+uO00/OWSGZoPryFZSXrkHWhCn0ausyNtYICRQ/Rbbdhc\\\n",
       "7Pr1+eGcnRKD2FB/rP6m3OGvVdvSjTvf2oHL//Ud6tt68fRVqXj7prk4OS7U4a/tTFnGCHT2WpGv\\\n",
       "8U2TybVoZgmRtGWnRurzw/H20uGauYl4bIMJpto2JDvg/mU9/Va8tLkMz31Vin6bxG2LJuEXiyYi\\\n",
       "0Nc9vyQzjOEAgJz9DUhNCFM7DLkNHoGRQ2SbLPDSCZzmYrvPj9RVGRPg562z+4XNUkp8XlCHc/6+\\\n",
       "CY9/YsJpkyLx+a8W4O5zk902vAAgOsQfSVFBLHKQXTHAyCGyi82YPSFME/X54eiDfHFRaiz+u6MK\\\n",
       "LZ19dvmcpeZ2LF21DTe8kgsfLx1eXZ6JFUvSMSFCW7X40coy6rG1vBFWm1Q9CrkJBhjZnbmtG3ur\\\n",
       "WzW5fHio7yv1uRVj+jyt3X3480cFWPzUJuw40ITfX5CC9XecjtMna6edaQ9Zxgi0dfejqJbnwcg+\\\n",
       "3HfNgpTZVFwPAFgwRdvfoKfHhiLTMFCpX37aiVfqbTaJd7ZX4bENRWjo6MWV6Qm4+9xkRAb7OWhi\\\n",
       "15ZpHLgeLGd/I6bHuldJhdTgERjZXbbJjKgQP0yP1VZ9fjjLTjWgqqkLX5xgpX5HRRMu+ec3uOed\\\n",
       "3ZigD8T7t56KRy47xWPDCwBiwwKQoA/geTCyGx6BkV0N7D5fj7NTYjRXnx/OOSkxGB/qjzXfleOc\\\n",
       "6Scd9/nmtm48ut6Ed7dXITrED0/+ZCYuTo2DzokXRLuyTEMEvjKZIaV0i/8+SC0egZFd7apqRktX\\\n",
       "n6Z23zgWby8drpmTiG9KG1Bc13bU5/X227Bi0z6c8cRGrNtVjZsXTMSXdy/EpbPjGV6HyErSo7Gj\\\n",
       "FyXmdtWjkBtggJFdZZss0Ang9EnuEWAAcHXmBPh667DmKJX6r0xmLH5qE/7ycRGyjHp8+qsFuPdH\\\n",
       "UxHsxwWOI80xDtx8k/cHI3tggJFdZZssmD0hHKGB2qzPD0cf5IuLZsZi7fbqwyr1ZfUduH71Nly3\\\n",
       "ahsAYNV1GVi5LAPGyCBVo7q8BH0AThrnj5z9vD8YjR0DjOzG0taDPdUtbrN8eKil8wzo6rPiP3mV\\\n",
       "aO/pxyPri3DO3zdia1kjfnfeVGy4cz4WafyyAWcQQiArSY+tZY2QkteD0dhwjYPsZlPx0O7z7veN\\\n",
       "/OS4UGQYwvHCpv1YsWk/zG09uDwtHvcsTkZ0iL/q8TQl06jH+ztrUN7QyaNVGhMegZHdZBdbEBms\\\n",
       "vd3nR2r5aUZY2nowPtQf//3FPDxxxUyG1yhkDZ4H21rGZUQaGx6BkV1YbRKbSyw4c2qM27buFp88\\\n",
       "Hp/9aj4mRgW77f9HZ5gYFYTIYF/k7G/ElRkTVI9DGsYAI7vYWdmM5k73qc8fzeQY++9M72mEEMg0\\\n",
       "6tlEpDHjEiLZxUaTeaA+r9Hd58m5sowRqG7uQlVTp+pRSMMYYGQX2cUWzJoQjrBA97iDMDnWofsi\\\n",
       "Eo0WA4zGrL69B7urWrBQ45v3kvMkx4QgNMCH+yLSmDDAaMzcuT5PjqHTCWQY9MhhE5HGgAFGY5Zt\\\n",
       "siAy2Nctdp8n55mTpEd5QyfqWrtVj0IaxQCjMbHaJDaVWDB/ShSr5XRCvj8PxmVEGiUGGI3Jrqqh\\\n",
       "+jyXD+nEpIwfh2A/b17QTKPGAKMxGdp9fj7r83SCvL10SDeEs4lIo8YAozHZaDIjNSGM9XkalUyj\\\n",
       "HiXmdjS096gehTSIAUaj1tDeg93VLVw+pFEb2hdxWzmPwujEMcBo1DaVWCAl3H77KHKcGXGh8PfR\\\n",
       "YQuXEWkUGGA0akP1+ZNjQ1WPQhrl661DWmI4L2imUWGA0ahYbRKbii2YP5n1eRqbTEMECmtbD7vb\\\n",
       "NdFIaCbAhBBhQoh3hBBFQohCIcRc1TN5st1VzWjq7MMCLh/SGGUl6SElkHuAR2F0YjQTYACeBrBB\\\n",
       "SjkVwEwAhYrn8Wg/1OcZYDQ2qQlh8PXS8YJmOmGauB+YECIUwHwAywBAStkLoFflTJ4uu9iCmQlh\\\n",
       "CA9ifZ7Gxt/HC6kJYcjZzwua6cRo5QjMCMACYJUQYocQ4iUhRJDqoTxVQ3sPdlc1Y+EU1ufJPrKS\\\n",
       "9Nhb04r2nn7Vo2han9WGRzcUoanDM36+10qAeQOYDeB5KeUsAB0A7j3ySUKIG4UQuUKIXIvF4uwZ\\\n",
       "PcbmknrW58muMo16WG0SeQeaVI+iWVJK/OH9fDyfvQ+bS+tVj+MUWgmwKgBVUsqcwd+/g4FAO4yU\\\n",
       "coWUMl1KmR4VxW+ujpJtMiMiyBcz4lifJ/tISwyHt05wX8QxeHHzfry5tQK3LJyIC2fGqh7HKTQR\\\n",
       "YFLKWgCVQojkwYfOBFCgcCSPZbNJbCqp5+7zZFeBvt44OS6U+yKO0oa9tfjr+iKcP2M8fnNO8vH/\\\n",
       "gpvQRIAN+iWA14UQuwGkAviL2nE80+7qFjR29HL5kOwuK0mPXVXN6O6zqh5FU3ZVNuPOf+/AzPgw\\\n",
       "/O0nMz3qB0vNBJiUcufg8uApUsqLpZRcLFcg22SGEMDprM+Tnc0xRqDPKrG9gl/aI1Xd3IUbXslF\\\n",
       "ZLAfXlySDn8fL9UjOZVmAoxcQ7bJgpnxYdCzPk92lmYIh06Ay4gj1Nbdh+tXbUN3rxWrlmUgKsRP\\\n",
       "9UhOxwCjEWvs6MWuqmYuH5JDjPP3QUrsOO6LOAL9Vhtue2MHSi3t+Oc1szE5JkT1SEowwGjENn+/\\\n",
       "+zyv/yLHyDREYHtFE3r6eR7saKSU+OMH+dhYbMGfLj7Zo5fzGWA0YtkmC/RBvjiF9XlykKwkPXr6\\\n",
       "bdhT1aJ6FJe18usyvLalAjfNT8LVmRNUj6MUA4xGxPb97vORHtVyIufKMOgBgPsiHsWn+bX488eF\\\n",
       "WDz9JPx28VTV4yjHAKMR2VPdgoaOXi4fkkPpg3yRHBPCABvGnqoW3PHWTpwSF4q/X5nKHyTBAKMR\\\n",
       "yjZZIAQwf4rnrreTc2Ql6ZFX3oh+q031KC6jprkLy9dsgz7IFy8uTUeAr2fV5Y+GAUYjkl1sxims\\\n",
       "z5MTZBr16Oi1Ir+mVfUoLqG9px/L1+Sis9eKl5dlIDrEX/VILoMBRsfV1NGLnZXNWMijL3KCTOPQ\\\n",
       "eTDui9hvteH2N3eguK4Nz/1sNpJP8sy6/NEwwOi4Nn1fn2eAkeNFh/gjKTKIFzQD+NNHhfiyyIwH\\\n",
       "L5yOBfwB8n8wwOi4NposCA/0wSnxYapHIQ+RlaTH1vJGWG1S9SjKrP6mDKu/LccNpxlxzZxE1eO4\\\n",
       "JAYYHZPNJrGx2IL5U6LgxdYTOUmmUY+27n4U1XrmebAvi+rw0IcFODslBvedN031OC6LAUbHtLdm\\\n",
       "qD7P5QtynixjBAB45LZS+TUtuO2NHZgeG4qnr0rlD47HwACjY/q+Pu/B29WQ88WGBSBBH+Bx58Fq\\\n",
       "W7qxfHUuQgN88NLSdAT6eqseyaUxwOiYviwy45S4UEQEe95O16RWpiECW8sbIaVnnAfr6OnH8jXb\\\n",
       "0Nbdh5eXZSBmHOvyx8MAo6PaVGzBzspm/NhDbk9OriUrSY/Gjl6UmttVj+JwVpvEHW/tQOHBVjz7\\\n",
       "09mYNn6c6pE0gQFGw+q32vCnjwowQR+Ia+eyAUXOlzV4PdgWDzgP9uePCvF5oRl/vHA6Fk3ldm0j\\\n",
       "xQCjYb25rRLFde343XlT4efNbWvI+SboA3HSOH+3L3K8+l05Xv6mDNedasCSuQbV42gKA4z+R0tX\\\n",
       "H5781IQsox7nTj9J9TjkoYQQyDTqkbO/wW3Pg31lMuOBdfk4a1o07j8/RfU4msMAo//xzBclaO7q\\\n",
       "w+8vSIEQrPCSOllJepjbenCgoVP1KHZXeLAVt72+HdPGj8PTV81iXX4UGGB0mP2Wdqz+thw/SUvA\\\n",
       "ybxxJSmW5ab7Ippbu7F89TaE+Ptg5dIMBPmxLj8aDDA6zF8+LoKftw6/PneK6lGIMDEqGJHBvm51\\\n",
       "f7DO3oHd5Zu7+rByWTpOCmVdfrQYYPS9r0vq8XlhHW49YxJv2UAu4YfzYO4RYFabxJ1v7UR+TQue\\\n",
       "uXoWpsdylWMsGGAEYKA2//CHBYgPD8D1pxpVj0P0vUyDHtXNXahq0v55sEfWF+LTgjr8/oIUnDkt\\\n",
       "RvU4mscAIwDAv3MrYaprw+/OmwZ/H9bmyXVkJbnHvoiv5xzAi5vLsHRuIq7jD4l2wQAjtHb34W+f\\\n",
       "FiPToMePTmZtnlxLckwIQgN8NL2MuLHYgj+8n49FyVH4/QWsy9sLA4zw7JelaOrsZW2eXJJOJ5Bh\\\n",
       "GLg/mBaZattw6+vbMSUmBM/8dDa8vfht1174Tnq48voOrPqmDJfPjseMeJ5QJteUZdSjrL4D5tZu\\\n",
       "1aOcEHNbN65fvQ2Bvl54eVk6glmXtysGmIf7y8eF8PHS4TfnJqseheiospKGrgfTzlFYV68VP1+T\\\n",
       "i8aOXry8LAPjQwNUj+R2GGAe7NvSenxaUIdbF01CNG/dQC4sZfw4BPt5a+aCZptN4q63d2J3dQv+\\\n",
       "cfUsbgrgIAwwD2W1STz0YQHiwgKw/DQ2osi1eXvpkJYYrpkm4qOfFGH93lrcf34Kzk5hXd5RNBVg\\\n",
       "QggvIcQOIcSHqmfRurdzK1FU24b7zpvK2jxpQlaSHsV17Wjs6FU9yjG9ubUCL2zcj2vnJOL6Uw2q\\\n",
       "x3FrmgowAHcAKFQ9hNa1dvfhiU9MyDCE4/wZ41WPQzQiQ/sibnXhZcSvS+px/3t7sTA5Cg/8mK1e\\\n",
       "R9NMgAkh4gGcD+Al1bNo3XNflaKxsxd/uGA6v8BIM2bEhcHfR+eyRY6Sujbc8noeJkcH45mrZ7Eu\\\n",
       "7wRaeoefAnAPAJviOTTtQEMHVn1djstYmyeN8fXWYfaEcJe7oFlKiQ17D+KalTnw9/HCymUZCPH3\\\n",
       "UT2WR9BEgAkhLgBgllLmHed5NwohcoUQuRaLxUnTactfPy6Ct5dgbZ40KcsYgcLaVrR09akeBQBQ\\\n",
       "XNeGa1bm4ObXtiM80BdrrstEXBjr8s6iiQADcCqAC4UQ5QDeAnCGEOK1I58kpVwhpUyXUqZHRUU5\\\n",
       "e0aX992+BmzIr8UvFk5EDGvzpEFZSXpICeQq3pWjpbMPf1yXjx89vRl7q1vx0EXT8eEvT0NK7Dil\\\n",
       "c3kaTVwWLqW8D8B9ACCEWAjgbinlNSpn0hqrTeLhwdr8DacnqR6HaFRSE8Lg66XD1rJGJbu5W20S\\\n",
       "/95WiSc+NaG5sxc/zZqAu85Ohj7I1+mzkEYCjMbunbxKFBxsxTNXz2JtnjTL38cLqQlh2KKgyJFb\\\n",
       "3ogH1uUjv6YVmQY9HrgwhffzUkxzASalzAaQrXgMTWnr7sPjnxQjLTEcF5zC2jxpW6ZRj+c37kN7\\\n",
       "T79T9hasbenGX9cX4v2dNRgf6o9nrp6FC04ZzwavC9BcgNGJ+2f2PtS392Dl0nR+0ZHmZSXp8exX\\\n",
       "pdh+oAnzpzjuXHd3nxUrvy7Dc1+Vot8m8cszJuGWhRMR6Mtvm66C/xJurrKxEys3l+HS2XGYmRCm\\\n",
       "ehyiMZs9IRxeOoGcsgaHBJiUEp8XmvHwhwWoaOzEudNjcP/5KUjQB9r9tWhsGGBu7q/rC+GlE7jn\\\n",
       "3KmqRyGyiyA/b8yIC3XIvoil5jY8+EEBNpfUY3J0MF5bnoXTJkfa/XXIPhhgbixnfwM+3lOLu86e\\\n",
       "gpNCWZsn95GVpMeqr8vR3We1SymptbsPT39egjXfliPA1wt/uCAF185NhA9303BpDDA3NbTbfGyo\\\n",
       "P37O2jy5mSyjHi9s3I8dFc2YOzFi1J/HZpN4J68Kj31ShIaOXlyVkYC7z0lGRLCfHaclR2GAual3\\\n",
       "t1chv6YVT1+VigBf1ubJvaQb9BACyClrGHWA5R1owoMf5GN3VQvSEsOxalkmt1fTGAaYG2rv6cfj\\\n",
       "n5gwa0IYLpwZq3ocIrsb5++DlPHjRnUezNzajUc2FGHt9mpEh/jhqStTcVFqLBu6GsQAc0PPZ5fC\\\n",
       "0taDFdem8YuS3FaWMQJvbD2A3n4bfL2Pf66qp9+KVd+U45kvStBnlbhl4UTcumiSU64lI8fgv5yb\\\n",
       "qWzsxIuby3DJrDjMmhCuehwih8k06vHyN2XYXdWMdIP+mM/9sqgOD31QgPKGTpw1LRr3n58CQ2SQ\\\n",
       "kyYlR2GAuZlHNhRBJ4B7FnO3eXJvmYM3uMwpazxqgO23tOPhDwvwlcmCpKggrL4uAwuTo505JjkQ\\\n",
       "A8yNbCtvxEe7D+LOsyZjfChv6UDuTR/ki+SYEOSUNeLWRYf/WVt3H579shQvf1MGP28v/N9507B0\\\n",
       "nmFES42kHQwwN2GzSTz0QQHGh/rjpvkTVY9D5BSZRj3Wbq9Cv9UGby8dbDaJtTuq8eiGIljaenBF\\\n",
       "Wjx+szgZ0SG8DtIdMcDcxNod1dhT3YKnrmRtnjxHVpIer245gPyaVgDAA+vysbOyGakJYXhxSTpS\\\n",
       "uX2aW2OAuYGOnn48tqEIqQmszZNnGToPdvd/dqHE3I7IYD88ccVMXDorDjodG7jujgHmBl7YuA/m\\\n",
       "th7869o0ftGSR4kO8cfk6GCUN3TgpvlJuO2MSQjx91E9FjkJA0zjqpu78MKm/bgoNRazWZsnD/Ty\\\n",
       "sgwA4G7xHogBpnGPri+CEMBvF3O3efJMDC7PxU6phuUdaMS6XTW4cf5ExIaxNk9EnoUBplE2m8RD\\\n",
       "HxYiZpwfbl7A3eaJyPMwwDTq/V3V2FXZjN8unspbnBORR2KAaVBnbz8eXW/CzPhQXJwap3ocIiIl\\\n",
       "GGAa9MLG/aht7cYffpzC2jwReSwGmMbUNHfhhU378OOZsUhLPPYO3ERE7owBpjGPbSiClMBvuds8\\\n",
       "EXk4BpiGbK9owns7a3Dj/CTEh/PaFyLybAwwjZByYLf56BA/3LyAu80TETHANGLdrhrsrGzGPYun\\\n",
       "Ioi3QCciYoBpQVevFY+sL8KMuFBcOou1eSIigAGmCSs27cfBFtbmiYgOxQBzcQdbuvCvjftw/inj\\\n",
       "kWFgbZ6IaIgmAkwIkSCE+EoIUSCEyBdC3KF6Jmd5fIMJVilxL3ebJyI6jFbaAP0Afi2l3C6ECAGQ\\\n",
       "J4T4TEpZoHowR9pZ2Yy1O6px66KJvGUEEdERNHEEJqU8KKXcPvhxG4BCAG7dZhiozecjKsQPtyyc\\\n",
       "pHocIiKXo4kAO5QQwgBgFoAcxaM41Nrt1dhe0YzfnJuMYNbmiYj+h6a+MwohggG8C+BOKWXrMH9+\\\n",
       "I4AbAWDChAlOns4+zG3deHS9Ce9ur8LM+FBcPjte9UhERC5JMwEmhPDBQHi9LqVcO9xzpJQrAKwA\\\n",
       "gPT0dOnE8cast9+G1d+W4R9flKK334ZbFk7ErYsmsTZPRHQUmggwIYQAsBJAoZTySdXz2NtXJjMe\\\n",
       "/qAA++s7cObUaNx/QQqMkUGqxyIicmmaCDAApwK4FsAeIcTOwcd+J6X8WN1IY1dW34GHPyzAl0Vm\\\n",
       "JEUGYdV1GViUHK16LCIiTdBEgEkpvwbgNmtp7T39ePbLUqz8ej/8vL3wf+dNw9J5Bvh6a65TQ0Sk\\\n",
       "jCYCzF3YbBLv7azGI+uLYG7rweVp8bhncTKiQ/xVj0ZEpDkMMCfZXdWMP67Lx/aKZsxMCMML16Zh\\\n",
       "1oRw1WMREWkWA8zB6tt78PgGE97Oq0REkB8ev/wUXDY7nu1CIqIxYoA5SJ/VhjXfluPpz0vQ3W/F\\\n",
       "z09Pwi/PmIQQfx/VoxERuQUGmANsKrbgoQ8LUGpux4IpUfjDj1MwMSpY9VhERG6FAWZHFQ2dePij\\\n",
       "AnxWUAdDRCBWLk3HGVOjMXAZGxER2RMDzA46evrxz+xSvLi5DN46gd8unorrTzPAz9tL9WhERG6L\\\n",
       "ATYGUkqs21WDv35chNrWblw6Kw6//dFUxIxjLZ6IyNEYYKO0t7oFD36Qj23lTZgRF4rnfjYbaYms\\\n",
       "xRMROQsD7AQ1tPfgiU+L8da2CugDffHoZTNwRVoCa/FERE7GABuhfqsNr205gCc/K0ZnrxXXn2rE\\\n",
       "7WdORmgAa/FERCowwEbgm9J6PPhBPorr2nH65Ej84YIUTI4JUT0WEZFHY4AdQ2VjJ/78USE25Nci\\\n",
       "QR+AFdem4eyUGNbiiYhcAANsGF29Vjy/cR9e2LgPOiHwm3OTsfw0I/x9WIsnInIVDLAjfJJfiwfX\\\n",
       "5aOmpRsXzozFfedNxfjQANVjERHRERhgR6hp7kJYoC+eumoWMo161eMQEdFRMMCOcO2cRCyZa4AX\\\n",
       "a/FERC6NAXYEby/eFZmISAv43ZqIiDSJAUZERJrEACMiIk1igBERkSYxwIiISJMYYEREpEkMMCIi\\\n",
       "0iQhpVQ9g0MIISwADqieY4wiAdSrHsKF8P34Ad+Lw/H9ONxY3o9EKWWUPYdxFLcNMHcghMiVUqar\\\n",
       "nsNV8P34Ad+Lw/H9OJynvB9cQiQiIk1igBERkSYxwFzbCtUDuBi+Hz/ge3E4vh+H84j3g+fAiIhI\\\n",
       "k3gERkREmsQAc0FCiAQhxFdCiAIhRL4Q4g7VM6kmhPASQuwQQnyoehbVhBBhQoh3hBBFQohCIcRc\\\n",
       "1TOpIoT41eDXyF4hxJtCCH/VMzmTEOJlIYRZCLH3kMf0QojPhBAlg7+Gq5zRkRhgrqkfwK+llCkA\\\n",
       "5gC4VQiRongm1e4AUKh6CBfxNIANUsqpAGbCQ98XIUQcgNsBpEspTwbgBeAqtVM53WoAi4947F4A\\\n",
       "X0gpJwP4YvD3bokB5oKklAellNsHP27DwDeoOLVTqSOEiAdwPoCXVM+imhAiFMB8ACsBQErZK6Vs\\\n",
       "VjqUWt4AAoQQ3gACAdQonseppJSbADQe8fBFANYMfrwGwMXOnMmZGGAuTghhADALQI7iUVR6CsA9\\\n",
       "AGyK53AFRgAWAKsGl1RfEkIEqR5KBSllNYAnAFQAOAigRUr5qdqpXEKMlPLg4Me1AGJUDuNIDDAX\\\n",
       "JoQIBvAugDullK2q51FBCHEBALOUMk/1LC7CG8BsAM9LKWcB6IAbLxEdy+C5nYswEOqxAIKEENeo\\\n",
       "ncq1yIGaudtWzRlgLkoI4YOB8HpdSrlW9TwKnQrgQiFEOYC3AJwhhHhN7UhKVQGoklIOHZG/g4FA\\\n",
       "80RnASiTUlqklH0A1gKYp3gmV1AnhBgPAIO/mhXP4zAMMBckhBAYOMdRKKV8UvU8Kkkp75NSxksp\\\n",
       "DRg4Qf+llNJjf8qWUtYCqBRCJA8+dCaAAoUjqVQBYI4QInDwa+ZMeGih5QjrACwd/HgpgPcVzuJQ\\\n",
       "DDDXdCqAazFwtLFz8H/nqR6KXMYvAbwuhNgNIBXAX9SOo8bgUeg7ALYD2IOB72cesQPFECHEmwC+\\\n",
       "A5AshKgSQiwH8AiAs4UQJRg4Sn1E5YyOxJ04iIhIk3gERkREmsQAIyIiTWKAERGRJjHAiIhIkxhg\\\n",
       "RESkSQwwIiLSJAYYERFpEgOMiIg0iQFGRESaxAAjIiJNYoAREZEmMcCIiEiTGGBERKRJDDAiItIk\\\n",
       "BhgREWkSA4yIiDSJAUZERJrEACMiIk1igBERkSYxwIiISJP+HzFS5c/LcRmGAAAAAElFTkSuQmCC\\\n",
       "\"\n",
       "  frames[1] = \"data:image/png;base64,iVBORw0KGgoAAAANSUhEUgAAAbAAAAEgCAYAAADVKCZpAAAAOXRFWHRTb2Z0d2FyZQBNYXRwbG90\\\n",
       "bGliIHZlcnNpb24zLjMuMSwgaHR0cHM6Ly9tYXRwbG90bGliLm9yZy/d3fzzAAAACXBIWXMAAAsT\\\n",
       "AAALEwEAmpwYAAAlYklEQVR4nO3dd3yV5d3H8c+VhBn23icqKEVkKDISsFXA0eEoDkCt9mkFR9Va\\\n",
       "W6tPnzpqt3Zaa7XOOgDFWkddAVdFBAPIENQEZYQZRPYISa7nj+tEhQYIyTnnuq9zvu/Xq68TQjjn\\\n",
       "63k1+ea+r9993cZai4iISGiyfAcQERGpCxWYiIgESQUmIiJBUoGJiEiQVGAiIhIkFZiIiARJBSYi\\\n",
       "IkFSgYmISJBUYCIiEiQVmIiIBEkFJiIiQVKBiYhIkFRgIiISJBWYiIgESQUmIiJBUoGJiEiQVGAi\\\n",
       "IhIkFZiIiARJBSYiIkFSgYmISJBUYCIiEiQVmIiIBEkFJiIiQVKBiYhIkFRgIiISJBWYiIgESQUm\\\n",
       "IiJBUoGJiEiQVGAiIhIkFZiIiARJBSYiIkFSgYmISJBUYCIiEiQVmIiIBCnHd4Bkadeunc3Ly/Md\\\n",
       "Q0QkKHPmzNlgrW3vO0dtpG2B5eXlUVRU5DuGiEhQjDHLfWeoLZ1CFBGRIKnAREQkSCowEREJkgpM\\\n",
       "RESCpAITEZEgqcBERCRIKjAJw9qFUFHuO4WIRIgKTKJv0wq4+wR44zbfSUQkQlRgEn3FL4OtgqL7\\\n",
       "Yc8u32lEJCJUYBJ9xdMgpzHs2ADvPeU7jYhEhApMoq1iN3z8Bgy8ANodBbP+Btb6TiUiEaACk2hb\\\n",
       "/hbs2Q69TobBl8Cad6H0Hd+pRCQCVGASbSXTILsR5I2A/uOgUQt3FCYiGU8FJtFWXAh5BdCwKTRq\\\n",
       "5k4lLn4atqzxnUxEPFOBSXRtWgEbPoCeoz//3PHfhapKN5EoIhlNBSbRVVzoHnt9ocDaHuHWw+Y8\\\n",
       "4AY8RCRjqcAkukqmQasYtO259+eHTITtZRqpF8lwKjCJpord8NHr7ujLmL3/7vAToW0vjdSLZDgV\\\n",
       "mETTiplufP6L61/VsrLcUdjqeVBalPpsIhIJKjCJpuJCyG4Ih42o+e/7j4WGzWH23anNJSKRoQKT\\\n",
       "aCqZBrECaJhb8983au5G6t97CrauTW02EYkEFZhEz6aVUPb+3tOHNRl8CVRVQNEDqcklIpGiApPo\\\n",
       "KYmPz9e0/vVF1SP1RffrXmEiGShyBWaMud8Ys94Ys+gLn2tjjCk0xhTHH1v7zChJVjwNWvWAdr0O\\\n",
       "/rWDJ8L29bD4X0mPJSLRErkCAx4ETt3nc9cD0621vYDp8T9LOqooh49fd0df+47P1+SIk9x1Ytof\\\n",
       "USTjRK7ArLVvABv3+fQZwEPxjx8CzkxlJkmhFTOhfNvB17+qZWXB4Amwao5G6kUyTOQKbD86Wmur\\\n",
       "d29dC3T0GUaSqKR6fP6E2v+b/uPcSP0sjdSnVOkcWPyM7xSSwUIpsM9Yay1Q4/YLxpgJxpgiY0xR\\\n",
       "WVlZipNJQhRPg1j+/sfna9K4BQwYHx+pX5e8bPK5dYvh4TPhqUuhco/vNJKhQimwdcaYzgDxx/U1\\\n",
       "fZG19h5r7SBr7aD27dunNKAkwOZSKFsCPUcd+r8dPAGq9rhNfiW5tq2Hx86DPTvcbilr5vtOJBkq\\\n",
       "lAJ7Brgo/vFFwNMes0iyFNdyfL4m7Xq64tNIfXKV74BJY2HHBhg7yX1u+Qy/mSRjRa7AjDGTgJnA\\\n",
       "UcaYUmPMd4BfA6ONMcXAqPifJd2UTIOW3aH9UXX790MuhW3r3A0vJfGqquCpibBqLoy5F4482W2q\\\n",
       "vEwFJn7k+A6wL2vtuP381ciUBpHUqiiHj16DY86p3fh8TY4YCW2OcPsj9jsnofEEmH4LLHkGTv4F\\\n",
       "9P6a+1xeASx6yt1kNCvbbz7JOJE7ApMMtfLtQxufr0n1SH3pO26sXhJnzkMw448w6H9g2BWffz5W\\\n",
       "ALs3w7pF+/2nIsmiApNoKC6ErAaHNj5fkwHjoWEzmHVPYnKJOzL+9w/cEe5pt+19hBzLd4/L3/IS\\\n",
       "TTKbCkyioWQaxIa5Xebro3qkftGTblpO6mf9+zDlW9DuSDjnQcjeZ9WhZTd31+xlb3qJJ5lNBSb+\\\n",
       "bS6F9YvrNn1Yk89G6h9MzPNlqm1l8Ng5kNMIxk9xvxzUJG+4OwKrqkptPsl4KjDxr2Sae6zP+tcX\\\n",
       "tevlTne9c59G6utqz06YPM6V2PjJbnPl/Ynlw86NsOGD1OUTQQUmUVBcCC26QfveiXvOIRNh21o3\\\n",
       "NSeHpqoK/nWZ21vym/dA1+MO/PWxAveo04iSYiow8auiHD56HXqNqvv4fE16jobWh8FsDXMcsld/\\\n",
       "7rblGn0L9Dn94F/fOg9adNUgh6ScCkz8WjkLyrcmbv2rWvVI/cpZsHpeYp87nc17BP7zOzj2Isi/\\\n",
       "qnb/xhh3GnH5DLA1blMqkhQqMPGrJD4+f/iXE//cA8+HBrkaqa+tj9+AZ6+Gw0+Er/3u0I6IYwVu\\\n",
       "F5SNHyUvn8g+VGDiV/E06DG0/uPzNWncEgaMg0VT3TCC7F/ZhzDlAndz0HMfguwGh/bvtQ4mHqjA\\\n",
       "xJ/Nq2D9e4mbPqzJ4AlQWQ5zH0zea4Ru+wY3Lp/dEMY/7or/ULXrBbnttbGvpJQKTPypHp9P9PrX\\\n",
       "F7U/yp0Se+c+3beqJnt2weTxsHUtjJsMrWN1e57P1sE0yCGpowITf0oK3fRahy8l93WGXApb18CS\\\n",
       "Z5P7OqGxFp6+wg26nHU3dBtUv+eLDYfNK+HT5YnJJ3IQKjDxo3KPG5/vmeDx+Zr0Gu1GvWfdndzX\\\n",
       "Cc2rv3TrgyNvgqPPrP/z5cXXwXQUJimiAhM/Vs6C3VuSu/5VLSs7PlL/Nqx+N/mvF4J3J8Ebv4WB\\\n",
       "F8LwaxLznO2/BE1aw3INckhqqMDEj+JCyMqBw5IwPl+TAedDg6a6sBncpOAzV7qd/7/+h8QdAWdl\\\n",
       "QQ+tg0nqqMDEj5Jp0GPY/jeITbQmraD/OFg41U3dZaoNJTD5fGhzGJz7j0Mflz+YWL67FmzLmsQ+\\\n",
       "r0gNVGCSeltWuxsg9hyV2tcdPAEqd2fuLvXbP3Hj8lk5bly+SevEv8Zn62Aap5fkU4FJ6iV69/na\\\n",
       "6tAbDv8KFN2feSP1Fbthyvnu2rtxk9wRWDJ0PAYaNleBSUqowCT1iguheRfo0Cf1rz14ImxZBe8/\\\n",
       "l/rX9sVat+a1YiacdRd0H5y818rOcTurLFOBSfKpwCS1Kve4W9Qnevf52jryFHcH4UzaH/H138CC\\\n",
       "KXDS/0HfMcl/vbwCd28wbd8lSaYCk9RaOduNzydz940DycqGwZfAirdgzQI/GVJpwePw2q+g/3gY\\\n",
       "8cPUvGb1vogrNI0oyaUCk9QqiY/PH/4VfxkGXhAfqU/zC5uXv+V22sgbAd/4U+qOeDsPcO+vxukl\\\n",
       "yVRgklrF06D70NSNz9ekSWvodx4seMJN5qWjT5a6cflWPdy4fE7D1L12TkPodrzWwSTpVGCSOlvW\\\n",
       "wLqFbv3LtyET3Uj93Id8J0m8HRvhsXPdx+c/AU3bpD5D3nB3qcTOT1P/2pIxVGCSOqnYfb62OnzJ\\\n",
       "7UTxzn1QWeE7TeJUlMOUC2HTChj7GLQ53E+OWD5gYcXbfl5fMoIKTFKnJD4+3/Fo30mcIZfCllL4\\\n",
       "4N++kySGtfDsVW4vwjPuhNgwf1m6DoLsRrrBpSSVCkxSo7IClr4GPUf6GZ+vyZGnujWidNml/o3b\\\n",
       "Yf4k+MoN0O9cv1kaNHa3Z9EghySRCkxSo3Q27N6c+t03DiQrG46/xO0asXah7zT1s3AqvPpzN5zy\\\n",
       "5R/7TuPE8mHNfNi91XcSSVMqMEmN4giMz9dk4AWQ0yTso7AVs+Bfl7ud4E+/IzpHuLECsJXu1jki\\\n",
       "SaACk9QoKYTuQ6BxS99J9ta0DfQ/DxY+4ab3QrPxI5g8Dlp2hbGPQk4j34k+132w+6VF4/SSJMEU\\\n",
       "mDHmGmPMe8aYRcaYScaYxr4zSS1tXetO0aV69/naGjwBKnaFN1K/81N49FywVTDe07j8gTTMhS4D\\\n",
       "tQ4mSRNEgRljugJXAYOstX2BbGCs31RSa752n6+tjke73SpCGqmvHpf/dBmc9yi06+k7Uc1i+bBq\\\n",
       "DpTv8J1E0lAQBRaXAzQxxuQATYHVnvNIbRUXQvPO0LGv7yT7N2QibF4JHzzvO8nBWQvPXQPL/uPW\\\n",
       "vKrvwRVFseFQtQdK3/GdRNJQEAVmrV0F3A6sANYAm621L/tNJbVSWQEfvRqt8fmaHHkatOwBsyO+\\\n",
       "S/3mUnjiYnj3ETjhOhgwzneiA+sxBEyWTiNKUgRRYMaY1sAZwGFAFyDXGHNBDV83wRhTZIwpKivT\\\n",
       "rRwiofQd2LU5GrtvHEh2Dhz/HXdUs3aR7zT/bc9OeP23cMcg+PBFOPEncOL/+k51cI1bQqdjdINL\\\n",
       "SYogCgwYBXxsrS2z1u4B/gnk7/tF1tp7rLWDrLWD2rdvn/KQUoOSQjDZ0Rufr8mx33Ij9VE6CrMW\\\n",
       "ljwLdw6GV3/h1hGvmA1fvi7aR7RfFBvufpGp2O07iaSZUApsBTDUGNPUGGOAkcASz5mkNorj4/NN\\\n",
       "WvlOcnBN20C/c9w9tKIwUr9+CfzjDJhyATTIhW89A+c9DK1jvpMdmli+m/JcNdd3EkkzQRSYtXYW\\\n",
       "MBWYCyzE5Y7Qr8lSo63rYO2CaOw+X1uDJ0LFTpj3sL8MOzfBC9fDXQWw5l047Ta49E04/Mv+MtVH\\\n",
       "LH6yRKcRJcGCKDAAa+1N1tre1tq+1toLrbU6HxF1Udp9vrY69XWnvGbfC1WVqX3tqkqY8yDccSzM\\\n",
       "+ps7pXnlPBgywa3RhappG+jQRwUmCRdMgUmASgqhWSe3iB+SIRNg8wr44IXUveaKt+HvJ8KzV0O7\\\n",
       "I2Hi6/CNP0Ju29RlSKZYgdvyqnKP7ySSRlRgkhyVFbD0Fbf7RijDBtWO+hq06OaOgpJty2p48hK4\\\n",
       "/xTYVgZj7oNvvwCd+yf/tVMprwD2bIc1C3wnkTSiApPkWFXkxudDWv+q9sWR+nWLk/MaFbvhP79z\\\n",
       "Y/GLn4YRP4Qri+CYs8Mr/NroUb0OpvuDSeKowCQ5iqvH50/0naRujr0IchrD7ATvUm+tOzV55xCY\\\n",
       "/jM44kS4YhaM/KnbOzBdNe8IbXvpgmZJKBWYJEdJoduNPITx+ZrktnVHQ/OnuE1zE6HsQ3hkDEwa\\\n",
       "C9kN4cKn3A7ybQ5LzPNHXSwfls9M/XCMpC0VmCTe1nXuRoZR3X2+tqpH6ufWc6R+12Z46Sdw1zB3\\\n",
       "Qe8pv4LLZsARJyUmZyjyhrubmq57z3cSSRMqMEm8pdPdY1R3n6+tzv3c2s07f6/bUUNVFcx7BO44\\\n",
       "DmbeCQPGw5VzYdjlkN0g8XmjTteDSYKpwCTxiguhWUfo1M93kvobMhE2rXD7Dx6K0iK4dyQ8fQW0\\\n",
       "PgwuecXtHN8sg7c4a9kNWsVUYJIwKjBJrJDH52vS++vQoivMquUwx9Z18NRlrry2rIaz7ob/eQm6\\\n",
       "HpvcnKGIFbhBDmt9J5E0oAKTxFo1B3ZtCn/9q1r1SP3Hr7u9Cfenohxm/NmdLlz4BBR8343F9x8L\\\n",
       "Wfo2+0xeAez4BMre951E0oC+sySxSgrd/Z+OCHR8vibHXgzZjfa/S31xoRvQKPyp+wF9xSwYfQs0\\\n",
       "ap7SmEGIxW++qdOIkgAqMEms4kLoNhiatPadJHFy28Ix58D8yXuP1H+yFB49Fx492/35/Kkwfgq0\\\n",
       "PcJPzhC0zoPmXWCZCkzqTwUmibNtvds9PcTdNw5myATYswPmPQq7t0LhTe5i5OVvwehb4bKZ4U9d\\\n",
       "poIx7ihV62CSAAFvcS2RUxIfnw9p9/na6twfegyDt/4Mb90B29bCgPNh5E1ulwmpvVi+Wyfc+JGO\\\n",
       "VqVedAQmiVNSCLkd0mN8viZDL4dt66BFF/judDjzryqvuogNd49aB5N60hGYJEZVpRufP/K09J26\\\n",
       "63M6XD7L3e4kXf8bU6FdL8ht79bBjv2W7zQSMBWYJMaqOW7AIR3Xv76oQ2/fCcJnTHxfRB2BSf3o\\\n",
       "10hJjOL4+Hyou89LasWGw+aVbpcTkTpSgUlilBRCt+Pd7eNFDqZ6X0SN00s9qMCk/raVwep56Tl9\\\n",
       "KMnRoQ80bqXTiFIvKjCpv892n0/z9S9JnKwsrYNJvanApP6KC91UWaf+vpNISGIF7lqwLWt8J5FA\\\n",
       "qcCkfqoq3RFYz1EaLZdDo/uDST3pJ47Uz6q5bnw+XXafl9Tp1A8aNnfbSonUgQpM6uez3edP8p1E\\\n",
       "QpOdAz2G6ghM6kwFJvVTXAhdB2l8Xuomlu/uDbZ9g+8kEiAVmNTd9g1ufF67sEtd5VXvi6jTiHLo\\\n",
       "VGBSdyXTAav1L6m7zgMgp4lOI0qdqMCk7kri4/OdB/hOIqHKaQjdB6vApE5UYFI3VZXuCOyIkRqf\\\n",
       "l/qJFcDaRXvf7VqkFoL5yWOMaWWMmWqMed8Ys8QYM8x3poy2eh7s3Kj1L6m/vALAwopZvpNIYIIp\\\n",
       "MOBPwIvW2t5Af2CJ5zyZrVjj85IgXQdBdkNY/qbvJBKYIO4HZoxpCZwAXAxgrS0Hyn1mynglhdD1\\\n",
       "OI3PS/01aOxKTDvTyyEK5QjsMKAMeMAYM88Yc68xJtd3qIy1fYPbgUO7z0ui5BXAmvmwe6vvJGGr\\\n",
       "3APTboYdG30nSYlQCiwHOBa4y1o7ENgOXL/vFxljJhhjiowxRWVlZanOmDmWvgJY7T4viRPLB1sJ\\\n",
       "K7UOVmfWwvM/hDf/EP8eTX+hFFgpUGqtrf5/91Rcoe3FWnuPtXaQtXZQ+/btUxowoxQXQtN20Hmg\\\n",
       "7ySSLroPgawcXdBcH2/dAXMehOHXwDFn+06TEkEUmLV2LbDSGHNU/FMjgcUeI2Wuqqr47vMan5cE\\\n",
       "apjrrifUOljdLHkWCm+EPmfCSTf6TpMyIf0EuhJ41BizABgA/NJvnAy1eh7s+ETrX5J4eQWwag7s\\\n",
       "2ek7SVhWzYEnL3FDVWf9LaN+sQzmv9Ra+2789GA/a+2Z1lpd9ehDSSFgND4viRcbDlV7oPQd30nC\\\n",
       "sWklTBoHzdrDuEnQoInvRCkVTIFJRBTHx+dz2/pOIummxxB3baFOI9bOri3w2LnuiHX8E9Csg+9E\\\n",
       "KacCk9rb/ok7XaHdNyQZGreETsdoX8TaqKyAqd+Gsg/g3IegQ2/fibxQgUntVY/Pa/1LkiVW4E4h\\\n",
       "Vuz2nSS6rIUXroOSafD132f06XwVmNReSSE0bQtdND4vSRIrgIpdblhIavb2X6HoPsi/Co672Hca\\\n",
       "r1RgUjtVVdp9XpKvR3yP7mXaF7FG7/8bXvoJfOkbMOoW32m8008iqZ0182DHBq1/SXLltoUOfXRB\\\n",
       "c01Wz4Mnv+vOgJx1j36RRAUmtVU8DTc+P9J3Ekl3sQK3pVRlhe8k0bG5FB4b607hj5sMDZv6ThQJ\\\n",
       "KjCpnZJC6Hqsxucl+WL5UL4N1s73nSQadm915VW+HcY/Ds07+k4UGSowObgdG6G0SNOHkhqxAveo\\\n",
       "68Hi4/LfgfWL4dwHoWMf34kiRQUmB/fZ7vMqMEmB5h2hbU9dDwbw0v9C8Uvw1dugp+7+sC8VmBxc\\\n",
       "cSE0aaPxeUmdWAEsnwlVlb6T+DPrbph9Nwz7Hhz/Hd9pIkkFJgdWVeUumOw5ErKyfaeRTBErgN2b\\\n",
       "Yd17vpP48eFL8OL1cNTXYPTPfKeJLBWYHNiad934vNa/JJXy4utgmThOv2YBPPFt6NQPxvxdvzge\\\n",
       "gApMDqwkPj7fU+PzkkItu0GrGCzPsAuat6yGx86DJq3i4/K5vhNFmgpMDuzDl9zaV24730kk08QK\\\n",
       "3BGYtb6TpMbuba68dm9x4/ItOvtOFHkqMNm/kumwqgj6jvGdRDJRXoG7eWrZB76TJF9VpdtlY90i\\\n",
       "OPsB6NTXd6IgqMCkZpUVbs+11nkw+BLfaSQTxfLdYyacRnz5/+DDF+C038KRJ/tOEwwVmNRs7oNQ\\\n",
       "tgRG3wo5jXynkUzU+jBo3iX9Bzlm/93tMD/kMv2yeIhUYPLfdm6CV37hbvH+pW/4TiOZyhh3FLZs\\\n",
       "RvqugxUXunt7HXkanPIL32mCowKT//bGbbDzUzj1l+6HiIgveQWwbS1s/Mh3ksRbuwieuBg69oUx\\\n",
       "92pcvg5UYLK3DSUw628w8ALo3N93Gsl01fsiptu2UlvXuonDRi1g/BRo1Mx3oiCpwGRvhT+FnMZw\\\n",
       "0k99JxGBdkdCbvv0Wgcr3+7Ka+enrrxadPGdKFgqMPnc0lfhg+dhxLW6ZYNEwxfXwdJBVSX8cwKs\\\n",
       "XQBn3w+d+/lOFDQVmDiVFW7n61Y9YOjlvtOIfC5WAJtXwKYVvpPUX+GN8P5zcMqv4KhTfacJngpM\\\n",
       "nHn/cPccGn0rNGjsO43I52Jpsi9i0f0w8y8weAIMvdR3mrSgAhPYtRle+Tn0yIc+Z/hOI7K3Dn2g\\\n",
       "cStYFvAFzSXT4N8/hF4nu6MvSQgVmLix+R0bNTYv0ZSV5dbBQj0CW7cYHr/YFfHZ90N2ju9EaUMF\\\n",
       "luk+WQpv/w0GnK8bVkp0xfJh41I3fh6SrevgsXPdrvLjp0Cj5r4TpRUVWKYrvBGyG8JIjc1LhIV4\\\n",
       "PVj5Dpg01m1IPH4KtOzqO1HaUYFlso9edxNRI34AzTv5TiOyf536QcPm4YzTV1XBUxNh9TwYcx90\\\n",
       "GeA7UVrSydhMVVXpxuZb9oBhV/hOI3Jg2TnQY0g462DTb4Ylz7iBjd5f9Z0mbQV1BGaMyTbGzDPG\\\n",
       "POc7S/DmPezuPTT6FmjQxHcakYOLFbg7JGz/xHeSA5vzIMz4Exz/XRh6me80aS2oAgOuBpb4DhG8\\\n",
       "XZth+q3QYxgcfZbvNCK1E8I62NJX4bkfQM/RcOpvNNWbZMEUmDGmG/A14F7fWYL3n9+5heVTf6Vv\\\n",
       "MAlHl4GQ0yS6pxHXvw+PXwTte2tcPkWCKTDgj8B1QJXnHGHb+BG8fRcMGK+xeQlLTkPofnz07tBs\\\n",
       "LSx+Bh4+0+1iM34KNG7hO1VGCKLAjDFfB9Zba+cc5OsmGGOKjDFFZWVlKUoXmMIbIauBdpuXMMWG\\\n",
       "u/to7dzkO4mzfgn84wx4/EJo0gYueBJadfedKmMEUWBAAXC6MWYZMBk4yRjzyL5fZK29x1o7yFo7\\\n",
       "qH379qnOGH0f/weWPAsjroEWnX2nETl0eQWAhRVv+82x81N44cdwVwGsmQ9fvR0mvgGdjvGbK8ME\\\n",
       "cZLWWnsDcAOAMeYrwA+ttRf4zBScqkp46QZo2R2Gfc93GpG66Xqcu/B++Qw/u7lXVcLcf8Art7oS\\\n",
       "O+7bcOJPILdt6rNIGAUmCfDuo7B2oVtc1ti8hKpBE+g6yM8k4oq34fkfuXt59ciH036j+3l5FlyB\\\n",
       "WWtfA17zHCMsu7a4sfnuQ+Dob/pOI1I/sXx48w+we2tq9hbcstqtHS98Alp0db8EHv1NTfBGQChr\\\n",
       "YFIfb/4etq/X2Lykh7wCsJWwcnZyX2fPLnjjdrhjkJsyPOFH8L13oO8YfR9FRHBHYHKIPl0GM++E\\\n",
       "/uPc+oFI6LoNBpPtTiP2HJn457cWPnjBrRl/ugx6fx1O+QW0zkv8a0m9qMDSXeGNkJUDI2/0nUQk\\\n",
       "MRo1c9cwJuOC5rIP4MXrYekr7oLkC/8FR5yY+NeRhFCBpbNlM2Dx025KqkUX32lEEievwF2Qv2dn\\\n",
       "YoaSdm2G134Ds++GBrlw6q/dXobZDer/3JI0WgNLV1WV7jfJFt00Ni/pJ1YAleVQWlS/56mqgrkP\\\n",
       "wx3Hwdt/dTd2vWqu24RX5RV5OgJLV/MnuXHfMfdBw6a+04gkVo+hgHHrYIeNqNtzrJwNL1zn7tnV\\\n",
       "fQic/4S2VwuMCiwd7d4K038G3Y53E1Mi6aZxS7frRV2uB9u6Fqbd7H7Ja9YJvvl3OOYcTRYGSAWW\\\n",
       "jt78A2xbB2Mf0zelpK+84VD0AFSUu41+D6Zit1s3e+M2d/px+DUw4trUXEsmSaE1sHTz6XJ46y/Q\\\n",
       "7zzoNsh3GpHkieVDxU5YPffgX/vhS/DXoTDtJsgbAZe/DaNuVnkFTkdg6WbaTWCyYORNvpOIJFeP\\\n",
       "fPe4fEZ8TawGG0rc9VzFL0PbXnD+k9BrVOoySlKpwNLJ8pnw3lPwlRugZVffaUSSK7ctdOjjLhcZ\\\n",
       "ce3ef7driztV+PZdkNMYTv45DJ5Yu1ONEgwVWLqoqoqPzXeF/Kt8pxFJjVg+zJ8MlRXuDshVVbBg\\\n",
       "shvS2LYOBlzgLuJv3tF3UkkCFVi6WDAZ1rzrJqo0Ni+ZIlYA79wLa+e7Pz9/HawqcjvWj50E3bR9\\\n",
       "WjpTgaWD3dtg2i3um7bv2b7TiKROrMA9/utyKHsfcjvAmXdBv7GQpRm1dKcCSwcz/gTb1sJ5j+ib\\\n",
       "VjJL845uz8JPlrpT5yf8CBq38J1KUkQFFrpNK+GtP7sLMbsf7zuNSOqNf9w9to75zSEppwIL3bSb\\\n",
       "AeOuaRHJRCqujKXzTSFbMQsWTYWCq6BlN99pRERSSgUWqqoqd4Fm885QcLXvNCIiKadTiKFa+ASs\\\n",
       "mgNn3Q0Nc32nERFJOR2Bhah8u1v76nIsHHOu7zQiIl7oCCxEM/4MW1fDOQ9qbF5EMpZ++oVmc6m7\\\n",
       "7qvvGOgxxHcaERFvVGChmXYLYDU2LyIZTwUWkpXvwMLHIf9KaNXDdxoREa9UYKGw1u0236wTFHzf\\\n",
       "dxoREe80xBGKhVPdLttn3gWNmvlOIyLinY7AQlC+w91pufMAt8u2iIjoCCwIb90BW1bBmPs0Ni8i\\\n",
       "EqefhlG3eRXM+CMcfRbEhvlOIyISGUEUmDGmuzHmVWPMYmPMe8aYzNn8b/rPoKoSRt3iO4mISKSE\\\n",
       "cgqxArjWWjvXGNMcmGOMKbTWLvYdLKlK58CCyTDiWt0yQkRkH0EcgVlr11hr58Y/3gosAbr6TZVk\\\n",
       "n43Nd4Th1/hOIyISOaEcgX3GGJMHDARmeY6SXPMnQ+lsOONOaNTcdxoRkcgJqsCMMc2AJ4HvW2u3\\\n",
       "1PD3E4AJAD16BLpTxdZ1bqf5+Y+53eb7j/edSEQkkoIpMGNMA1x5PWqt/WdNX2OtvQe4B2DQoEE2\\\n",
       "hfHqr6IcZv0NXv8tVO52pw1HXKuxeRGR/QiiwIwxBrgPWGKt/b3vPAlXXOjWuz4pgSNPhVN+CW2P\\\n",
       "8J1KRCTSgigwoAC4EFhojHk3/rn/tdY+7y9SAnyyFF68AYpfgrY94fyp0Gu071QiIkEIosCstW8C\\\n",
       "xneOhNm9Fd64HWbeCTmN4eSfw+CJkNPQdzIRkWAEUWBpo6rK3Q6l8CbYthYGnA8jb4LmHX0nExEJ\\\n",
       "jgosVVbNhRd+7Ebjux4HYx+FboN8pxIRCZYKLNm2lcH0W2DeI5DbHs74K/Qfp+lCEZF6UoElS+Ue\\\n",
       "mH0PvPZr2LMT8r8HJ1wHjVv4TiYikhZUYMlQMt1NF274AHqOglN/De16+U4lIpJWVGCJtPFjeOkn\\\n",
       "8MG/oc3hMG4KHHkKmPQZoBQRiQoVWCLs3gZv/h7e+gtk5cCom2Ho5ZDTyHcyEZG0pQKrD2th4VQo\\\n",
       "vBG2roZ+Y115tejsO5mISNpTgdXVmvluLH7FTOg8AM59CLoP9p1KRCRjqMAO1fYN8MqtMOchaNoW\\\n",
       "Tr8DBlygsXgRkRRTgdVWZQUU3Qev/gLKt7s1ri9fB01a+U4mIpKRVGC18dFr8ML1ULYEDj/RjcV3\\\n",
       "6O07lYhIRlOBHciny+Hln8CSZ6FVDMY+Bkd9VWPxIiIRoAKrSfkOmPFHmPEnMFlw0k9h2PegQWPf\\\n",
       "yUREJE4Ftq8lz7npwi2l0PdsGP0zaNnVdyoREdmHCmxfm0uhaWsY83eI5ftOIyIi+6EC29fx34XB\\\n",
       "l0BWtu8kIiJyACqwfWXrLRERCYGuvhURkSCpwEREJEgqMBERCZIKTEREgqQCExGRIKnAREQkSCow\\\n",
       "EREJkrHW+s6QFMaYMmC57xz11A7Y4DtEhOj9+Jzei73p/dhbfd6PmLW2fSLDJEvaFlg6MMYUWWsH\\\n",
       "+c4RFXo/Pqf3Ym96P/aWKe+HTiGKiEiQVGAiIhIkFVi03eM7QMTo/fic3ou96f3YW0a8H1oDExGR\\\n",
       "IOkITEREgqQCiyBjTHdjzKvGmMXGmPeMMVf7zuSbMSbbGDPPGPOc7yy+GWNaGWOmGmPeN8YsMcYM\\\n",
       "853JF2PMNfHvkUXGmEnGmMa+M6WSMeZ+Y8x6Y8yiL3yujTGm0BhTHH9s7TNjMqnAoqkCuNZa2wcY\\\n",
       "ClxhjOnjOZNvVwNLfIeIiD8BL1prewP9ydD3xRjTFbgKGGSt7QtkA2P9pkq5B4FT9/nc9cB0a20v\\\n",
       "YHr8z2lJBRZB1to11tq58Y+34n5AdfWbyh9jTDfga8C9vrP4ZoxpCZwA3AdgrS231m7yGsqvHKCJ\\\n",
       "MSYHaAqs9pwnpay1bwAb9/n0GcBD8Y8fAs5MZaZUUoFFnDEmDxgIzPIcxac/AtcBVZ5zRMFhQBnw\\\n",
       "QPyU6r3GmFzfoXyw1q4CbgdWAGuAzdbal/2mioSO1to18Y/XAh19hkkmFViEGWOaAU8C37fWbvGd\\\n",
       "xwdjzNeB9dbaOb6zREQOcCxwl7V2ILCdND5FdCDxtZ0zcKXeBcg1xlzgN1W0WDdmnraj5iqwiDLG\\\n",
       "NMCV16PW2n/6zuNRAXC6MWYZMBk4yRjziN9IXpUCpdba6iPyqbhCy0SjgI+ttWXW2j3AP4F8z5mi\\\n",
       "YJ0xpjNA/HG95zxJowKLIGOMwa1xLLHW/t53Hp+stTdYa7tZa/NwC/SvWGsz9rdsa+1aYKUx5qj4\\\n",
       "p0YCiz1G8mkFMNQY0zT+PTOSDB1o2cczwEXxjy8CnvaYJalUYNFUAFyIO9p4N/6/r/oOJZFxJfCo\\\n",
       "MWYBMAD4pd84fsSPQqcCc4GFuJ9nGbEDRTVjzCRgJnCUMabUGPMd4NfAaGNMMe4o9dc+MyaTduIQ\\\n",
       "EZEg6QhMRESCpAITEZEgqcBERCRIKjAREQmSCkxERIKkAhMRkSCpwEREJEgqMBERCZIKTEREgqQC\\\n",
       "ExGRIKnAREQkSCowEREJkgpMRESCpAITEZEgqcBERCRIKjAREQmSCkxERIKkAhMRkSCpwEREJEgq\\\n",
       "MBERCdL/A4CKBVIvTQsgAAAAAElFTkSuQmCC\\\n",
       "\"\n",
       "  frames[2] = \"data:image/png;base64,iVBORw0KGgoAAAANSUhEUgAAAbAAAAEgCAYAAADVKCZpAAAAOXRFWHRTb2Z0d2FyZQBNYXRwbG90\\\n",
       "bGliIHZlcnNpb24zLjMuMSwgaHR0cHM6Ly9tYXRwbG90bGliLm9yZy/d3fzzAAAACXBIWXMAAAsT\\\n",
       "AAALEwEAmpwYAAAri0lEQVR4nO3deXhTZd4+8PtJ94Uu0DaFFmkp2LJDE1SWgiwzLqzqvKPUdV4H\\\n",
       "Z34iUJVxG2dxXkc2EVBwYRyFGXFFQRB9FUG0AQTaAl0ouywNtE1XoHuT5/dHW15hCpQ2yZOT3J/r\\\n",
       "8qKkac5NLpO75zzfnCOklCAiItIaneoARERE7cECIyIiTWKBERGRJrHAiIhIk1hgRESkSSwwIiLS\\\n",
       "JBYYERFpEguMiIg0iQVGRESaxAIjIiJNYoEREZEmscCIiEiTWGBERKRJLDAiItIkFhgREWkSC4yI\\\n",
       "iDSJBUZERJrEAiMiIk1igRERkSaxwIiISJNYYEREpEksMCIi0iQWGBERaRILjIiINIkFRkREmsQC\\\n",
       "IyIiTWKBERGRJrHAiIhIk1hgRESkSSwwIiLSJBYYERFpEguMiIg0iQVGRESaxAIjIiJN8lYdwFEi\\\n",
       "IiJkXFyc6hhERJqSmZlZIqWMVJ2jLdy2wOLi4pCRkaE6BhGRpgghTqjO0FY8hEhERJrEAiMiIk1i\\\n",
       "gRERkSaxwIiISJNYYEREpEksMCIi0iQWGGnCwbKDaLA2qI5BRC6EBUYu7/T50/j1F7/GW9lvqY5C\\\n",
       "RC6EBUYuL70gHTZpwyeHPkGdtU51HCJyESwwcnkmswl+Xn4oqy3D18e/Vh2HiFwEC4xcWr21HjsL\\\n",
       "d2Jqr6noGdoTq/NXQ0qpOhYRuQAWGLm0zKJM1DTWYFTsKExLmob9pfuxz7JPdSwicgEsMHJpJrMJ\\\n",
       "vjpfDI0eiskJkxHsE4z3899XHYuIXAALjFyayWyCMdqIAO8ABPoEYmqvqdh0YhOKq4tVRyMixVhg\\\n",
       "5LJOnz+NY5XHMDJm5IXbpiVNg1Va8fHBjxUmIyJXwAIjl2UymwDgogK7LuQ6pMSm4JNDn6DeWq8q\\\n",
       "GhG5ABYYuax0czpigmMQFxJ30e33Jt3LkXoiYoGRa6q31mPnmZ0YGTMSQoiLvndTt5sQFxLHkXoi\\\n",
       "D8cCI5eUVZyFmsYapMSk/Mf3dEKH1D6pyCvNQ3ZJtoJ0ROQKWGDkkkwFJvjofDA0emir35+cMBlB\\\n",
       "PkEcqSfyYCwwckkmswlGvRGBPoGtfj/IJwh39LoD3xz/BpZqi5PTEZErYIGRyzlz/gyOVh69aPqw\\\n",
       "Nfck3YNG2YhPDn3ipGRE5EpYYORy0s3pAICRsVcusB4hPZASk4KPD37Ma4UReSCXKzAhxDtCiGIh\\\n",
       "RO7PbusshNgkhDjc/Ge4yozkWCazCTHBMYgPib/qfVP7pKK0thRfn+BIPZGncbkCA7ASwK2X3PYM\\\n",
       "gM1Syt4ANjf/ndxQg7XhsuPzrRnebTjiQuI4zEHkgVyuwKSUPwAou+TmKQBWNX+9CsBUZ2Yi58kq\\\n",
       "zkJ1Y/VV179a6IQO9yTdg5ySHGRbOFJP5ElcrsAuQy+lPNP8dSEAvcow5Dgmc9P4/A3RN7T5Z6Yk\\\n",
       "TGkaqT/AvTBnyrHk4NsT36qOQR5MKwV2gWw69UKrp18QQjwihMgQQmRYLByt1iKT2QSD3nDZ8fnW\\\n",
       "BPsGY0rCFHx9/GuU1JQ4MB21OFx+GI9segTPmZ5Dg40DNKSGVgqsSAjRFQCa/2z1WhpSyhVSSqOU\\\n",
       "0hgZGenUgNRxhVWFOFJxpM2HD39uWtI0NNoa8clBjtQ7WklNCR7b/BhqG2tR01iD/NJ81ZHIQ2ml\\\n",
       "wNYDeLD56wcBfK4wCznIhfH5dhRYXGgcRsSMwMeHOFLvSDWNNZi1ZRbK68qxdOxSAE1XzSZSweUK\\\n",
       "TAjxAYAdABKFEAVCiIcBzAPwCyHEYQDjm/9ObsZUYELXoK7oGdqzXT9/b9K9KKkpwTcnvrFzMgIA\\\n",
       "m7Thj6Y/IrckF/NS5mFU7CjEhcQhoyhDdTTyUN6qA1xKSjntMt8a59Qg5FQN1gb8eOZHTOg5oU3j\\\n",
       "860ZETMCPUJ64P0D72NCzwl2TkhLs5Zi04lNmGOcg7HXjQUAGKON+Pqnr2G1WeGl81KckDyNy+2B\\\n",
       "kWfaU7znmsbnW6MTOkxLmoZsSzZyS3Kv/gPUZp8e+hTv5L6DX1//azzQ94ELtxv0BpxrOIdD5YcU\\\n",
       "piNPxQIjl2Aym+Ct88aNXW/s0ONMSZiCQO9AfrDZjn488yNe/PFFjOg2As/e+OxFe8hGvREA18FI\\\n",
       "DRYYuYR0czoMUQYE+QR16HGCfYMxpdcUfHX8K47U28HRiqN44rsnEBcah5dHvwxv3cWrDtFB0YgJ\\\n",
       "juE6GCnBAiPlOjI+35qWkfo1h9bY5fE8VWlNKWZsngFfL18sH7ccwb7Brd7PqDcisygTNmlzckLy\\\n",
       "dCwwUs5kNgFo3/h8a+JD4zGi2wiepb4DahtrMeu7WSitKcWyccvQLbjbZe9r0BtQUVeBYxXHnJiQ\\\n",
       "iAVGLsBkNiE6KBoJYQl2e8zUPqmw1Fjw7Ume6uha2aQNz297HjmWHMxNmYv+Ef2veH9jdNM6GA8j\\\n",
       "krOxwEiplvH5tp59vq1GxoxE907dOczRDsv2LMPXx7/G44bHMb7H+KvePzY4FvpAPQc5yOlYYKTU\\\n",
       "XsteVDVU2e3wYYuWkfq9lr3IK82z62O7s7WH1+IfOf/AXb3vwkP9HmrTzwghYNAbkFGUgaZTlRI5\\\n",
       "BwuMlEo3p8Nb542but5k98ee2msqArwDuBfWRrvO7MLfdvwNw7oOwx9v+uM17REbo40oqSnByXMn\\\n",
       "HZiQ6GIsMFLKZDYhOSq5w+Pzrenk2wmTEybjq5++QmlNqd0f350cqzyGtK1p6BHSA4tuXgQfnc81\\\n",
       "/bxBbwAAZBRyHYychwVGyhRWFeJw+WG7Hz78udSkVDTYGvDp4U8dtg2tK6stw4xvZ8BH54Pl45ej\\\n",
       "k2+na36M+JB4dPbvzEEOcioWGCmzzbwNgP3G51vTM6wnhnUdho8OfMTrVrWizlqH2Vtmw1JjwWtj\\\n",
       "X0NMcEy7HqdlHYyDHORMLDBSxmQ2QR+oR6+wXg7dzr197kVxTTE2n9zs0O1ojZQSf9r2J+y17MVL\\\n",
       "I1/CwMiBHXo8o96IM1VnYD5vtlNCoitjgZESDTbHjM+3ZmTMSMQGx3KY4xLL9y7HVz99hdnJs/HL\\\n",
       "uF92+PFaPg/GvTByFhYYKbG3eC/ON5xHSkyKw7flpfPCtKRp2FO8B/tL9zt8e1qw/uh6vJX9Fu7s\\\n",
       "fSce7v+wXR6zV1gvhPqFcpCDnIYFRkqYzCZ4i46ffb6tpvbmSH2L3YW78Zftf8GN0Tfi+Zuet9se\\\n",
       "sE7okByVzD0wchoWGClhMpswRD/ksieItbcQ35ALI/VltWVO2aYrOl55HGnfpaF7p+7tGpe/GoPe\\\n",
       "gJPnTqK4utiuj0vUGhYYOV1RVREOlR9y6PRha6YlTUO9rR6fHvLMkfry2nLM2DwD3jpvLB+3HKF+\\\n",
       "oXbfxoXzIvIwIjkBC4ycbttpx4/PtyYhLAE3db0JHx30vJH6ems90r5LQ2FVIZaOWYrunbo7ZDuJ\\\n",
       "4YkI8gniYURyChYYOZ3JbEJUYBR6h/V2+rZTk1JRVF2ELSe3OH3bqkgp8Zftf0FWcRb+PvLvGBw1\\\n",
       "2GHb8tZ5Y0jUEH6gmZyCBUZO1WBrwI7TO5ASk+Lw8fnWjIodhZjgGI8a5nhz35v44tgXmDlkJm6N\\\n",
       "v9Xh2zPqjThWeYyn7yKHY4GRU+0r3ofzDeedfviwRctIfVZxFg6UHVCSwZm+OPYFXt/3OiYnTMb0\\\n",
       "AdOdss2W8yJmFWc5ZXvkuVhg5FQt4/OOOPt8W3nKWeozizLx521/xtDoofjrsL86bY+3X5d+CPAO\\\n",
       "4DoYORwLjJzKZDZhcNRgp43PtybULxQTe07ExmMbUV5briyHI508exJp36UhJjgGi29eDB8v+47L\\\n",
       "X4mPlw8GRg7kJCI5HAuMnKa4uhgHyw8qO3z4c6lJqU0j9W54lvrKukrM2DwDAPD6uNcdMi5/NUa9\\\n",
       "EYfKD6GyrtLp2ybPwQIjp3HG2efbqld4L9wYfSM+OvgRGm2NquPYTYO1AWnfpcF83tw0Lh/imHH5\\\n",
       "qzHoDZCQ2FO8R8n2yTOwwMhp0s3piAqMwvXh16uOAgBI7ZOKwqpCfHfqO9VR7EJKib/u+CsyijLw\\\n",
       "txF/Q7I+WVmWgZED4avz5WFEcigWGDlFo60RP552ztnn22p07GjEBMdgdf5q1VHsYkX2Cqw/uh6P\\\n",
       "DnoUE3tOVJrFz8sPAyIHcJCDHIoFRk6xz7IP5xrOucThwxZeOi/ck3gPMosycbDsoOo4HfLlsS+x\\\n",
       "bO8yTOw5Eb8f9HvVcQA0HUbML8tHVUOV6ijkplhg5BSuMD7fmjt63wF/L3+8f0C7I/V7i/fiT9v+\\\n",
       "hOSoZLww/AWX2cM16o2wSiv2Fu9VHYXcFAuMnMJkNmFQ1CB08u2kOspFQv1CMTGhaaS+orZCdZxr\\\n",
       "dursKczaMgvRQdFYOmYpfL18VUe6YFDkIHgLb55WihxGMwUmhHhcCJEnhMgVQnwghPBXnYnaxlJt\\\n",
       "wYGyAy51+PDnpiVNQ521TnMj9ZV1lXh086OwwYbl45YjzD9MdaSLBPoEom9EX66DkcNoosCEEDEA\\\n",
       "ZgEwSin7A/ACcI/aVNRWJrMJAJxy9eX2uD78etwQfYOmRuobrA14YusTKDhfgCU3L0FcaJzqSK0y\\\n",
       "6A3IKclBTWON6ijkhjRRYM28AQQIIbwBBAI4rTgPtZHJbEJUgOuMz7cmNSkVZ6rOYOupraqjXJWU\\\n",
       "En/78W/YVbgLLwx/4cI1uFyRUW9Eo60R2ZZs1VHIDWmiwKSUZgAvAzgJ4AyASinlN2pTUVs02hqx\\\n",
       "48wOjIgZ4TLDBa0Z3X00ugV1c/lhjsKqQsz5fg7WHVmH3w38HSYnTFYd6YqGRA2BTuh4GJEcQhMF\\\n",
       "JoQIBzAFQDyAbgCChBD3tXK/R4QQGUKIDIvF4uyY1IpsSzbO1bvW+HxrvHXeuDvpbuwu3O2SI/W1\\\n",
       "jbV4c9+bmLR2Er4v+B4zBs/AjMEzVMe6qk6+nZAYnshBDnIITRQYgPEAfpJSWqSUDQA+AzD80jtJ\\\n",
       "KVdIKY1SSmNkZKTTQ9J/MplN8BJeuKmba43Pt+au3nfB38sfHxz4QHWUC6SU2HxiM6Z+PhXL9y5H\\\n",
       "SmwKPp/6OX4/6PcuvUf7c8ZoI7It2ai31quOQm5GKwV2EsBNQohA0fSqHQcgX3EmagOT2YRBkYMQ\\\n",
       "4huiOspVhfqFYkLPCdh4bKNLnIT2SPkRTN80HWlb0xDgHYC3f/k2Xrn5FcQEx6iOdk0MegPqrHXI\\\n",
       "LclVHYXcjCYKTEq5E8AaAFkActCUe4XSUHRVJTUlyC/LR0qsa04ftmZa0jTUWmvx2eHPlGU4W38W\\\n",
       "83fNx682/Ar7S/fj2RuexSeTPsGNXW9UlqkjDFFNF7jkOhjZmyYKDACklH+RUiZJKftLKe+XUtap\\\n",
       "zkRX1jI+7+rrXz+X2DkRRr0RHx74EFab1anbttqsWHNoDSZ+NhGr81fjzt53YuMdG5HaJxXeOm+n\\\n",
       "ZrGnMP8w9ArrxXUwsjvNFBhpj8lsQmRAJBLDE1VHuSapfVJxuuo0thZsddo29xTvwbSN0/DCjhcQ\\\n",
       "HxqPjyZ+hD8P+zPC/cOdlsGRjHoj9hTvQYOtQXUUciMsMHKIRlsjtp/e7vLj860Z030MooOi8X6+\\\n",
       "40fqi6qK8Ez6M3jgqwdQWluK+SnzsfLWlejTpY/Dt+1MxmgjahprcKD0gOoo5EZYYOQQOSU5mhif\\\n",
       "b423zht3J96NXYW7cLj8sEO2UW+tx9s5b2PSuknYdHwTpg+Yjg1TN+D2nrdrrvDbwqBvWgfjYUSy\\\n",
       "JxYYOUR6QTq8hBeGdRumOkq73NX7Lvh5+dn9g81SSmw9tRVTP5+KpVlLMazrMKybug6zkmch0CfQ\\\n",
       "rttyJREBEYgLieMgB9kVC4wcQkvj860J9w/H7fG344ujX9htpP5Y5TH8v2//H2ZumQkfnQ/e+sVb\\\n",
       "WDp2Kbp36m6Xx3d1Br0BWUVZTh+OIffFAiO7axmf1+Lhw59L7ZOKWmst1h5e26HHOVd/Di/vfhl3\\\n",
       "fX4X9ln24amhT2HN5DUY3u0/Povv1ozRRpxrOIfDFY45LEuehwVGdrfNvA2AtsbnW5PUOQnJUcn4\\\n",
       "8GD7Rupt0oa1h9di4tqJ+Nf+f2FKryn44o4vcH/f++Gj83FAYtdm1DeddDijkOtgZB8sMLI7k9mE\\\n",
       "iIAIJHVOUh2lw+7tcy/M5834vuD7a/q5bEs27t14L/68/c/o3qk7PpjwAf46/K/oEtDFQUldX3RQ\\\n",
       "NGKCY7gORnaj3U9HkktqGZ8f032MW0zTjb1uLPSBerx/4H2MvW7sVe9fUlOCxZmLsf7oekQGROKl\\\n",
       "kS9hQs8J0An+rgg0rYOlF6RDSukW/3+QWnxVkV3lluTibP1ZjIzV9uHDFt46b9yTdA92ntmJI+VH\\\n",
       "Lnu/BmsDVuauxMS1E/HlT1/iv/v/NzbcsQGTEiaxvH7GqDeivK4cRyuOqo5CboCvLLKrdHM6dEKH\\\n",
       "YV21OT7fmrt63wVfne9lz1KfXpCOO9ffiUWZi2DUG7Fuyjo8bngcQT5BTk7q+louvsnDiGQPLDCy\\\n",
       "q5bx+VC/UNVR7CbcPxy397wdG45tuGik/sTZE5ixeQYe3fwoAOD1ca9j2bhl6BHSQ1VUlxcbHIuo\\\n",
       "wCh+oJnsggVGdlNSU4L9pfs1P33YmtSkVNQ01mDdkXWoaqjC4szFmPr5VGQWZeJJw5P4bPJnmjrr\\\n",
       "vipCCBj1RmQWZUJKqToOaRyHOMhutp/eDkD74/Ot6dOlD5KjkrEybyVW5a2CpcaCKQlTkGZIQ0RA\\\n",
       "hOp4mmLQG/DlT1/i5LmT3FulDuEeGNmNqcCELv5d3GJ8vjX3970fJTUl0Afqsfr21Xhx5Issr3bg\\\n",
       "OhjZC/fAyC6sNiu2n9mO0bGj3XbqbnyP8Vg3ZR3iQ+Pd9t/oDPEh8ejs3xkZhRm4s/edquOQhrHA\\\n",
       "yC5ySnJQWVeJlBj3XgdKCEtQHUHzhBAw6A0c5KAO46+RZBcms6lpfF6jZ58n5zLqjThTdQanz59W\\\n",
       "HYU0jAVGdmEymzAwYqBbjc+T4/D6YGQPLDDqsNKaUuSV5rnl9CE5Ru/w3gjxDeEgB3UIC4w67ML4\\\n",
       "vJucPoocTyd0SNYn88z01CEsMOqwdHM6Ovt3Rp/OfVRHIQ0x6o04ee4kiquLVUchjWKBUYdYbVZs\\\n",
       "P70dI2NGcrScrknL9cF4GJHai+841CG5pbmorKvk+hdds8TOiQjyCWKBUbuxwKhDWsbnh3cbrjoK\\\n",
       "aYy3zhtDooZwHYzajQVGHWIqMGFAxACOz1O7GPQGHK08irLaMtVRSINYYNRuZbVlHJ+nDmlZB8sq\\\n",
       "ylKchLSIBUbtts28DRLS7U8fRY7Tr0s/+Hv58wPN1C4sMGo3k9nUND7fhePz1D4+Xj4YFDWIgxzU\\\n",
       "LiwwapeW8fkR3UZwfJ46xKA34GDZwYuudk3UFpp55xFChAkh1gghDggh8oUQPGusQnmleaioq+D6\\\n",
       "F3WYUW+EhMTe4r2qo5DGaKbAACwF8L9SyiQAgwDkK87j0Tg+T/YyMHIgfHQ+XAeja6aJ64EJIUIB\\\n",
       "jALwEABIKesB1KvM5OlMZhP6R/RHmH+Y6iikcX5efhgQMYCfB6NrppU9sHgAFgDvCiH2CCHeFkIE\\\n",
       "qQ7lqcpqy5BbksvDh2Q3xmgj8svyUdVQpTqKpjXYGrAkcwkqaitUR3EKrRSYN4BkAG9IKYcAqALw\\\n",
       "zKV3EkI8IoTIEEJkWCwWZ2f0GNtPb+f4PNmVQW+AVVq5DtYBUkq8tPMl/DP3n9hxZofqOE6hlQIr\\\n",
       "AFAgpdzZ/Pc1aCq0i0gpV0gpjVJKY2RkpFMDepKW8fm+XfqqjkJuYnDkYHgLb47Td8CqvFVYc2gN\\\n",
       "Hu7/MG6Lv011HKfQRIFJKQsBnBJCJDbfNA7AfoWRPJZN2rDdvB3Duw3n+DzZTaBPIPp26ctBjnba\\\n",
       "fGIzXsl8Bb/s8UvMSp6lOo7TaOkdaCaA1UKIbACDAbykNo5nyivJQ3ldOde/yO4M0QbklOSgtrFW\\\n",
       "dRRNyS3JxTPpz2BAxAD8feTfPeoXS838S6WUe5sPDw6UUk6VUparzuSJTGYTBATH58nujHojGm2N\\\n",
       "yLZkq46iGWfOn8HMLTPRJaALlo5dCn9vf9WRnEozBUauwWRuOvt8uH+46ijkZoZEDYFO6HgYsY3O\\\n",
       "15/Ho5sfRW1jLZaPW46IgAjVkZyOBUZtVl5bjpySHB4+JIfo5NsJieGJHORog0ZbI+b8MAc/Vf6E\\\n",
       "RTcvQkJYgupISrDAqM1axudZYOQoBr0B+yz7UG/leQouR0qJebvmYZt5G56/6XmPPpzPAqM2M5lN\\\n",
       "CPcLR7+IfqqjkJsyRhtRZ61DXmme6igu69/7/42PDn6E3/T7DX51/a9Ux1GKBUZtYpM2bD+9HcNj\\\n",
       "OD5PjpMc1fTxTp5WqnVbTm7ByxkvY/x145FmSFMdRzm+E1Gb7C/dj7LaMh4+JIcK9w9Hr7BeXAdr\\\n",
       "RV5pHp5Jfwb9uvTDSykv8RdJsMCojdLN6RAQGNFthOoo5OaMeiP2FO9Bo61RdRSXUVhViJmbZyLM\\\n",
       "LwyvjXsNAd4BqiO5BBYYtUnL2ec5Pk+OZog2oLqxGgfKDqiO4hKqGqrw2ObHUN1Y7bHj8pfDAqOr\\\n",
       "qqitQI6F4/PkHEa9EQDXwYCmcfmnfngKRyqOYNHoRegd3lt1JJfCAqOr4vg8OVNEQATiQuL4gWYA\\\n",
       "C3cvxA8FP+C5G5/DiBgevr8UC4yuymQ2IcwvDP26cHyenMOgNyCrKAtWm1V1FGVW56/G+wfexwN9\\\n",
       "H8CvE3+tOo5LYoHRFdmkDdtOb8PwbsPhpfNSHYc8hEFvwLmGczhccVh1FCV+KPgBC3YvwJjuY/CE\\\n",
       "4QnVcVwWC4yuKL80n+Pz5HRDo4cCgEeO0x8oO4A5389BUuckzEuZx18cr4AFRld0YXyex9/JiaKD\\\n",
       "ohETHONxgxxFVUWYsXkGQnxD8NrY1xDoE6g6kktjgdEVpReko1+Xfujs31l1FPIwBr0BmUWZkFKq\\\n",
       "juIU1Q3VmLllJs7Xn8fyccsRFRilOpLLY4HRZW03b0d2STZujb9VdRTyQEa9EeV15ThWeUx1FIez\\\n",
       "2qx4+oencbD8IBaOXojEzolX/yFigVHrGm2NWJixELHBsZiWNE11HPJAnvR5sJczXsbWgq145oZn\\\n",
       "MCp2lOo4msECo1Z9euhTHKk4gieNT8LXy1d1HPJAsZ1iERUY5faDHB8e+BDv5b+H+/rcx18WrxEL\\\n",
       "jP7D2fqzWLZ3GYx6I8ZdN051HPJQQggY9AZkFGW47TpYekE65u6ai5tjb8Yc4xzVcTSHBUb/4a19\\\n",
       "b6GyrhJPDX0KQgjVcciDGfVGWGosOHXulOoodnew7CDmfD8HieGJmD9qPsfl24EFRhc5Xnkc7+e/\\\n",
       "jzt634E+XfqojkMe7sI6mJudVspSbcFjWx5DsG8wx+U7gAVGF1mUuQi+Xr6YOWSm6ihEiA+NR2f/\\\n",
       "zm61DlbdUI3HtjyGyrpKLB+3HPogvepImsUCowt2nN6Brae2YvrA6bxkA7mEC+tgbjKJaLVZ8Wz6\\\n",
       "szhQdgALRy1EUuck1ZE0jQVGAJrG5hfsXoCY4Bjc3/d+1XGILjDoDThddRqnz59WHaXDFmcuxpZT\\\n",
       "W/DU0Kcwuvto1XE0jwVGAIDPDn+GIxVH8IThCfh5+amOQ3RByzqY1g8jfnzwY6zavwrTkqbh3j73\\\n",
       "qo7jFlhghHP157BszzIkRyXjFz1+oToO0UV6h/dGiG+Ipgc5tpm34aWdLyElJgVPDX1KdRy3wQIj\\\n",
       "rMhegYq6Cjx1A8fmyfXohA7J+mTN7oEdLj+MJ79/Er3CemHh6IXw1nmrjuQ2WGAe7uTZk3gv/z1M\\\n",
       "6TWFF6wkl2XUG3Hi7AlYqi2qo1yTkpoSzNg8A4HegVg2bhmCfIJUR3IrLDAPtyhjEXx0Ppg1ZJbq\\\n",
       "KESXpcV1sJrGGszcPBMVdRVYNm4ZooOiVUdyOywwD7bzzE5sObUF0wdMR2RgpOo4RJeV2DkRQT5B\\\n",
       "mlkHs0kb/mj6I/JK8zA/ZT76dumrOpJbYoF5KKvNigW7F6BbUDeOzZPL89Z5Y3DUYM3sgS3JWoJN\\\n",
       "JzbhD0P/gDHXjVEdx21pqsCEEF5CiD1CiC9UZ9G6tUfW4lD5ITxufBz+3v6q4xBdlVFvxJGKIyiv\\\n",
       "LVcd5YrWHFqDd3Pfxd2Jd+O+PvepjuPWNFVgAGYDyFcdQuvO1Z/Da3teQ3JUMm7pcYvqOERtooV1\\\n",
       "sB2nd+DFH1/EyJiReOaGZzjV62CaKTAhRCyACQDeVp1F6/6R8w+U15ZzbJ40pV+XfvD38nfZAjta\\\n",
       "cRRPbn0SPcN6YuEojss7g2YKDMASAE8BsCnOoWmnzp7Ce/vfw+SEyRybJ03x8fLBoMhBLjfIIaXE\\\n",
       "tye+xSPfPAI/bz8sH7scwb7BqmN5BE0UmBBiIoBiKeUVf/USQjwihMgQQmRYLNr6vIizvJL5Crx1\\\n",
       "3piVzLF50h5DtAEHyw7ibP1Z1VEAAEfKj2D6pul4fOvjCPUPxZvj30TX4K6qY3kMTRQYgBEAJgsh\\\n",
       "jgP4EMBYIcR7l95JSrlCSmmUUhojIzkWfqndhbvx7clv8dsBv0VUYJTqOETXzKg3QkJiT9EepTkq\\\n",
       "6yoxb9c8/GrDr5Bfmo/nbnwOH0/8GImdE5Xm8jSaOEgrpXwWwLMAIIS4GcAcKSXHe65By9h816Cu\\\n",
       "eKDvA6rjELXLgIgB8NH5ILMoU8nZ3K02Kz478hley3oNlfWV+K/r/wszBs9AuH+407OQRgqMOu7z\\\n",
       "o59fuAYRx+ZJq/y9/TEgYoCSdbA9xXswd+dc5JflIzkqGc/e+Cyv56WY5gpMSrkVwFbFMTTlfP15\\\n",
       "vJr1KgZHDsYtcRybJ20z6A14J/cdVDVUOeXcgkVVRXgl8xV8+dOX0AfqsXDUQtwSdwsneF2AVtbA\\\n",
       "qAPeznkbpbWlePqGp/miI80zRhthlVbsK97n0O3UWevwj+x/YNK6SU1ThgMfwfqp63Fr/K18HbkI\\\n",
       "ze2B0bUpOFeAf+3/FyYnTEb/iP6q4xB12ODIwfASXsgoysDwmOF2f3wpJbae2ooFuxeg4HwBxl03\\\n",
       "DnOMcxDbKdbu26KOYYG5uQtj8zzbPLmJQJ9A9OvSzyEfaD5WcQzzd8/H9tPbkRCagBW/WIFh3YbZ\\\n",
       "fTtkHywwN5ZRmIFNJzZhxuAZ0AfpVcchshtDtAHv7X8PtY21dhlKOld/Dm/sewMf5H+AAO8APD30\\\n",
       "adyddDd8dD52SEuOwjUwN9UyNh8dFI0H+z2oOg6RXRn1RjTYGpBTktOhx7FJG9YeXouJayfivf1N\\\n",
       "F3b94s4vcF/f+1heGsA9MDe1/uh65JflY37KfAR4B6iOQ2RXQ6KGQEAgozADQ6OHtusx9hbvxbxd\\\n",
       "85BXmofBkYPx+vjXeXo1jWGBuaGqhiq8uudVDIwciNvib1Mdh8juOvl2QlLnpHatg1mqLViStQTr\\\n",
       "j65HZEAk5qbMxYT4CZws1CAWmBv6Z84/UVJTgqVjlvJFSW7LoDdgzaE1aLA2wMfr6of76q31eC//\\\n",
       "Pby17y002BrwcP+HMX3gdKd8lowcg2tgbsZ83oxVeaswsedEDIwcqDoOkcMY9UbUWmuRW5p71fv+\\\n",
       "UPAD7vj8DizOXIwbom/AuinrkGZIY3lpHPfA3MzizMXQCR1mJ89WHYXIoZL1yQCaLnA5JGpIq/c5\\\n",
       "XnkcC3YvQLo5HXEhcXhj/BsYGTPSmTHJgVhgbiSrKAtfH/8ajw56FNFB0arjEDlUuH84eoX1QkZh\\\n",
       "Bn474LcXfe98/XmsyF6Bf+f/G35efphjnIPUpNQ2HWok7WCBuQmbtGH+7vnQB+rxUP+HVMchcgqD\\\n",
       "3oANRzeg0dYIb503bNKGDUc3YEnWEpTUlGBqr6mYnTwbEQERqqOSA7DA3MSGoxuwv3Q/5qbM5dg8\\\n",
       "eQxjtBEfHfwIB8oOAADm7pyL7JJsDIwYiFfHvIoBkQMUJyRHYoG5geqGaizNWoqBEQNxe/ztquMQ\\\n",
       "OY1RbwQAPG96Hkcrj6KLfxe8OOJFTEqYBJ3gjJq7Y4G5gXdy34GlxoLFYxbzRUseJSIgAgmhCThx\\\n",
       "7gR+0+83eGTgIwj2DVYdi5yEBaZxZ86fwcq8lbg9/nYMihykOg6R0y0fvxwAEBMcozgJORsLTOMW\\\n",
       "Zy2GgMDjhsdVRyFSgsXluXi8ScP2Fu/FVz99hYf6P8SxeSLyOCwwjbJJGxbsXoCogCj8pt9vVMch\\\n",
       "InI6FphGbTy2ETklOUgzpCHQJ1B1HCIip2OBaVB1QzWWZC1B/y79MaHnBNVxiIiUYIFp0Mq8lSiu\\\n",
       "LsbTNzzNsXki8lh899OYwqpCvJv7Lm6Luw2DowarjkNEpAwLTGOWZC2BhESaIU11FCIipVhgGrLP\\\n",
       "sg8bj23Eg/0eRLfgbqrjEBEpxQLTCCklFuxagMiASDzc/2HVcYiIlGOBacSXP32J7JJszE6ezbF5\\\n",
       "IiKwwDShprEGizMXo2+XvpiUMEl1HCIil8AC04CVeStRVF2Ep4dybJ6IqAXfDV1cy9j8LXG3IFmf\\\n",
       "rDoOEZHL0ESBCSG6CyG+E0LsF0LkCSFmq87kLK9mvQqrzcqzzRMRXUIrl1NpBPCklDJLCNEJQKYQ\\\n",
       "YpOUcr/qYI6UY8nBhmMbMH3AdF4ygojoEprYA5NSnpFSZjV/fQ5APgC3fkeXUmL+7vmICIjAwwM4\\\n",
       "Nk9EdClNFNjPCSHiAAwBsFNxFIfacGwD9ln2YdaQWQjyCVIdh4jI5WjlECIAQAgRDOBTAGlSyrOt\\\n",
       "fP8RAI8AwHXXXefkdPZRUlOCxZmLsf7oevTv0h9Tek1RHYmIyCVppsCEED5oKq/VUsrPWruPlHIF\\\n",
       "gBUAYDQapRPjdViDtQGr81fjzew3UW+tx8P9H8b0gdM5Nk9EdBmaKDAhhADwTwD5UspXVOext/SC\\\n",
       "dCzYvQDHzx7H6NjR+MPQP6BHSA/VsYiIXJomCgzACAD3A8gRQuxtvu05KeWX6iJ13ImzJ7Bg9wL8\\\n",
       "UPAD4kLi8Pq415ESm6I6FhGRJmiiwKSUJgBCdQ57qWqoworsFfjX/n/Bz8sPc4xzkJqUCh8vH9XR\\\n",
       "iIg0QxMF5i5s0oaNxzZiceZiWGosmJIwBWmGNEQERKiORkSkOSwwJ8krycPcXXOxz7IPAyIGYMmY\\\n",
       "JRgYOVB1LCIizWKBOVhpTSle3fMq1h5ei87+nfE/I/4HkxMmc7qQiKiDWGAO0mBrwAf5H+CNfW+g\\\n",
       "1lqLB/s9iN8N/B2CfYNVRyMicgssMAfYbt6O+bvn41jlMYyIGYGnhz6N+NB41bGIiNwKC8yOTp07\\\n",
       "hYW7F+K7U9/huk7XYdnYZRgVOwpNH2MjIiJ7YoHZQXVDNd7OeRur8lbBS+eFtOQ03N/3fvh6+aqO\\\n",
       "RkTktlhgHSClxJc/fYlXMl9BcXUxJvWchDRDGqICo1RHIyJyeyywdsovzce8XfOQVZyFvl36YtHo\\\n",
       "RRgcNVh1LCIij8ECu0ZltWV4bc9r+PTQpwj3D8cLw1/A1F5TORZPRORkLLA2arQ14qODH2H53uWo\\\n",
       "aajBfX3vw+8H/R4hviGqoxEReSQWWBv8eOZHzN81H0cqjmBY12F4+oankRCWoDoWEZFHY4Fdgfm8\\\n",
       "GS/vfhnfnvwWMcExWDpmKcZ0H8OxeCIiF8ACa0VNYw3eyX0H7+a+C53QYdaQWXig3wPw8/JTHY2I\\\n",
       "iJqxwC6x+eRmzNs1D4VVhbgt/jY8YXgC0UHRqmMREdElWGCXKKwqRJhfGOalzINBb1Adh4iILoMF\\\n",
       "dom7E+/GPYn3wEvnpToKERFdAQvsEt46PiVERFrAT98SEZEmscCIiEiTWGBERKRJLDAiItIkFhgR\\\n",
       "EWkSC4yIiDSJBUZERJokpJSqMziEEMIC4ITqHB0UAaBEdQgXwufj//C5uBifj4t15PnoIaWMtGcY\\\n",
       "R3HbAnMHQogMKaVRdQ5Xwefj//C5uBifj4t5yvPBQ4hERKRJLDAiItIkFphrW6E6gIvh8/F/+Fxc\\\n",
       "jM/HxTzi+eAaGBERaRL3wIiISJNYYC5ICNFdCPGdEGK/ECJPCDFbdSbVhBBeQog9QogvVGdRTQgR\\\n",
       "JoRYI4Q4IITIF0IMU51JFSHE482vkVwhxAdCCH/VmZxJCPGOEKJYCJH7s9s6CyE2CSEON/8ZrjKj\\\n",
       "I7HAXFMjgCellH0B3ARghhCir+JMqs0GkK86hItYCuB/pZRJAAbBQ58XIUQMgFkAjFLK/gC8ANyj\\\n",
       "NpXTrQRw6yW3PQNgs5SyN4DNzX93SywwFySlPCOlzGr++hya3qBi1KZSRwgRC2ACgLdVZ1FNCBEK\\\n",
       "YBSAfwKAlLJeSlmhNJRa3gAChBDeAAIBnFacx6mklD8AKLvk5ikAVjV/vQrAVGdmciYWmIsTQsQB\\\n",
       "GAJgp+IoKi0B8BQAm+IcriAegAXAu82HVN8WQgSpDqWClNIM4GUAJwGcAVAppfxGbSqXoJdSnmn+\\\n",
       "uhCAXmUYR2KBuTAhRDCATwGkSSnPqs6jghBiIoBiKWWm6iwuwhtAMoA3pJRDAFTBjQ8RXUnz2s4U\\\n",
       "NJV6NwBBQoj71KZyLbJpzNxtR81ZYC5KCOGDpvJaLaX8THUehUYAmCyEOA7gQwBjhRDvqY2kVAGA\\\n",
       "Aillyx75GjQVmicaD+AnKaVFStkA4DMAwxVncgVFQoiuAND8Z7HiPA7DAnNBQgiBpjWOfCnlK6rz\\\n",
       "qCSlfFZKGSuljEPTAv0WKaXH/pYtpSwEcEoIkdh80zgA+xVGUukkgJuEEIHNr5lx8NCBlkusB/Bg\\\n",
       "89cPAvhcYRaHYoG5phEA7kfT3sbe5v9uVx2KXMZMAKuFENkABgN4SW0cNZr3QtcAyAKQg6b3M484\\\n",
       "A0ULIcQHAHYASBRCFAghHgYwD8AvhBCH0bSXOk9lRkfimTiIiEiTuAdGRESaxAIjIiJNYoEREZEm\\\n",
       "scCIiEiTWGBERKRJLDAiItIkFhgREWkSC4yIiDSJBUZERJrEAiMiIk1igRERkSaxwIiISJNYYERE\\\n",
       "pEksMCIi0iQWGBERaRILjIiINIkFRkREmsQCIyIiTWKBERGRJrHAiIhIk/4/n6/3E9CjZCgAAAAA\\\n",
       "SUVORK5CYII=\\\n",
       "\"\n",
       "  frames[3] = \"data:image/png;base64,iVBORw0KGgoAAAANSUhEUgAAAbAAAAEgCAYAAADVKCZpAAAAOXRFWHRTb2Z0d2FyZQBNYXRwbG90\\\n",
       "bGliIHZlcnNpb24zLjMuMSwgaHR0cHM6Ly9tYXRwbG90bGliLm9yZy/d3fzzAAAACXBIWXMAAAsT\\\n",
       "AAALEwEAmpwYAAAqxUlEQVR4nO3deXhTZd4+8PtJ0iWnG90pbRVUBhBkTRxf11HUV0UQdXRQxAVG\\\n",
       "1hnZBMFxxmtGWQTK8iq7qGgBRwUVcfmBjIqOG6uAIAIqtKVtum9J2izP748WZkAo0CZ5cpL7c11e\\\n",
       "bdM05zaX7e05z/ecI6SUICIi0huD6gBEREQtwQIjIiJdYoEREZEuscCIiEiXWGBERKRLLDAiItIl\\\n",
       "FhgREekSC4yIiHSJBUZERLrEAiMiIl1igRERkS6xwIiISJdYYEREpEssMCIi0iUWGBER6RILjIiI\\\n",
       "dIkFRkREusQCIyIiXWKBERGRLrHAiIhIl1hgRESkSywwIiLSJRYYERHpEguMiIh0iQVGRES6xAIj\\\n",
       "IiJdYoEREZEuscCIiEiXWGBERKRLLDAiItIlFhgREekSC4yIiHSJBUZERLrEAiMiIl0yqQ7gLykp\\\n",
       "KbJ9+/aqYxAR6cr27dtLpZSpqnOci5AtsPbt22Pbtm2qYxAR6YoQ4ojqDOeKhxCJiEiXWGBERKRL\\\n",
       "LDAiItIlFhgREekSC4yIiHSJBUZERLrEAiM6R1JKOHbvhpRSdRQiAguM6JxVv/8Bfrn3D6hat051\\\n",
       "FCICC4zonJW/9ioAwDZvPjy1dYrTEBELjOgcOHbvhvO73UgYOBCe0lKULVumOhJR2GOBEZ2D8txc\\\n",
       "GGJikP7UX5BwxwCUv/IKGvLzVcciCmssMKKzcJeUoPrDj5Bw550wxsYidfx4wGiEbU6O6mhEYY0F\\\n",
       "RnQWFW+8AbhcSBx8PwAgom1bJP9xGGo++gh2XjCaSBkWGFEzZEMDKl//J2KuuQZRHTqceDx56FCY\\\n",
       "2rZF8fQZkF6vwoRE4YsFRtSM6o2b4C4pQdKQB0563GA2I23iRDj37UPVO+8qSkcU3lhgRM2oyM1F\\\n",
       "5IUXIubqq3/1vfjb+8Hcowds8+bCW8exeqJAY4ERnYFjz144du1C4uDBEIZf/6oIIZA+dQo8JaUo\\\n",
       "Xb5cQUKi8MYCIzqDitxcGDQNCXfdecbnmHv2RHz//ih/6WW4CgoCmI6IWGBEp+EuK0P1Bx+cGJ1v\\\n",
       "TtqE8YDBAFsOx+qJAokFRnQalW+8AelyIXHw4LM+NyIjA8nDhqH6gw9h37EjAOmICGCBEf2KdLlQ\\\n",
       "seZ1xFx9NaIu6nD2HwCQPGwoTOnpHKsnCiAWGNEpajZtgttmQ+IDZ9/7Os6gaUibOAHOvXtRtX69\\\n",
       "H9MR0XEsMKJTlL+Wi4gLLkDstdee18/F3347ort3R8nceRyrJwqAoCswIcRLQgibEGLvfz2WJITY\\\n",
       "JIQ42PQxUWVGCl2Ovd/DsXMnkgbff9rR+eYIgwHpU6fAbbOhbMUKPyUkouOCrsAAvALgllMemwJg\\\n",
       "s5SyI4DNTV8T+VxFbi6EpiHhrrta9PNar16I79cPZSteguvYMR+nI6L/FnQFJqXcAqD8lIfvALCy\\\n",
       "6fOVAAYGMhOFB3dZGarffx9tBt4BY1xci18nbeIEAIAtZ66vohHRaQRdgZ1BupSysOnzIgDpKsNQ\\\n",
       "aKp8881zHp1vTkS7dkgeNhTV778P+46dPkoXfBy7d6N640bVMSiM6aXATpBSSgDydN8TQgwXQmwT\\\n",
       "QmwrKSkJcDLSsxOj81deiaiLL2716yUPGwZTWhqKZ84MybF6548/4ujQYTg2ZSqky6U6DoUpvRRY\\\n",
       "sRAiAwCaPtpO9yQp5TIppUVKaUlNTQ1oQNK3mo8/hru4GIkPPHD2J58DQ0wMUieMh3P3blRv2OCT\\\n",
       "1wwW7tJS5I8cBa/TCWm3w7lvn+pIFKb0UmDrATzU9PlDAHj/CvKp8txViMjORux15zc635yEAQMQ\\\n",
       "3a0bbDlz4bXbffa6KnkdDuSNHgN3RQWyF74AALypJykTdAUmhFgD4CsAnYQQ+UKIYQBmArhJCHEQ\\\n",
       "wI1NXxP5hHPfPji2b0fi/fdDGI0+e11hMCD9yalwFxejbMVLPntdVaTXi2NPTIFzzx5kzpmN2Ouu\\\n",
       "Q2SHDrB/u1V1NApTJtUBTiWlvO8M3+ob0CAUNspzV0GYzWhzd8tG55uj9e6N+NtuRdmKFWjz+7sR\\\n",
       "kZHh820ESsm8eajZuBFpTzyBuL6Nv46a1YrqDz+E9Hh8Wv5E5yLo9sCIAsldXo7qDRuQcMcAGOPj\\\n",
       "/bKNtIkTAa8Xtrnz/PL6gVDx5psoW/4i2gz6A5IefujE45rVAm9NDeoPHFCYjsIVC4zCWuWbb0E2\\\n",
       "NCDJR8MbpxORmYmkoY+g+r334Ni1y2/b8Ze6r75C0d//gZirr0bbp56CEOLE9zSLBQDXwUgNFhiF\\\n",
       "Lel2o2LNGmj/cwWiLrnEr9tKefRRGFNTUDRjBhrPBNGH+kOHkP/YWER16IDM+fMgTCevOkRkZCAi\\\n",
       "Kwv2rVwHo8BjgVHYqvl4M9xFRUgaMsTv2zLExCBt/AQ4v9uN6g3v+317vuAuK0PeiJEQUVHIXrL4\\\n",
       "jDf21KxW2LduC8nz3Si4scAobJXnvoaIzEzEXnddQLaXMPAORF96KWw5OfA6HAHZZkt5nU7kjx4D\\\n",
       "d1kZshcvQkRm5hmfq1ks8FRWouHw4QAmJGKBUZhy/vADHNu2I3Hw4IBNz50Yqy8qQtlLwTtWL71e\\\n",
       "HJs6FY7du9Fu1nMwX3ZZs8/XLrcCAOp4GJECjAVGYak8N9dvo/PN0SwWxN1yC8peXAFXUVFAt32u\\\n",
       "Shb8H2o+/Ahpj09E/M03n/X5EVlZMLVtCwcHOSjAWGAUdtwVFah+bwMSBgyAMSEh4NtPe3wi4PGg\\\n",
       "ZF7wjdVXrl2HsqVL0eaee5A0dOg5/YwQAprFgrqtW3U1oEL6xwKjsFP51luQ9fVIHHy/ku1HZmUh\\\n",
       "6eGHUfXuejh271aS4XTqvv4GhU8/jZgrr0Tbv/31pHH5s9GsVnhKSuE6csSPCYlOxgKjsCLdblSs\\\n",
       "XgPtiisQ/ZvfKMuRPHw4jCkpKJ4eHGP19T/9hPzHHkNk+wuRuWA+RETEef28Zm08H4zrYBRILDAK\\\n",
       "KzX/+hfchYVIeqB19/xqLWNsDNLGj4Nj1y5Uf/CB0izu8vLGcfmICGQvWdqim3lGdugAY3Iyzwej\\\n",
       "gGKBUVipeC0XEe3aIfb661VHQcLAgYi6tAtsc3LgdTqVZPDW1yN/zJ/gttmQvWghIrPOPC7fnOPr\\\n",
       "YLwiBwUSC4zChvPAAdi3bkXiYN9edb6lhNGI9ClT4C4sRPnLLwd8+1JKFD75Fzh27kS7556DuUeP\\\n",
       "Vr2eZrXCfawQDfkFPkpI1DwWGIWNitxciOhotLn7btVRToi5/HLE3XwzSpcth6v4tPdp9ZvS559H\\\n",
       "9fvvI3XCBMTf8r+tfj3N2ng+mH0bDyNSYLDAKCy4KypQ9d4GJPTvD2ObNqrjnCRt0uOA2x3QsfrK\\\n",
       "d95B6aLFSPj93Uh+9I8+ec2ojpfAmJDAdTAKGBYYhYWqtWshnU4k+vGq8y0VmZ2NpIcfQtU778Cx\\\n",
       "Z6/ft1f37bco/OvfoF1xBTKefvq8xuWbIwwGmLkORgHEAqOQJ91ulK9eDe3yyxHdSd3ofHOSR4yA\\\n",
       "MTkZxX6+Wn39zz8j/8+PITI7G1ktGJc/G81igevI0YAfDqXwxAKjkFfzySdwHytE4pDg2/s6zhgb\\\n",
       "i9RxY+HYsQM1H33kl224KyqQN3IkhNGI7KVL/HIVkhPrYDyMSAHAAqOQV5G7CqZ2GYgLgtH55rS5\\\n",
       "6y5Ede4M2+w5Ph+r9zY0IP9Pf4a7sAhZC19AZHa2T1//uOjOnWCIieEgBwUEC4xCmvPAj7B/8w2S\\\n",
       "7r//VzdjDDbHx+pdx46h/JWVPntdKSUKn3oKju3b0W7mDGi9evnstU8lTCaY+/SGfSvXwcj/WGAU\\\n",
       "0ipWrYKIikJCEI3ONyfmit8i7qYbUbpsGVw236wjlS5ahOr17yF13FjE33abT16zOZrViobDh+Eu\\\n",
       "K/P7tii8scAoZHkqK1G1fj0SBvSHKTFRdZxzljZpEqTLhZL5C1r9WlXvbUDp8y8gYeBAJI8Y4YN0\\\n",
       "Z6dZGq+LaN+2PSDbo/DFAqOQVbl2XdCOzjcn8oILkPTgEFS9/TYce79v8evYt29H4ZNPQrv8cmT8\\\n",
       "4+8+G5c/G3PXrhBmM8fpye9YYBSSpMeDitWroVksiO7USXWc85YyciSMiYkontmysfqGI0eQP+ZP\\\n",
       "iMjMRNb/LYCIjPRDytMTkZEw9+zBSUTyOxYYhaTaTz+Fq6AAiUOGqI7SIsa4OKSOHQvHtu2o+X8b\\\n",
       "z+tnPZWVyBsxEgCQvWypkiuPaFYr6g8cgKeqKuDbpvDBAqOQVP5aLkwZGYjre4PqKC3W5vd3I6pT\\\n",
       "J9hmz4a3vv6cfkY2NCD/sbFwFRQ0jstfcIGfU56eZrEAUsK+fYeS7VN4YIFRyKk/eBD2r79G4n33\\\n",
       "Bf3ofHOE0Yj0qVPgKihA+cpXz/p8KSUK//Y07N9+i4zp06D16ROAlKdn7tEDIjKShxHJr1hgFHLK\\\n",
       "c1dBREaizT2/Vx2l1WKuuAKxN9yAsiVL4C4pafa5ZUuXouqdd5Dypz8hoX//ACU8PUNUFMzdu3OQ\\\n",
       "g/yKBUYhxVNVhar16xHf/3Zdjc43J33yJHhdLtgWnHmsvvqDD1AyfwHiB/RHypjRAUx3ZmarBc59\\\n",
       "++CprVMdhUIUC4xCSuXadZAOB5J0NjrfnMj27ZE0eDCq1q6Dc9++X33fvmMnjk2ZCrOlDzKefTZg\\\n",
       "4/JnE2O1Ah4PHDt3qo5CIYoFRiHj+Oi82dIH0V26qI7jUymjR8GYkIDiGTNPGqtvyMtD/pgxMGW0\\\n",
       "Rdbzz8MQwHH5szH37AmYTFwHI7/RTYEJIcYLIb4XQuwVQqwRQkSrzkTBpfazz+DKzw+pva/jjPHx\\\n",
       "SB37GOxbt6Jm0yYAjYdL80aMBLxeZC9ZEnSHTA2aBnPXrlwHI7/RRYEJITIBPAbAIqXsBsAIYJDa\\\n",
       "VBRsKnJzYWrbFnF9+6qO4hdt7rkHUR0vgW3WbHjr6pA/dhwa8vKQ9cLziOrQQXW809KsFjj27IHX\\\n",
       "4VAdhUKQLgqsiQmAWQhhAqABOKY4DwWR+kOHUPflV0gcNMjnN2kMFsJkQtqUKXDl5+OnO++C/euv\\\n",
       "kfHMP07cgysYaVYr4HLB8d13qqNQCNJFgUkpCwDMAXAUQCGAKinl+V2egEJa+aqm0fl771Edxa9i\\\n",
       "r7oKsb/7HVxHjyJl9Ci0GThQdaRmmXv3BgwG3l6F/EIXZ3kKIRIB3AGgA4BKAG8KIR6QUuae8rzh\\\n",
       "AIYDwAWKrkBAgeeprkbVO+8ivl8/mJKSVMfxu4zp01D37y8Rf3s/1VHOyhgXh+jOnTnIQX6hiz0w\\\n",
       "ADcC+FlKWSKldAFYB+DKU58kpVwmpbRIKS2pqakBD0lqVK5rHJ1PfGCw6igBYUpKQkL/24NmXP5s\\\n",
       "NKsVju++g7ehQXUUCjF6KbCjAK4QQmii8be2L4D9ijNREJAeDypWrYa5d2+Yu3ZVHYdOQ7NaIOvr\\\n",
       "4dyzR3UUCjG6KDAp5TcA3gKwA8AeNOZepjQUBYXaLVvgystD0pDQG50PFeamazJyHYx8TRcFBgBS\\\n",
       "yqellJ2llN2klEOklOd2eW4KaRWv5cKUno64G29UHYXOwJSYiKiOHbkORj6nmwIjOlX94cOo+/JL\\\n",
       "JN4XuqPzoUKzWmHfuRPS5VIdhUIIC4x0q2LVKoiICLS5J7RH50OBdrkV0m6Hcz+Xrsl3WGCkS56a\\\n",
       "GlQeH51PTlYdh85CO7EOxsOI5DssMNKlqnXrIO12JIbgdQ9DkSk1FZEdOnCQg3yKBUa6I71elK9a\\\n",
       "DXOvXjB34+i8XmgWC+zbt0N6PKqjUIhggZHu1G7ZAtfRo2Fz4nKo0C63wltTg/off1QdhUIEC4x0\\\n",
       "pyJ3FUxpaYi/+WbVUeg8aBYLAK6Dke+wwEhX6n/6GXVffIE2g/7A0XmdicjIQERWFtfByGdYYKQr\\\n",
       "x0fnE++9V3UUagHNYoF927aT7ipN1FIsMNINT20tqt5+G/G33QpTSorqONQCmtUKT0UFGg4dUh2F\\\n",
       "QgALjHSjat3b8HJ0Xte0yxtvvmnfxsOI1HosMNKFxtH5XJh79ID5sstUx6EWisjKgik9nYMc5BMs\\\n",
       "MNKFui++gOvIUe596ZwQovG6iFu5DkatxwIjXSh/LRfG1BTE/y9H5/VOs1jgLimB68gR1VFI51hg\\\n",
       "FPSqN21C3eefI3HQIIjISNVxqJW4Dka+wgKjoObYswfHJk1GdI/uSB42THUc8oHIDh1gTE7mOhi1\\\n",
       "GguMgpbr2DHkjR4NU3IyshcuhCE6WnUk8gEhBDSLBXUsMGolFhgFJU9tLfJGjIR0OJG9dAnP+wox\\\n",
       "mtUK97FCuAoKVEchHWOBUdCRbjcKxk9A/U8/IXPBfERdconqSORjmrXxuojcC6PWYIFRUJFSomja\\\n",
       "NNR9/jnaPv03xF51lepI5AdRHTvCkJDAQQ5qFRYYBZXylStRueZ1JA0byusdhjBhMEDr04eDHNQq\\\n",
       "LDAKGjWbN8P23CzE3XQT0iZOVB2H/EyzWuE6chSuYpvqKKRTLDAKCo6936Pg8UmI7tYN7WY9B2Hg\\\n",
       "f5qh7sT9wbZxL4xahn8lSDlXYSHyR42CMbENshcthMFsVh2JAiC6S2cYYmK4DkYtZlIdgMKbp7YO\\\n",
       "eSNHwWu348I1q2FKTVUdiQJEmEww9+nNdTBqMe6BkTLS7UbBxAmoP3QImfPnI/o3v1EdiQJMs1jR\\\n",
       "cOgw3OXlqqOQDrHASJniGTNR99kWtP3rU4i95mrVcUiB4+eD8TAitQQLjJQof/U1VKxahaSHH0bi\\\n",
       "oEGq45Ai5q5dIaKjYd/KAqPzxwKjgKv55BMUz5yJ2L59kTbpcdVxSCERGQlzr57cA6MWYYFRQDn3\\\n",
       "70fBxMcR3aULMmfPgjAaVUcixTSLBfU//ABPVZXqKKQzuikwIUQbIcRbQogfhBD7hRD/ozoTnR9X\\\n",
       "cTHyRo6CMT4eWYsWwaBpqiNRENCsVkBK2HfsUB2FdEY3BQZgAYCPpJSdAfQAsF9xHjoP3ro65I0a\\\n",
       "BW9NDbKXLkFEeprqSBQkzD16QEREcB2MzpsuzgMTQiQAuBbAwwAgpWwA0KAyE5076fGg4PFJqP/h\\\n",
       "ALIXL0J0p06qI1EQMURFIbpHd54PRudNL3tgHQCUAHhZCLFTCPGiECJGdSg6N7ZZs1D7ySdI/8uT\\\n",
       "iL3uOtVxKAhpViuc+/bBU1unOoquSZcLtpy5cFdUqI4SEHopMBOA3gAWSyl7AagDMOXUJwkhhgsh\\\n",
       "tgkhtpWUlAQ6I51G+erVKF/5KhIfHIKkwYNVx6EgpVksgMcDx86dqqPolpQSRc88i7Lly1H35Zeq\\\n",
       "4wSEXgosH0C+lPKbpq/fQmOhnURKuUxKaZFSWlJ5SSLlardsQfGz0xB7/fVIf+IJ1XEoiGm9egEm\\\n",
       "E8fpW6H8pZdR+cYbSH70UST066c6TkDoosCklEUA8oQQxxdP+gLYpzASnYXzwAEUjBuPqM6dkDln\\\n",
       "NsflqVkGTUN010u5DtZC1Zs2wTZnDuJuuQWp48epjhMwuiiwJn8GsEoIsRtATwDT1cahM3HZbMgb\\\n",
       "OQqGuDhkL14MQwyXK+nsYqxWOPbsgdfpVB1FVxx79uDYpMmI7n4Z2s2cEVa3ItLNv6mUclfT4cHu\\\n",
       "UsqBUsrwWKXUGa/djvxRo+GpqkL2ksWISE9XHYl0QrNaAZcLjl3fqY6iG65jx5A3ejRMycnIXrgQ\\\n",
       "huho1ZECSjcFRsFPejwomDwZzv37kZkzB9FduqiORDpi7t0bMBh4GPEceWprkTdiJKTDieylS2BK\\\n",
       "SVEdKeB0cR4Y6YNtTg5qP96M9CefRNz116uOQzpjjItDdOfOHOQ4B9LtRsH4Caj/6SdkL1uKqEsu\\\n",
       "UR1JCe6BkU9UvP5PlL/8MhIHD0bSg0NUxyGd0qwWOHbtgreB1yk4EykliqZNQ93nn6Pt039D7FVX\\\n",
       "qY6kDAuMWq328y9Q9MwziLnuWqRP/dXpeUTnTLNaIevr4dy7V3WUoFW+ciUq17yOpGFDkXjvvarj\\\n",
       "KMUCo1Zx/vgjCsaNQ1THjsjMmQth4lFpajlznz4AAPu3XAc7nZrNm2F7bhbibroJaRMnqo6jHAuM\\\n",
       "WsxdUoK8kSNh0DRkL1kMYyzH5al1TImJiOrYketgp+HY+z0KHp+E6G7d0G7Wc2E1Ln8mfAeoRbwO\\\n",
       "B/JGj4GnohJZixcjom1b1ZEoRGhWKxw7dkC63aqjBA1XYSHyR42CMbENshcthMFsVh0pKLDA6LxJ\\\n",
       "rxfHnpgC5969yJwzG+ZuXVVHohCiWS3w2u1w7ucdkwDAU1uHvFGj4bXbkb1kCUy8TN4JLDA6byVz\\\n",
       "56Jm40akPTEZcX37qo5DIUazWABwHQxoHJc/NnEi6g8eROb8+Yj+zW9URwoqLDA6LxVvvIGyF1eg\\\n",
       "zaA/IOmhh1THoRBkSk1FZPv2PKEZQPHM51D72Wdo+9enEHvN1arjBB0WGJ2zui+/RNHf/4GYq69G\\\n",
       "26eeghBCdSQKUZrVCvv27ZAej+ooypS/louK3FwkPfwwEgcNUh0nKLHA6JzUHzqE/LHjEHXRRcic\\\n",
       "P4/j8uRXmtUCb00N6n/8UXUUJWo+/RTFM2Ygtm9fpE16XHWcoMUCo7Nyl5Yib8RIiKiopnH5WNWR\\\n",
       "KMRpVisAwL41/Mbpnfv3o2DCRER36YLM2bN4K6JmsMCoWV6nE3ljxsBdVobsxYsQkZmpOhKFgYiM\\\n",
       "DERkZYXdOpiruBh5I0fBGB+PrEWLYNA01ZGCGo8DUbMKn/ornLv3IHPBfJgvu0x1HAojmsWC2s8+\\\n",
       "g5QyLNZbvXV1yBs1Ct6aGly4ZjUi0tNURwp63AOjM6r94t+o3rABKWPGIP7mm1XHoTCjWa3wVFSg\\\n",
       "4fBh1VH8Tno8KHh8Eup/OIDMeXMR3anT2X+IWGB0etLthu25mYjIzkby8EdVx6EwpFmbzgcLg8OI\\\n",
       "tlmzUPvJJ0j/y5OIve461XF0gwVGp1X55puoP3gIaZMehyEyUnUcCkMR2dkwpaeH/CBH+erVKF/5\\\n",
       "KhIfHIKkwYNVx9EVFhj9iqe6GiUL/g+a1Yq4m25SHYfClBACmsUC+9atkFKqjuMXtVu2oPjZaYi9\\\n",
       "/nqkP/GE6ji6wwKjXyldtBieqiqkT50SFovnFLw0qxXukhK4jh5VHcXnnAcOoGDceER17oTMObM5\\\n",
       "Lt8CLDA6Sf3PP6M8NxcJd9+F6EsvVR2HwlyoroO5bDbkjRwFQ1wcshcvhiGGtyJqCRYYncQ2ew4M\\\n",
       "kZFIGztWdRQiRF50EYzJySG1Dua125E/ajQ8VVXIXrIYEenpqiPpFguMTqj78kvU/utfSB45krds\\\n",
       "oKDw3+tgoUB6PCiYPBnO/fuRmTMH0V26qI6kaywwAtA4Nl88YyYiMjOR9NCDquMQnaBZLHAdOwZX\\\n",
       "QYHqKK1mm5OD2o83I33KFMRdf73qOLrHAiMAQOVba1F/8CDSJk2CISpKdRyiE7TLm66LuE3fhxEr\\\n",
       "Xv8nyl9+GYmDByPpwSGq44QEFhjBU1ODkgULYLb0Qdz/8oobFFyiOnaEISEBdTo+jFj7+RcoeuYZ\\\n",
       "xFx3LdKnTlEdJ2SwwAili5fAU1mJ9ClTOTZPQUcYDND69IFDp4Mczh9/RMG4cYjq2BGZOXN5KyIf\\\n",
       "YoGFuYYjR1D+2mtIuPNOmLt1VR2H6LQ0iwUNR47AZbOpjnJe3CUlyBs5EgZNa7oVEcflfYkFFuaK\\\n",
       "Z8+GiIhA6jiOzVPwOn5/MIeO1sG8DgfyRo+Bp6ISWUsWI6JtW9WRQg4LLIzVff01aj/ejJThwxGR\\\n",
       "xls3UPCK7tIZhpgY3ayDSa8Xx56YAufevcjMmQNzVx7d8AcWWJiSHk/j2Hy7dkh6+CHVcYiaJUwm\\\n",
       "mHv31s0eWMncuajZuBHpU55A3A03qI4TsnRVYEIIoxBipxBig+osele5di3qDxxovNp8dLTqOERn\\\n",
       "pVmtqD94CO6KCtVRmlXxxhsoe3EFEu+/D4kP8pxKf9JVgQEYC2C/6hB656mpQcn8BTD37o24W25R\\\n",
       "HYfonGiW4L8uYt2XX6Lo7/9AzLXXIP3JJznV62e6KTAhRBaAfgBeVJ1F78qWLoWnvBzpUzk2T/ph\\\n",
       "7tYVIjo6aE9orj90CPljxyHq4ouROZfj8oGgmwIDMB/AZABexTl0reHoUZSvfBUJAwfCfFk31XGI\\\n",
       "zpmIjIS5Z8+gu7CvlBLVGzfi6NBhENFRTePysapjhQVdFJgQ4nYANinl9rM8b7gQYpsQYltJSUmA\\\n",
       "0umLbfYcwGRC6vjxqqMQnTfNakH9Dz/AU12tOgoAoP7gQRwdOhQFj42FsU0bXLB8OSLatVMdK2zo\\\n",
       "osAAXAVggBDiFwCvA7hBCJF76pOklMuklBYppSWVV1P/lbpvvkXNpk1IGf4oItI5Nk/6o1mtgJSw\\\n",
       "b2/2/2X9zlNVhaJp0/HTwDvh3Lcf6X99Ch3WrUV0585Kc4UbXRSYlHKqlDJLStkewCAA/5JSPqA4\\\n",
       "lq5IjwfFM2fClJGBpEceUR2HqEXM3btDREQoWweTHg8q/vkGDt9yKypWrUKbe+/BxR99iKTBg7nm\\\n",
       "pQDf8TBR9fbbqN+/H+1y5nBsnnTLEB2N6B7dlayD2XfsQNGzz6J+336YLX3Q9i9/4f28FNNdgUkp\\\n",
       "PwXwqeIYuuKprYNt/gKYe/ZE/G23qY5D1CqaxYKy5S/CU1sXkGsLuoqLYZs9B9UbNsDUti0y5+Yg\\\n",
       "7tZbOcEbBHRxCJFap2zZMnhKS5H+JMfmSf80qxXweODYtcuv2/HW16N0yVIcvvU21GzciORRI3Hx\\\n",
       "B+8j/rbb+HsUJHS3B0bnpyE/H+WvvIKEOwbA3L276jhErab17AkYjbBv3YrYq6/y+etLKVH7ySco\\\n",
       "njETrrw8xN10I9KeeAKRWVk+3xa1DgssxNnm5ABGI8fmKWQYYmIQ3a2rXwY56g8fRvH0Gaj7978R\\\n",
       "ecnFuOClFYi58kqfb4d8gwUWwuzbtqHmo4+Q8uc/8VYOFFJirFaUr3wVXqfTJ0NJnpoalL6wEOWr\\\n",
       "VsFgNiP9yalIvO8+iIgIH6Qlf+EaWIiSXi+Kp8+AqW1bJA8dqjoOkU+ZLRZIlwuO73a36nWk14vK\\\n",
       "tWtx+JZbUf7qq2hz5524+P99hKQHH2R56QD3wEJU1TvvwrlvH9rNng2D2aw6DpFPaX36AELAvnUr\\\n",
       "Yn57eYtew75zJ4qnTYdz716Ye/VC+tKlvCu5zrDAQpC3rg62eXNh7tED8bf3Ux2HyOeMcXGI6tK5\\\n",
       "RetgLpsNJTlzUfXuuzClpqLd7FmIv/12ThbqEAssBJUuXw5PSSnSn3+ev5QUsmKsVlT88w3IhgaI\\\n",
       "yMizPt/b0ICKV19F6aLFkC4Xkh99FMkjRgTkXDLyD66BhRhXQQHKX3oZ8f37w9yzp+o4RH5jtlgg\\\n",
       "nU449u4963NrPv0UP/XvD9ucHGi//S0u2vAe0iZOYHnpHPfAQowtJwcwGJA2gWPzFNr+c4PLbdB6\\\n",
       "9z7tc+p//hnFM2ei7rMtiOzQAdnLlyH2mmsCGZP8iAUWQuw7dqD6gw+RMmYMIjIyVMch8itTYiKi\\\n",
       "OnZsvEPziOEnfc9TW4vSxYtR/uprMERGIm3yZCQ9MPicDjWSfrDAQsSJsfn0dCQP49g8hQfNakHV\\\n",
       "O+9Cut0QJhOk14uqd9fDNjcHnpJSJNx1F9LGj4OJt1cKSSywEFG1fj2ce/ei3aznYNA01XGIAkKz\\\n",
       "WlGxeg2c+/cDAIqefRbO73Yjukd3ZC9cyMunhTgWWAjw1tWhZO48RHfvjvjbb1cdhyhgjq+DHZs6\\\n",
       "FQ2HDsOYkoKMGTOQcMcACANn1EIdCywElK1YAbfNhswF8/lLS2HFlJqKyEsuRsORo0gaNhQpo0bB\\\n",
       "GBurOhYFCAtM51zHjqFsxUuI79cPWq9equMQBVz2kqUAgMisTMVJKNBYYDpny5kLAEibOEFxEiI1\\\n",
       "WFzhi8ebdMy+Yyeq338fycOGIqJdO9VxiIgCigWmU9LrRfHMmTClpSH5j39UHYeIKOBYYDpVvWED\\\n",
       "nLt3I23iBI7NE1FYYoHpkNduhy1nLqIvuwzx/furjkNEpASHOHSobMVLcBcXI3PePI7NE1HY4l8/\\\n",
       "nXEVFqJsxQrE33YbtN4cmyei8MUC0xnb3HmAlBybJ6KwxwLTEceuXah+7z0kDX0EEZk894WIwhsL\\\n",
       "TCeklCiaMQOm1FSkcGyeiIgFphfVG96H87vdSJ0wAYYY3kWWiIgFpgNehwO2nBxEd+2KhDsGqI5D\\\n",
       "RBQUOEavA2UvvQR3UREyc+ZwbJ6IqAn/GgY5V1ERyl5cgbhbb4HWp4/qOEREQUMXBSaEyBZCfCKE\\\n",
       "2CeE+F4IMVZ1pkApmTcP8HiQNvFx1VGIiIKKXg4hugFMlFLuEELEAdguhNgkpdynOpg/OXbvRtW7\\\n",
       "65E8YgRvGUFEdApd7IFJKQullDuaPq8BsB9ASP9Fl1KiePoMGFNTkPzoo6rjEBEFHV0U2H8TQrQH\\\n",
       "0AvAN4qj+FXVu+/CsWsX0saNhzGWY/NERKfSyyFEAIAQIhbAWgDjpJTVp/n+cADDAeCCCy4IcDrf\\\n",
       "cJeUwJYzF1XvvIPoyy5Dwp0DVUciIgpKuikwIUQEGstrlZRy3emeI6VcBmAZAFgsFhnAeK0mGxpQ\\\n",
       "/louShctgmxoQPKjjyJ5xAiOzRMRnYEuCkwIIQCsALBfSjlXdR5fq92yBcXTZ6Dhl18Q+7vfIX3K\\\n",
       "E4hs3151LCKioKaLAgNwFYAhAPYIIXY1PfaklPIDdZFar+GXX1A8YyZqP/sMke3bI3vZUsRee63q\\\n",
       "WEREuqCLApNSfgFAqM7hK57aOpQtXYKyV1bCEBmJtMmTkfTAYIjISNXRiIh0QxcFFiqk14vq996D\\\n",
       "bU4O3CUlSLjzTqRNGA9TaqrqaEREusMCCxDHnr0onjYNjl27EN29O7JeeB7mHj1UxyIi0i0WmJ+5\\\n",
       "y8pgmzcPVWvXwZicjIzp05Ew8A5OFxIRtRILzE+ky4XyVatQ+sJCeOvrkfTII0gZPQrG2FjV0YiI\\\n",
       "QgILzA9qv/g3imfMQMPhw4i55hqkT52KqIs6qI5FRBRSWGA+1JCXh+KZz6F282ZEXHgBshYvQuzv\\\n",
       "fofG09iIiMiXWGA+4K2rQ+my5Sh/+WXAZELqxAlIeughGDgWT0TkNyywVpBSonrD+7DNmQN3cTES\\\n",
       "7hiA1AkTEZGepjoaEVHIY4G1kHPfPhRNmw7H9u2I7toVmfPnQevVS3UsIqKwwQI7T+7ycpTMX4DK\\\n",
       "N9+EMTERGc8+g4S77uJYPBFRgLHAzpF0u1Gx5nWUPP88vHY7kh58ECljRsMYH686GhFRWGKBnYO6\\\n",
       "r75C8fTpqD94CDFXXon0J6ci6pJLVMciIgprLLBmNOQXwPbcc6jZtAkRWVnIWvgCYm+4gWPxRERB\\\n",
       "gAV2Gl6HA2XLX0TZihWAwYDUceOQ9MjDMERFqY5GRERNWGCnqPn4YxRNmw53YSHi+/VD2qTHEdG2\\\n",
       "repYRER0ChbYKVzHCmFs0waZs2dBs1hUxyEiojNggZ0i8f77kDj4fgijUXUUIiJqBgvsFMLEt4SI\\\n",
       "SA949i0REekSC4yIiHSJBUZERLrEAiMiIl1igRERkS6xwIiISJdYYEREpEtCSqk6g18IIUoAHFGd\\\n",
       "o5VSAJSqDhFE+H78B9+Lk/H9OFlr3o8LpZSpvgzjLyFbYKFACLFNSsnrWTXh+/EffC9OxvfjZOHy\\\n",
       "fvAQIhER6RILjIiIdIkFFtyWqQ4QZPh+/Affi5Px/ThZWLwfXAMjIiJd4h4YERHpEgssCAkhsoUQ\\\n",
       "nwgh9gkhvhdCjFWdSTUhhFEIsVMIsUF1FtWEEG2EEG8JIX4QQuwXQvyP6kyqCCHGN/2O7BVCrBFC\\\n",
       "RKvOFEhCiJeEEDYhxN7/eixJCLFJCHGw6WOiyoz+xAILTm4AE6WUlwK4AsAYIcSlijOpNhbAftUh\\\n",
       "gsQCAB9JKTsD6IEwfV+EEJkAHgNgkVJ2A2AEMEhtqoB7BcAtpzw2BcBmKWVHAJubvg5JLLAgJKUs\\\n",
       "lFLuaPq8Bo1/oDLVplJHCJEFoB+AF1VnUU0IkQDgWgArAEBK2SClrFQaSi0TALMQwgRAA3BMcZ6A\\\n",
       "klJuAVB+ysN3AFjZ9PlKAAMDmSmQWGBBTgjRHkAvAN8ojqLSfACTAXgV5wgGHQCUAHi56ZDqi0KI\\\n",
       "GNWhVJBSFgCYA+AogEIAVVLKjWpTBYV0KWVh0+dFANJVhvEnFlgQE0LEAlgLYJyUslp1HhWEELcD\\\n",
       "sEkpt6vOEiRMAHoDWCyl7AWgDiF8iKg5TWs7d6Cx1NsBiBFCPKA2VXCRjWPmITtqzgILUkKICDSW\\\n",
       "1yop5TrVeRS6CsAAIcQvAF4HcIMQIldtJKXyAeRLKY/vkb+FxkILRzcC+FlKWSKldAFYB+BKxZmC\\\n",
       "QbEQIgMAmj7aFOfxGxZYEBJCCDSuceyXUs5VnUclKeVUKWWWlLI9Ghfo/yWlDNv/y5ZSFgHIE0J0\\\n",
       "anqoL4B9CiOpdBTAFUIIrel3pi/CdKDlFOsBPNT0+UMA3lWYxa9YYMHpKgBD0Li3savpn9tUh6Kg\\\n",
       "8WcAq4QQuwH0BDBdbRw1mvZC3wKwA8AeNP49C4srUBwnhFgD4CsAnYQQ+UKIYQBmArhJCHEQjXup\\\n",
       "M1Vm9CdeiYOIiHSJe2BERKRLLDAiItIlFhgREekSC4yIiHSJBUZERLrEAiMiIl1igRERkS6xwIiI\\\n",
       "SJdYYEREpEssMCIi0iUWGBER6RILjIiIdIkFRkREusQCIyIiXWKBERGRLrHAiIhIl1hgRESkSyww\\\n",
       "IiLSJRYYERHpEguMiIh06f8DJMF48BiaCrUAAAAASUVORK5CYII=\\\n",
       "\"\n",
       "  frames[4] = \"data:image/png;base64,iVBORw0KGgoAAAANSUhEUgAAAbAAAAEgCAYAAADVKCZpAAAAOXRFWHRTb2Z0d2FyZQBNYXRwbG90\\\n",
       "bGliIHZlcnNpb24zLjMuMSwgaHR0cHM6Ly9tYXRwbG90bGliLm9yZy/d3fzzAAAACXBIWXMAAAsT\\\n",
       "AAALEwEAmpwYAAAnGklEQVR4nO3deWyc92Hm8e+P982hSIrkkCIpiUPrJCVLsnXZcWzJtizHV+zE\\\n",
       "RZMmcVI3sdOkRYs2WWBbbLEosrtF0QKxi3Wda5vAh2T5iK34lA/d1knd5iHxvkmRFO9jfvsHaSdW\\\n",
       "JFsSOfPOO/N8gEAUxYgPxpp5OPM+877GWouIiIjbRDkdQERE5FqowERExJVUYCIi4koqMBERcSUV\\\n",
       "mIiIuJIKTEREXEkFJiIirqQCExERV1KBiYiIK6nARETElVRgIiLiSiowERFxJRWYiIi4kgpMRERc\\\n",
       "SQUmIiKupAITERFXUoGJiIgrqcBERMSVVGAiIuJKKjAREXElFZiIiLiSCkxERFxJBSYiIq6kAhMR\\\n",
       "EVdSgYmIiCupwERExJVUYCIi4koqMBERcSUVmIiIuJIKTEREXEkFJiIirqQCExERV1KBiYiIK6nA\\\n",
       "RETElWKcDhAoWVlZtri42OkYIiKucujQoU5rbbbTOa5E2BZYcXExBw8edDqGiIirGGPqnM5wpfQS\\\n",
       "ooiIuJIKTEREXEkFJiIirqQCExERV1KBiYiIK6nARETElVRgIi4zMeanva4Pa63TUUQcFbbvAxMJ\\\n",
       "Vzu3VHHygyYKFmRw01dKmeVNdjqSiCP0DEzERbqa+jm1swmvz0NH/QWe/Z8fsuv5KkYGx5yOJhJ0\\\n",
       "egYm4hLWWnZtqSIuMYZNf7EUi2X/y2epeLeBygOtrL53PgvW5hEVZZyOKhIUegYm4hK1x7toPHOe\\\n",
       "VXfPJSEllsSUOG750wV85cer8OQk8e6vz7D1Jwdpqel1OqpIUKjARFxgYtzP7q1VeHKSWPKF/E/9\\\n",
       "WXZhKvf/zfVs/PYiBvtG2fZ/DvHWL04y0DPiUFqR4NBLiCIucPy9Rnrbh9j8eBnR0X/8c6cxhtJV\\\n",
       "ucwty+bQ67UcfauBs0c7WbmpiGW3FRIdq59VJfyowERC3FD/KAdeq6Vw0SyKlmR+5tfGxkez+t75\\\n",
       "LFzrZffWKva9dJZTu1tY/5CP4qWZGKPjYxI+9GOZSIj78LfnGBuZYO2DJVdcQOnZidz1vTLu+cEy\\\n",
       "oqMN2588xqs/reB860CA04oEjwpMJIR1NfVz8oMmltzkJdObctX//zmLZvHV/34D6x/y0VrTy7P/\\\n",
       "9CG7t1YxOjQegLQiwaWXEEVClLWW3VsnZ/OrvjT3mv+e6Ogoym+bg29VDvtfruHoOw189GEba+6b\\\n",
       "x4LVeRjN7sWl9AxMJETVneii4fR5Vm2eS2JK3LT/vqS0OL749YU89KOVpGclsOP/nWHr/z5E6znN\\\n",
       "7sWdVGAiIWhiws/urdWXnM1P1+yiNB742xVs+OZC+s8P88L/OsQ7vzzFQK9m9+IueglRJASdeK+J\\\n",
       "nrZBNj9WRnTMzP+caaIM163OY+6ybA79rpajbzdQc7SDVXfNpezWgoB8T5GZpgITCTHD/WMceO0c\\\n",
       "cxZmULT0s2fz0xWXEMOa+0s+md3v2VbNqd3NrH/I97mTfRGn6ccskRDz4avnGB0aZ92DvqC9b8uT\\\n",
       "k8Tmx8u5+/vlALz60wpefaKCnrbBoHx/kWuhZ2AiIaS7eYATHzSx+KZ8MvOvfjY/XUVLMilYkMGx\\\n",
       "HY0c2H6OZ/5pP8s2zGHFpmLiEvRwIaEl5J6BGWN+boxpN8ac+IPPzTLGvGWMqZr6NcPJjCKBsvuF\\\n",
       "KmLjo7lhGrP56YqOiWL57YX86f9YTekNORx+o57f/OM+PtrXgvXrIpoSOkKuwIBfAnde9LkfAe9Y\\\n",
       "a33AO1O/FwkrdSe6qD/ZzarNxSSmTn82P13J6fHc9o1FfPnvV5DiieftX55m278cor2uz+loIkAI\\\n",
       "Fpi19gOg+6JP3wv8aurjXwH3BTOTSKBNzuarSM9OZOktBU7H+ZTcuek8+PcrufXPFtLbMcSWnxxk\\\n",
       "x3+dZrBv1OloEuHc8qJ2jrW2ZerjViDHyTAiM+3kB02cbx3kru8tDckJu4kyLFybx7zl2Rx87RzH\\\n",
       "djRSc6idmx4uZcHqPKfjSYQKvXvK57DWWuCSL8QbYx41xhw0xhzs6OgIcjKRazM8MMaHvz1HwYIM\\\n",
       "isuynI7zmeITY1j3oI+H/+EGPLnJvP9MJRMTfqdjSYRyS4G1GWPyAKZ+bb/UF1lrn7LWrrTWrszO\\\n",
       "zg5qQJFrdcCB2fx0ZeQms2zDHMZHJuiov+B0HIlQbimwV4BvTH38DeBlB7OIzJjulgGOv9/EovVe\\\n",
       "sgqCP5ufDq/PA0BzVY+jOSRyhVyBGWOeAfYC1xljGo0x3wZ+Amw0xlQBG6Z+L+J6e16oJjYuihu+\\\n",
       "NM/pKFctOT0eT06SCkwcE3IjDmvtn1zmj24LahCRAKs72UXdiS7WPlBCUprzs/lr4fV5qD7Ujt9v\\\n",
       "idJlWSTIQu4ZmEgk8E/42b2lirTsRMq+GFqz+avh9XkYHRqnq7Hf6SgSgVRgIg44ubOZ862DrPty\\\n",
       "CdGx7r0b6jiYOMm99xwRlxoeGGP/b8+Sf52HueWhPZv/PKmzEkjLSlCBiSNUYCJBdvC1WkYGx1n/\\\n",
       "kHtm85/FW+KhuapH50mUoFOBiQTR+dYBjr/XyKJ1XrIKUp2OMyO8pR6GB8bobh1wOopEGBWYSBDt\\\n",
       "eaGa6LgobrzHfbP5y/nkOFhlj6M5JPKowESCpP5UF7XHu1i5qdi1s/lLSctKJNkTT3N1j9NRJMKo\\\n",
       "wESCwD/hZ/fWatKyEii/dY7TcWaUMQavz0NzZQ+TpyoVCQ4VmEgQnNrVTHfzAGtdPpu/HK/Pw2Df\\\n",
       "KL3tQ05HkQgSfvckkRAzMjjG/lfO4fV5mLcsPE8ynV/qAfR+MAkuFZhIgB3YXsvw4FjYzOYvxZOT\\\n",
       "RGJqLE1V552OIhFEBSYSQD1tgxzf0cjCtXlkF4bHbP5SPjkOpmdgEkQqMJEA2v1CNdGx4TWbvxyv\\\n",
       "z0N/9wh9nToOJsGhAhMJkIbT3dQe62TFpiKS0+OdjhNwXl8GgOb0EjQqMJEA8E/42bWlitTMBMpv\\\n",
       "C6/Z/OVkepOJT4rRG5olaFRgIgFwanfL5Gz+gRJiYqOdjhMUJsqQV6LjYBI8KjCRGTYyNM7+V86S\\\n",
       "V5LO/OvDczZ/OfmlHno7hhjoGXE6ikQAFZjIDDu4vZbhgfCezV/Ox+dF1JxegkEFJjKDetoHObaj\\\n",
       "gQVr8phdlOZ0nKDLKkghNiGa5qpep6NIBFCBicygPS9UExUTxep7w382fylR0VHkzffQXKlnYBJ4\\\n",
       "KjCRGdJ4pptzFZ2suDMyZvOX4/Wlc751kMG+UaejSJhTgYnMAL/fsmtLNamzElgWIbP5y8kvnXw/\\\n",
       "WIveDyYBpgITmQGndzfT1dTPmgfmExMXGbP5y8kuTCUmNkpzegk4FZjINH0ym5+fTsmK2U7HcVx0\\\n",
       "TBS589NpUoFJgKnARKbp0O9qGbowxvqvRN5s/nK8Pg9dTf0MD4w5HUXCmApMZBp6Owap2NHAgtW5\\\n",
       "ETmbvxyvzwMWWmo0p5fAUYGJTMOebTVERRlW3zff6SghJWduGlExRnN6CSgVmMg1avroPGePdEzO\\\n",
       "5j2RO5u/lJjYaHKK0zTkkIBSgYlcA7/fsmtrFSkZ8SzbUOh0nJCUX5pBR0M/o8PjTkeRMKUCE7kG\\\n",
       "Z/a20NnQP3m2+QifzV+Ot8SD9VtadRxMAkQFJnKVRofH2ffyWXLnpVGyUrP5y8mdn05UlNGcXgLG\\\n",
       "NQVmjPlrY8xJY8wJY8wzxpgEpzNJZDr0eh1DfaOsf6hUs/nPEBsfTXZRKi0qMAkQVxSYMSYf+AGw\\\n",
       "0lq7BIgGHnY2lUSivs4hKt5u4Lobc8mZq9n85/H6PLTV9jE2OuF0FAlDriiwKTFAojEmBkgCmh3O\\\n",
       "IxFoz7YaTBSsvi8yzzZ/tbw+D/4JS9tZHQeTmeeKArPWNgH/AtQDLUCvtfZNZ1NJJBkZGmfX1ipq\\\n",
       "Drdz/R1FpGToFewrkVfiwRg0p5eAiHE6wJUwxmQA9wJzgR5gizHma9baX1/0dY8CjwIUFmraLNNn\\\n",
       "/ZYz+1rY+2INQ/1jLFqXx/Lb9W/rSsUnxpA1J1UFJgHhigIDNgDnrLUdAMaYbcBa4FMFZq19CngK\\\n",
       "YOXKlTbYISW8tJ7rZeezlbTXXSB3Xhp3f79cp4u6Bt4SDyd2NjEx5ic61hUv+ohLuKXA6oHVxpgk\\\n",
       "YAi4DTjobCQJVwO9I+x7sYYz+1pJSo9jwzcXUnpDLiZKi8Nr4S31ULGjgba6PrwlHqfjSBhxRYFZ\\\n",
       "a/cbY7YCh4Fx4AhTz7REZsrEuJ+KHQ0cfK2WiXE/199RyIpNxcQluOJuErLyStKByeNgKjCZSa65\\\n",
       "Z1pr/xH4R6dzSHiqPd7J7q3V9LQNUrw0k3UP+vDkJDkdKywkpsQxy5s8eRxsk9NpJJy4psBEAqGn\\\n",
       "bZBdW6uoO96FJyeJu79fTtGSTKdjhZ18n4fT+1qZmPATHa3jYDIzVGASkUaHxzm4vZaKdxqIjo1i\\\n",
       "7QMllN1aQHSMHlwDIc/n4fj7TXTW9+sN4DJjVGASUazf8tGHrezdVsNg3ygL1uSy+r75JKfrciiB\\\n",
       "5PV5AGiqOq8CkxmjApOI0Vbbx87nKmk718fsolQ2fW8puXPTnY4VEZLT4/HkJE2eF/H2IqfjSJhQ\\\n",
       "gUnYG+wbZd9LNZze20Jiahy3/tlCFqzWLD7YvD4P1Yfa8fstUbrtZQaowCRsTUz4Of5uIwdePcf4\\\n",
       "qJ9lGwpZdVcxcYn6Z+8Er8/DqV3NdDX1kz0n1ek4EgZ0T5awVH+qi13PV3G+dZDCxbNY/5CPjNxk\\\n",
       "p2NFtI+PgzVX9qjAZEaowCSs9HYMsmtLNbXHOknLTmTzY2UULc3UdbtCQOqsBNKyEmiu7qH8tjlO\\\n",
       "x5EwoAKTsDA6PM7h1+s48nY9UdFRrL5vHstuK9S590KMt8RD7YkurLX6oUKmTQUmrmatpepAG3te\\\n",
       "qGagd5TSG3NYe38JyR7N4kORt9TDmX2tdLcMkOlNcTqOuJwKTFyro/4CO5+rpKWml+zCVO54dCl5\\\n",
       "8zWLD2UfHwdrqepRgcm0qcDEdYYujLLvlbOc2tVMYkosX/zaAhaszdM02wXSshJJ9sTTVNXDki8U\\\n",
       "OB1HXE4FJq4xMeHnxPtNHHj1HKPDE5R/cQ6r7i4mPinW6WhyhYwxeH0emirP6ziYTJsKTFyh8Uw3\\\n",
       "O5+vort5gIIFGdz0lVJmeTWLdyOvz0PVgTZ624d0xn+ZFhWYhLyzRzr43VPHSctMYNN3lzK3PEs/\\\n",
       "ubtYfqkHgObqHhWYTIs2xhLS2mr7eOvnJ8kpTuPhf7iRecuyVV4u58lJIjE1lubKHqejiMupwCRk\\\n",
       "XegeZvuTx0hMi+Ou75URGxftdCSZAZ8cB6s673QUcTkVmISk0aFxXv1pBeOjE9z9eDlJaXFOR5IZ\\\n",
       "5PV56O8eoa9ryOko4mIqMAk5/gk/bzx9gvOtg9z56FKNNcKQ15cBQHNVj7NBxNVUYBJSrLXsfK6K\\\n",
       "+pPdfOFPSpmzaJbTkSQAMr3JxCfFqMBkWlRgElIq3mngxAdNLN9YyOKb8p2OIwFiogx5JR4NOWRa\\\n",
       "VGASMs4e7WD3C9XMW57NmvvnOx1HAiy/1ENvxxADPSNORxGXUoFJSGivm5zLzy5MZcO3FulqyRHg\\\n",
       "k+uD6WVEuUYqMHHche5hXnvyGAkpsdz1mObykSKrIIXYhGgVmFwzFZg4anR4nNeeOMbYyORcPjld\\\n",
       "l0GJFFHRUeTNT6dJBSbXSAUmjvFP+Hnz6ZN0twxw558vITNfl9eINF6fh/MtAwxdGHU6iriQCkwc\\\n",
       "s2tLNXUnurj54VIKF2c6HUcc8Mn7wap7nA0irqQCE0dU7Gjg+HuNlG+Yw5KbNZePVLOLUomJjdKc\\\n",
       "Xq6JCkyCrvZYJ7u3VDG3PIu1D5Q4HUccFB0TRe78dD0Dk2uiApOg6qi/wBs/O0nWnFQ2PrJYV1EW\\\n",
       "vD4PnY39DA+MOR1FXMY1BWaM8RhjthpjzhhjThtj1jidSa5O//kRXnuigoSkGDY/VkZsvObyMvV+\\\n",
       "MAutNb1ORxGXcU2BAf8OvG6tXQCUA6cdziNXYXR4nNeerGB0eILNj5eT7NFcXiblFKcRFWM0p5er\\\n",
       "5oorMhtj0oGbgW8CWGtHAe1uXcLvt7z181N0NfZz12NlZBVoLi+/FxMXTU5xGs2Vuj6YXB23PAOb\\\n",
       "C3QAvzDGHDHGPG2M0TU2XGL31ipqj3Vy01dLKV6a5XQcCUFen4eOhn5Gh8edjuJqExN+9r5Yw3B/\\\n",
       "ZBxPdEuBxQDXA/9hrV0ODAA/uviLjDGPGmMOGmMOdnR0BDujXMLx9xo5tqORslsLWHpLgdNxJETl\\\n",
       "+zKwfqvjYNNgreWDZys5/EYdDae7nY4TFG4psEag0Vq7f+r3W5kstE+x1j5lrV1prV2ZnZ0d1IDy\\\n",
       "x2qPd7LzuUqKy7JY96DP6TgSwnLnpxMVZXRexGk4+lYDp3Y2c/0dRfhW5TgdJyhcUWDW2lagwRhz\\\n",
       "3dSnbgNOORhJPkdn4wXefPokmQUpbHxkkeby8pli46PJLkpVgV2js0c62PNiNfOvn83qe+c5HSdo\\\n",
       "XFFgU/4S+I0x5hiwDPhnZ+PI5Qz0jPDaE8eIS4xh82PlxCW4YiskDvP6PLTV9jE+OuF0FFdpq528\\\n",
       "FFFOcRobvrkwoi5F5JoCs9YenXp5sMxae5+1VpOlEDQ2MsFrTx5jeHCczY+XkZKhubxcGa/Pg3/C\\\n",
       "0nquz+kornGhe5jtTx4jMS2Ou75XRkyEXYrINQUmoW9yLn+SzoYL3PHtxWTPSXU6krhIXokHDJrT\\\n",
       "X6HRoXFe/WkF46OTlyJKSotzOlLQqcBkxuzZVs25ik7WPeSjuExzebk68YkxZBWk6LyIV8A/4eeN\\\n",
       "p09wvnWQOx9dyixvZL6rSAUmM+LEB01UvN3A0lsKKL91jtNxxKXyfRm0nu1jYszvdJSQZa1l53NV\\\n",
       "1J/s5gt/UsqcRbOcjuQYFZhMW/3JLj54tpKiJZmsf0hnl5dr5y31MDHmp71Ox8Eup+KdBk580MTy\\\n",
       "jYUsvimyL0WkApNp6Wrq5/X/PMGsvGRu/85ioqL1T0quXV5JOoDOi3gZZ492sPuFauYtz2bN/fOd\\\n",
       "juM4PdrINRvoHeHVJyqIjY9m8+NlmsvLtCWmxDHLm0yLCuyPtNdNzuVnF6ay4VuLImoufzkqMLkm\\\n",
       "Y6MTbH/yGMP9Y2x+rIzUWQlOR5Iw4fV5aKnpxT+h42Afu9A9zGtPHiMhJZa7HisjNsLm8pejApOr\\\n",
       "Zv2Wd35xivb6C2x8ZDGzi9KcjiRhxOvzMDYyQUdDv9NRQsLkpYiOMTYyOZdPTtd7Kz+mApOrtvel\\\n",
       "GmqOdLDuyyXMW6ZzTsrM8vo8ADRX9jiaIxT4J/y8+bOTdDcPcOefLyEzX5ci+kMqMLkqJ3c2ceTN\\\n",
       "ehbfnE/5bZrLy8xLTo/Hk5NEc5Xe0LxrazV1x7u4+eFSChdnOh0n5KjA5Io1nO7m/WcqKVw0i5u/\\\n",
       "6sMYHUSWwPD6PDRX9+L3W6ejOObYuw0cf7eR8g1zWHJzZM/lL0cFJleku3mA1586QUZuEnf8+RLN\\\n",
       "5SWgvD4Po0PjdDVF5nGw2uOd7Hq+irnlWax9QO+tvBw9CsnnGuwb5dUnKoiOjZqcyydqLi+B9clx\\\n",
       "sAic03c0XOCNp0+SNSeVjY8s1qWIPoMKTD7T+OgE2//jGEN9o2x+rIy0zESnI0kESJ2VQGpmQsQV\\\n",
       "WP/5yUsRJSTFsPmxMmLjNZf/LCow+Uw7/usMbbV9bHhkETnFmstL8OT7PDRX9WBtZBwHm5zLVzA6\\\n",
       "NM7mx8tJ9mgu/3lUYHJZ9ae6qDrQxqrNc5m/fLbTcSTC5Pk8DPePcb5l0OkoATd5KaJTdDX2c/t3\\\n",
       "FpNVoLn8lVCBySX5J/zs3lpNWlYCK+4ocjqORKD8Ug9ARMzp92ytpvZYJzd9tZTipboU0ZVSgckl\\\n",
       "ndrVTHfzAGu/XEJ0rP6ZSPClZSWS7IkP++Ngx99rpGJHA2W3FrD0lgKn47iKHpnkj4wMjrH/lXN4\\\n",
       "fR6daUMcY4zB6/PQFMbHwepOdLHzuUqKy7JY96DP6TiuowKTP3Jgey3Dg2Osf0hvVhZneX0eBntH\\\n",
       "6e0YcjrKjOts7OeN/zxBZkEKGx9ZpLn8NVCByaf0tA1yfEcjC9fmkV2Y6nQciXDh+n6wgd4RXnui\\\n",
       "grjEGDY/Vq5LEV0jFZh8yu4XqomOjeLGe+Y5HUWEjNwkElNjw6rAxkYmeO2JYwwPjrP58TJSMjSX\\\n",
       "v1YqMPlEw+luao91smJTkS7ZICHBGIO3xBM2Z6afnMufpLPhAnd8ezHZc/Qqx3SowASYnM3v2lJF\\\n",
       "amaCzjIvIcVb6uFC9zB9Xe4/DrZ3WzXnKjpZ95CP4jLN5adLBSYAnNrdMjmbf6CEmFidvkZCh9eX\\\n",
       "AUCLy19GPPFBE0ffbmDpLQWU36ofEmeCCkwYGRpn/ytnyStJZ/71ms1LaMn0JhOfFEOTiwus/mQX\\\n",
       "HzxbSdGSTNY/pLPLzxQVmHBwey3DA5rNS2gyUYa8Eo9rhxxdTf28/p8nmOVN5vbvLNaliGaQbskI\\\n",
       "19M+yLEdDSxYk8fsIp2sV0KT1+eht32Igd4Rp6NclYHeEV59ooLY+GjufrxMc/kZpgKLcHteqCYq\\\n",
       "JorV92o2L6Hr9+dF7HE0x9UYG51g+5PHGO4f4+7Hy0nJSHA6UthRgUWwxjPdnKvoZMWdms1LaMsq\\\n",
       "SCE2Ido1c3rrt7zzi1O011/g9m8v1kkBAkQFFqH8fsuuLdWkzkpgmWbzEuKioqPIm59Oc3WP01Gu\\\n",
       "yN6Xaqg50sH6B33MLdcwKlBcVWDGmGhjzBFjzKtOZ3G707ub6WrqZ80D84mJ02xeQp/X56G7eYCh\\\n",
       "/lGno3ymkzubOPJmPUu+kE/ZrTq7fCC5qsCAHwKnnQ7hdp/M5uenU7JCF6oUd/j4/WChfBys4XQ3\\\n",
       "7z9TSeHiTG76ila9geaaAjPGFACbgaedzuJ2h35Xy9CFMdbrDiYuMrsolZjYqJAtsO7mAV5/6gSz\\\n",
       "8pK4Q3P5oHDTpvPfgL8DdDR0Gno7BqnY0cCC1bmazYurRMdEkTMvPeQKzFrL2aMd7Hy2kpjYKDY/\\\n",
       "Xk5copseWt3LFT8iGGPuBtqttYc+5+seNcYcNMYc7OjoCFI6d9mzrYaoKMPq++Y7HUXkquWXeuhs\\\n",
       "7GdkcMzpKAB0Nffzyr8f5fX/e4KElFi+9INyUmdpLh8sbvkxYR1wjzHmLiABSDPG/Npa+7U//CJr\\\n",
       "7VPAUwArV64Mz0u4TkPTR+c5e6SDG++ZS7JHs3lxH6/PAxZaqnsdPRnu8MAYB149x/H3m4hLiObm\\\n",
       "h0tZfJNXLxsGmSsKzFr7Y+DHAMaYW4C/vbi85LP5/ZZdW6tIyYhn2YZCp+OIXJOc4jSiYgzNVT2O\\\n",
       "FJjfbzm9u5l9L59lZGCMxTflc8M9c0lMiQt6FnFJgcn0ndnbQmdDP7d/e7Fm8+JaMXHR5BSnOXJi\\\n",
       "35bqHj54rpLOhn7yStK56aulup6Xw1xXYNba94D3HI7hKqPD4+x7+Sy589IoWanZvLib1+fh8Bv1\\\n",
       "jA6PB+Xcgv3nR9izrZqqA22kZMRz+3cWU7Jitha8IcB1BSZX79DrdQz1jbL5e2W604nr5fsyOPS7\\\n",
       "OlrP9lK4KDNg32d8bIKjbzdw6PU67IRl5V3FXH9HEbHxegUjVKjAwlxf5xAVbzdw3Y255MzVbF7c\\\n",
       "L2deGibK0FzZE5ACs9ZSe6yTXVuq6OscZt6ybNY9WEJaVuKMfy+ZHhVYmNuzrQYTBavv09nmJTzE\\\n",
       "JcQwuyg1IOdF7G4ZYNeWKhpOdZORl8w9P1zGnIWzZvz7yMxQgYWx5qoeag63c8OX5upSDhJWvD4P\\\n",
       "FTsaGB+dmJFR0sjQ+OQs/t1GYuKjWf+QjyW35BOtWXxIU4GFKeu37NoyNZvfqNm8hBevz8ORN+tp\\\n",
       "O9dH/nUZ1/z3WL/l9N4W9r1Uw1D/GIvWeVl97zwSUzWLdwMVWJg6s6+VjvoLbHxkEbGazUuYySvx\\\n",
       "gIGmqp5rLrDWs73sfK6S9roL5M5L5+7v+3R6NZdRgYWh0eFx9r1UQ87cNHyrcpyOIzLj4hNjyCpI\\\n",
       "uabzIg70jrD3xRo+2tdKUnocG761iNIbcrTQdSEVWBg6/EYdg32jbPruUt0pJWzl+zI4ubOJiXE/\\\n",
       "0TGff6xqYsxPxY4GDm6vZWLCz/V3FLFiU1FQ3ksmgaH/cmGmr2uIo281UHpDDrnz0p2OIxIwHw85\\\n",
       "2mv7Jl9S/Ay1xzvZ9XwVvR1DFJdlse7BEjyzk4ITVAJGBRZm9r5YgzHobPMS9vJ8kz+gNVf3XLbA\\\n",
       "etoG2bWliroTXXhykrj7L8spWhy4Nz9LcKnAwkhLdQ/VB9tZtblYl3SQsJeYEscsbzLNlT2suPPT\\\n",
       "fzY6NM7B7bVU7GggOjaKtV8uoeyLBVf0UqO4hwosTHw8m0/2xLP89iKn44gEhdfn4aN9rfgn/ERF\\\n",
       "R2H9lo/2t7L3xRoG+0ZZsDaP1ffOIzldlw8KRyqwMPHRh620111gw7cW6VxtEjG8Pg8n3m+io6Ef\\\n",
       "gJ3PVdJ2ro+cuWnc9b0ynT4tzKnAwsDo8Dj7XqxhdnEapZrNSwTx+jwAvPOr05xvGSAxLY7bvrGQ\\\n",
       "627MxURpgRvuVGBh4Mib9Qz0jnLnXyzVnVYiSnJ6PBl5yfS2D7J8YyEr7yomLlEPa5FC/6Vd7kL3\\\n",
       "MEfeqse3SrN5iUx3P14GoLPFRyAVmMvtfbEGgDX3azYvkUnFFbm0KXWxlppeqg60sXxjoWbzIhJx\\\n",
       "VGAu9clsPj2O6+/QbF5EIo8KzKUqD7TRXtvHmvvnazYvIhFJBeZCYyMT7H2xhtlFqZTekOt0HBER\\\n",
       "R6jAXOjIm3UM9Iyw/iulms2LSMRSgbnMhe5hjrxZj2/lbPLmazYvIpFLBeYy+16qwQKrNZsXkQin\\\n",
       "AnOR1rO9VH44OZtPy9R7X0QksqnAXMLaydl8Unocy28vdDqOiIjjVGAuUXWgjbZzfay5b74ugS4i\\\n",
       "ggrMFcZGJ2fz2YWpXHejZvMiIqACc4Wjb9XTf36E9V/xaTYvIjJFBRbi+s8Pc/iNOkpWzMZb4nE6\\\n",
       "johIyHBFgRlj5hhj3jXGnDLGnDTG/NDpTMGy76WzWL/ONi8icjG3rAHGgb+x1h42xqQCh4wxb1lr\\\n",
       "TzkdLJDazvXx0f5WVtxZpEtGiIhcxBXPwKy1Ldbaw1MfXwBOA/nOpgqsydl8JUlpcVx/p842LyJy\\\n",
       "MVcU2B8yxhQDy4H9DkcJqI/2t9J6to/V983TbF5E5BJc9chojEkBXgD+ylrbd4k/fxR4FKCw0J1v\\\n",
       "9h3oHWHfizWc2dfK7KJUFqzOczqSiEhIck2BGWNimSyv31hrt13qa6y1TwFPAaxcudIGMd60TYz7\\\n",
       "ObajkQPbzzEx7uf6O4pYsalIs3kRkctwRYEZYwzwM+C0tfZfnc4z0+pOdLFrSxU9bYMUL81k3YM+\\\n",
       "PDlJTscSEQlprigwYB3wdeC4Mebo1Of+m7V2u3ORpq+nbZBdW6uoO96FJyeJu79fTtGSTKdjiYi4\\\n",
       "gisKzFq7Cwib19JGh8c59Ltajr7dQHRsFGu/XELZFwuIjnHdpkZExDGuKLBwYf2Wyg9b2fNiDYO9\\\n",
       "oyxYk8vq++aTnB7vdDQREddRgQVJe10fO5+rpPVsH7OL09j03aXkztUVlUVErpUKLMAG+0bZ93IN\\\n",
       "p/e0kJgax61/tpAFq3O1LhQRmSYVWIBMTPg5/m4jB149x/iYn2UbCll1VzFxibrJRURmgh5NA6D+\\\n",
       "VBe7nq/ifOsghYtnsf4hHxm5yU7HEhEJKyqwGdTbMcTurVWcq+gkPTuRzY+VUbQ0k8m3sYmIyExS\\\n",
       "gc2A0eFxDr9ex9G3GzDRhjX3z6f81jlEx2oWLyISKCqwabDWUnWgjT3bahjoGeG6G3NZc/98kj2a\\\n",
       "xYuIBJoK7Bp11F9g5/OVtFT3kl2Yyp2PLiF3nmbxIiLBogK7SkMXRtn3yllO7WomMSWWL359AQvX\\\n",
       "5GkWLyISZCqwK+Sf8HPigyY+/O05xoYnKL91Dqs2FxOfFOt0NBGRiKQCuwINZ7rZ9XwV3c0DzFmY\\\n",
       "wfqHSpnl1SxeRMRJKrDP0Nc5xO4Xqjl7pIO0rAQ2fXcpc8uzNIsXEQkBKrBLGBud4PAbdRx5sx5j\\\n",
       "4MZ757FswxxiYqOdjiYiIlNUYBc5e7SDnc9V0n9+BN+qHNY+MJ+UjASnY4mIyEVUYBe50D1MQkos\\\n",
       "Gx9ZjNfncTqOiIhchgrsIku/kM/SWwqI0ixeRCSkqcAuEhWt0z+JiLiBHq1FRMSVVGAiIuJKKjAR\\\n",
       "EXElFZiIiLiSCkxERFxJBSYiIq6kAhMREVcy1lqnMwSEMaYDqHM6xzRlAZ1Ohwghuj1+T7fFp+n2\\\n",
       "+LTp3B5F1trsmQwTKGFbYOHAGHPQWrvS6RyhQrfH7+m2+DTdHp8WKbeHXkIUERFXUoGJiIgrqcBC\\\n",
       "21NOBwgxuj1+T7fFp+n2+LSIuD10DExERFxJz8BERMSVVGAhyBgzxxjzrjHmlDHmpDHmh05ncpox\\\n",
       "JtoYc8QY86rTWZxmjPEYY7YaY84YY04bY9Y4nckpxpi/nrqPnDDGPGOMiajLpxtjfm6MaTfGnPiD\\\n",
       "z80yxrxljKma+jXDyYyBpAILTePA31hrFwGrgceNMYsczuS0HwKnnQ4RIv4deN1auwAoJ0JvF2NM\\\n",
       "PvADYKW1dgkQDTzsbKqg+yVw50Wf+xHwjrXWB7wz9fuwpAILQdbaFmvt4amPLzD5AJXvbCrnGGMK\\\n",
       "gM3A005ncZoxJh24GfgZgLV21Frb42goZ8UAicaYGCAJaHY4T1BZaz8Aui/69L3Ar6Y+/hVwXzAz\\\n",
       "BZMKLMQZY4qB5cB+h6M46d+AvwP8DucIBXOBDuAXUy+pPm2MSXY6lBOstU3AvwD1QAvQa61909lU\\\n",
       "ISHHWtsy9XErkONkmEBSgYUwY0wK8ALwV9baPqfzOMEYczfQbq095HSWEBEDXA/8h7V2OTBAGL9E\\\n",
       "9Fmmju3cy2Spe4FkY8zXnE0VWuzkzDxsp+YqsBBljIllsrx+Y63d5nQeB60D7jHG1ALPArcaY37t\\\n",
       "bCRHNQKN1tqPn5FvZbLQItEG4Jy1tsNaOwZsA9Y6nCkUtBlj8gCmfm13OE/AqMBCkDHGMHmM47S1\\\n",
       "9l+dzuMka+2PrbUF1tpiJg/Q77DWRuxP2dbaVqDBGHPd1KduA045GMlJ9cBqY0zS1H3mNiJ00HKR\\\n",
       "V4BvTH38DeBlB7MElAosNK0Dvs7ks42jU/+7y+lQEjL+EviNMeYYsAz4Z2fjOGPqWehW4DBwnMnH\\\n",
       "s4g4A8XHjDHPAHuB64wxjcaYbwM/ATYaY6qYfJb6EyczBpLOxCEiIq6kZ2AiIuJKKjAREXElFZiI\\\n",
       "iLiSCkxERFxJBSYiIq6kAhMREVdSgYmIiCupwERExJVUYCIi4koqMBERcSUVmIiIuJIKTEREXEkF\\\n",
       "JiIirqQCExERV1KBiYiIK6nARETElVRgIiLiSiowERFxJRWYiIi4kgpMRERc6f8DNvs8qlCE3H0A\\\n",
       "AAAASUVORK5CYII=\\\n",
       "\"\n",
       "  frames[5] = \"data:image/png;base64,iVBORw0KGgoAAAANSUhEUgAAAbAAAAEgCAYAAADVKCZpAAAAOXRFWHRTb2Z0d2FyZQBNYXRwbG90\\\n",
       "bGliIHZlcnNpb24zLjMuMSwgaHR0cHM6Ly9tYXRwbG90bGliLm9yZy/d3fzzAAAACXBIWXMAAAsT\\\n",
       "AAALEwEAmpwYAAAoJklEQVR4nO3deXjU1d3//+fJBoSwB8gAYkgmCQoVgaCorCIqArLUeuOKWqW9\\\n",
       "27oraBettr+7Lq13l593K6IsCtiK7OIKCYvKvhXZEvYlAQJhCSEhy/n+kagVFVkyc+Yz83pclxdh\\\n",
       "GMjrGklezOfzPucYay0iIiJeE+U6gIiIyLlQgYmIiCepwERExJNUYCIi4kkqMBER8SQVmIiIeJIK\\\n",
       "TEREPEkFJiIinqQCExERT1KBiYiIJ6nARETEk1RgIiLiSSowERHxJBWYiIh4kgpMREQ8SQUmIiKe\\\n",
       "pAITERFPUoGJiIgnqcBERMSTVGAiIuJJKjAREfEkFZiIiHiSCkxERDxJBSYiIp6kAhMREU9SgYmI\\\n",
       "iCepwERExJNUYCIi4kkqMBER8SQVmIiIeJIKTEREPEkFJiIinqQCExERT1KBiYiIJ8W4DhAoiYmJ\\\n",
       "Njk52XUMERFPWbFiRYG1tqnrHGcibAssOTmZ5cuXu44hIuIpxpgdrjOcKV1CFBERT1KBiYiIJ6nA\\\n",
       "RETEk1RgIiLiSSowERHxJBWYiIh4kgpMRM7J8cOFHNm/z3UMiWBhuw5MRAKj/ORJVrw7nSXT/kXt\\\n",
       "hHrc9/LrGGNcx5IIpAITkTNirWXL8iVkvzGGI/vyadjcx+F9eRw7eID6ic1cx5MIpAITke91cPcu\\\n",
       "ssaPZsfaVTRp1Zqbfv17asXXZeIvHyYvZ7MKTJxQgYnIdyotPs5nUyax6v3ZxNauTe+7RtCh7w1E\\\n",
       "x8RQUV5GdGwsebmbyLiim+uoEoFUYCLyDbayknXZH7Nw8nhOHDvKJVdfx1XD7iC+foMvnxMdE0uz\\\n",
       "5BTyczc5TCqRTAUmIl+zd/MG5o0dzb6tObTIuJgfPvkMzVP83/pcnz+DtXM/oLKigqjo6CAnlUin\\\n",
       "AhMRAIoOHWThpHGsX5hFQuMm3HD/Y7S9qudpJwyT0jJY+d5MCnbtoFlyShDTiqjARCJeeVkZK+fM\\\n",
       "YPHUf1JZXsblQ27mssE/Iq52ne/9vb7UdADycjapwCToVGAiEWzrymVkjR/N4fw8UjO70uuOH9Mw\\\n",
       "yXfGv79B8yTq1KtPXu4mOvTtF8CkIt+kAhOJQIf27iZ7/KtsW72Cxi1a8cNfPktyh05n/ecYY0jy\\\n",
       "p5OfuzkAKUVOTwUmEkFKi4tZPPUtVs6ZSUxcHL3uvJdLrxtAdMy5fyvw+TPYtnoFpcXF1IqPr8G0\\\n",
       "IqenAhOJALaykvULs1gwcSzFR4/Qvldfug27g7oNG533n53kTwdr2bc1h9btO9RAWpEzowITCXN5\\\n",
       "uZuYN/YV8nM340vLYMjIp6pKp4Z88Wfl5WxSgUlQqcBEwtTxw4UsnDyez7M/pm7DRlz/s4e5uHtv\\\n",
       "TFTNHkJRJ6EejXwtyN+i+2ASXCowkTBTUV7Gqvdm8dk7kyk/WUaXG39I16H/RVydwN2fSvJnsHPd\\\n",
       "Gqy12plegkYFJhJGtq1eQdb4Vyncu5uUTl3oece9NG7RMuCfNyk1nQ0Lszh2sID6iU0D/vlEIAQL\\\n",
       "zBjzOjAA2G+tbV/9WGPgn0AysB242Vpb6CqjSKgpzN9L9oQxbF2xlEa+FgwZ9TQpnboE7fP70qru\\\n",
       "g+XnblKBSdCE4onM44DrT3nsCWCutTYNmFv9c5GId7LkBAsnjWP8oz9j1+f/psdtdzP8jy8HtbwA\\\n",
       "ml6YQnRMDHlaDyZBFHLvwKy1C4wxyac8PAjoVf3xeCAbGBW8VCKhxVrLhkXZLJw4lqLCQ7Tr2Ydu\\\n",
       "twwnoVFjJ3liYmNplpyqBc0SVCFXYN+hubU2r/rjfKC5yzAiLh3Oz+O9l19i7+YNNE9JY+Ajv6RF\\\n",
       "elvXsUjyp/PvrA+1M70EjVcK7EvWWmuMsd/2a8aYEcAIgNatWwc1l0gwFB89wjt/eIqSY8e47qcP\\\n",
       "0q5nnxofiz9XPn86q96fpZ3pJWhC42/+99tnjPEBVP+4/9ueZK0dba3NtNZmNm2qG8kSXsrLypj5\\\n",
       "p/+PYwcLGPLE07Tv3TdkyguqjlYBtB5MgiZ0/vaf3kxgePXHw4EZDrOIBJ21lg9f+St7Nq7n+p89\\\n",
       "TIv0i1xH+oaGzX3UTqhHXo4KTIIj5ArMGDMZ+AzIMMbsNsb8GHgO6GuMyQGuqf65SMT4bMpkNizM\\\n",
       "4qr/uoO2V/ZwHedbfbUz/SbXUSRChNw9MGvtLd/xS32CGkQkRGxYmMVnUybRrmcfLh9ys+s4p+Xz\\\n",
       "p/PZmpWcPFEc0J0/RCAE34GJyFd2b1jHB//4Cxdc/AP6jvhFyG/T5PNnVO9Mn+s6ikQAFZhIiCrM\\\n",
       "38uMP/0P9Zs2Z+CjvyQ6JtZ1pO/15c70Wg8mQaACEwlBJ4qOMe25ZwAY+sRvqZNQz3GiM1OnXn0a\\\n",
       "NveRl6P7YBJ4KjCREFNRXjUuf/TAPgY99isaJvlcRzorGuSQYFGBiYSQqnH5v7F7/Tqu++mDtGrb\\\n",
       "znWks+ZLy6Co8BDHDhW4jiJhTgUmEkKWTP0n6xfM44qbbuWi7r1dxzknPn/1gmatB5MAU4GJhIgN\\\n",
       "n8znk3+9yUXde3PFTd+1miT0Nb2wDVHRMeTpMqIEmApMJATs2bSBD/7+Z1q2bce1P3kg5MflTycm\\\n",
       "Lo5myW1UYBJwKjARxw7n5zHjxd9Rr0kigx77FTGxoT8u/32S/Bns25JLZWWF6ygSxlRgIg6VFBUx\\\n",
       "9flnsNYyZNRvqVOvvutINcKXlkFZaQkHd+9yHUXCmApMxJGK8jJmvvQ/HNmXz6BHf0XjFi1dR6ox\\\n",
       "SanVC5q1HkwCSAUm4oC1lo9efZldn6/l2p/cT6uL27uOVKMa+VpQu26CjlaRgFKBiTiwdPrbfJ79\\\n",
       "MV1/OIx2PcNvn+ovd6bXOzAJIBWYSJBt+mwhi96aQNurenLlj25zHSdgkvwZFOzaycmSE66jSJhS\\\n",
       "gYkE0d7NG3nv5ZdokXEx1/30QU+Py38fnz8dayu1M70EjApMJEiO7M9n+ou/I6Fxk6px+bg415EC\\\n",
       "6oud6fO1M70EiApMJAhKjhcx9blnqKwoZ8iop4mv38B1pICLr9+ABs2TtKBZAkYFJhJgFeXlzHrp\\\n",
       "DxzO38uNj/yKJi0vcB0paHz+DJ0NJgGjAhMJIGstc1/7P3auW0PfEffTuv0lriMFVVJqOkUHCyg6\\\n",
       "dNB1FAlDKjCRAFo28x3+Pe9DLh9yM+17XeM6TtD50qoXNGs9mASACkwkQDYv+YSFk8aRcUV3rrr5\\\n",
       "dtdxnGiWnEpUdIzWg0lAqMBEAiAvdxPv/e1P+NIyuO5nD2GiIvNLLSYujqYXttF9MAmIyPyqEgmg\\\n",
       "owf2M/2F31G3USMGP/4bYuNquY7kVJI/nfwtOdqZXmqcCkykBpUWH2fqc7+loqyMIaN+S3yDhq4j\\\n",
       "Oefzp1NWcoJDe3a7jiJhRgUmUkMqysuZ9b/PUZi3h4GPPEmTVpEzLn86vrQMAK0HkxqnAhOpAdZa\\\n",
       "5o39BzvWruKae3/OhT+41HWkkNEoqQW14uuSn6P7YFKzVGAiNWDF7Gms/fh9ugy6iR9cfa3rOCHF\\\n",
       "REWR5E/XOzCpcSowkfOUs+wz5k8cS9rlV9J92J2u44Qknz+dgl07KCspcR1FwogKTOQ85G/JYc5f\\\n",
       "/0hSahr9fv5IxI7Lf58kfwa2spJ927QzvdQcfbWJnKOjBfuZ/sKz1Klfv2pcvlZt15FClq96Z3qt\\\n",
       "B5OapAITOQelxcVMe/5ZykpLGTrqaeo2bOQ6UkiLb9CQ+k2ba0cOqVGeKTBjzMPGmM+NMeuMMZON\\\n",
       "MfrnrjhRWVHBu395noO7dzLw4SdIbJ3sOpIn+Pzp2hNRapQnCswY0xJ4AMi01rYHooFhblNJJLLW\\\n",
       "kjV+NNtWr6DPPf9NcodOriN5hi8tg2MFBzh+uNB1FAkTniiwajFAHWNMDBAP7HWcRyLQqvdmsvqD\\\n",
       "d+k8YAgd+vZzHcdTklKr74PpMqLUEE8UmLV2D/BHYCeQBxyx1n7oNpVEktLi42S/8RpZE8bg79KV\\\n",
       "Hrfd5TqS5zRLSSUqOlrrwaTGxLgOcCaMMY2AQUAb4DDwtjHmdmvtm6c8bwQwAqB169bBjilhyFZW\\\n",
       "8vn8uSycPJ7io0do36svV981gqioaNfRPCc2rhaJrZPJ1ySi1BBPFBhwDbDNWnsAwBgzFbgS+FqB\\\n",
       "WWtHA6MBMjMzbbBDSnjJy9nEvLH/IH9LDr70tgwZ9TRJqWmuY3maz5/BhkXZ2MpKrZmT8+aVAtsJ\\\n",
       "dDXGxAMngD7AcreRJFwVFR5i0eTxfD5/LnUbNabfzx/hom699A23BiT501nz0RwO7d1Nk1a6SiLn\\\n",
       "xxMFZq1dYoyZAqwEyoFVVL/TEqkpFeVlrJwzk8/eeYuKsjK6DLqJrkNuJq5OvOtoYcPnr96ZPmeT\\\n",
       "CkzOmycKDMBa+zTwtOscEp62rlpG9vgxFObtIaVTF3rdeS+NfC1dxwo7jVu0rNqZfstm2vfu6zqO\\\n",
       "eJxnCkwkEArz9pA9YQxbVy6jka8lQ5/4LW06ZrqOFbZMVBTNU9PI09EqUgNUYBKRTp4oZvHUf7Li\\\n",
       "3RnExMXS4/Z76NRvINExsa6jhT2fP52lM6ZQVlqi/SPlvKjAJKLYykrWL8xi4aRxHD9cSLue19D9\\\n",
       "1uHayzCIvtqZfgut2rZzHUc8TAUmESM/dzPzxr1CXs4mklLTGPTYr7887l6C54ud6fNzN6vA5Lyo\\\n",
       "wCTsHT9cyKK3JrAu+2Pi6zfguv9+iHY9rtZYvCN1GzaiftNmOlpFzpsKTMJWRXk5qz+YzadvT6L8\\\n",
       "ZCmZA4bQdegwasVrLN61pNR08rWllJwnFZiEpe1rVpI1bjSH9u4m+dLO9LrzXpq0vMB1LKnm86ez\\\n",
       "efEijh8u1P1HOWcqMAkrh/PzyH5jDFuWL6Fhcx+DRz5FSqcuGGNcR5P/kFR97zF/y2ZSO1/uOI14\\\n",
       "lQpMwsLJkhMsnf42y2dNJSo6hm63DKdz/8HExGosPhQ1b5OKiYoiL0cFJudOBSaeZq1l4yfzWfDm\\\n",
       "6xQVHuKi7r3pcetdJDRu4jqanEZsrdoktk7W0SpyXlRg4ln7tm1h3thX2LtpPc1T/Ax4+ElaZlzk\\\n",
       "OpacIZ8/nY2fLNDO9HLOVGDiOcVHj/DJW2+wdt4H1KlXn74j7qd972t0RpfH+PwZrP34fQ7l7dGA\\\n",
       "jZwTFZh4RkV5OWs+msOnb0/k5IkTdOp3I1fcdAu16ya4jibn4ItF5Pm5m1Vgck5UYOIJO9etYd7Y\\\n",
       "Vzi4eyetf3ApV981QsdxeFyjFi2Jq1OHvJxNtOvZx3Uc8SAVmIS8nKWfMvOlP9CgaTNufOxX+DO7\\\n",
       "aiw+DERFRZOUmqZBDjlnunMqIS0/dzNz/vYnfKnpDP/jy6R1uULlFUaS/BkU7NxO2clS11HEg1Rg\\\n",
       "ErKOFuxn+ou/I75BQwY9/msdvRGGfP4MKisq2L9tq+so4kEqMAlJpcXFTHvuGcpKSxn6xNPabihM\\\n",
       "JX25M70uI8rZU4FJyKmsqGD2X57n4J5dDHzkSQ1rhLGERo2p16QpeTkqMDl7KjAJKdZa5o19he2r\\\n",
       "V3DNvT8j+ZKOriNJgPn86eRv0dEqcvZUYBJSVs6ZwZqP5pA5cCiX9LnedRwJgqS0DI7s30fx0SOu\\\n",
       "o4jHqMAkZOQuW0z2G6+RdtmV9Lj1LtdxJEh8qVX3wXQZUc6WCkxCwr6tubz7txdJSvHT7xePaG+8\\\n",
       "CNI8xY+JitIgh5w1fZcQ544WHGDaC89Sp159Bo98SuPyESa2dm0SL7iQvFzdB5OzowITp06eKGb6\\\n",
       "889QVnKCoaM0Lh+pfP4M8rdsxlZWuo4iHqICE2eqxuVfoGD3TgY+9ASJrZNdRxJHkvzplB4/TmH+\\\n",
       "XtdRxENUYOJM1vhX2bZqOX3u+SnJl3Z2HUcc8vk1yCFnTwUmTqx8byarP5hN5/6D6dD3BtdxxLHG\\\n",
       "rS4gtnYdrQeTs6ICk6DbsmIp2ePHkJrZlR633+06joSAL3emz1GByZlTgUlQ7du2hXf/8gLN2qTQ\\\n",
       "//7HdIqyfCnJn86BHdsoP3nSdRTxCM8UmDGmoTFmijFmozFmgzHmCteZ5OwcO1TA9OefoVZCAoMf\\\n",
       "/w2xtTUuL1/x+dOprChn//YtrqOIR3imwIC/AO9ba9sCHYANjvPIWThZcoLpz/+O0hNV4/IJjZu4\\\n",
       "jiQhxufPAKrOgBM5E54oMGNMA6AH8BqAtfaktfaw01ByxiorK3j3ry9yYMc2Bjw0kqYXtnEdSUJQ\\\n",
       "QuMmJDRJ1IJmOWOeKDCgDXAAGGuMWWWMGWOMqes6lJyZ+RNeY+uKpfS+ewQpHbu4jiMhzJeaTp62\\\n",
       "lDpnFeXlLJw0jhPHjrqOEhReKbAYoBPwd2ttR+A48MSpTzLGjDDGLDfGLD9w4ECwM8q3WPXBbFa+\\\n",
       "N5NO/W6k43UDXMeREJfkT+fIvnztTH8OrLXMe/0fLJ0xhR1rV7mOExReKbDdwG5r7ZLqn0+hqtC+\\\n",
       "xlo72lqbaa3NbNq0aVADyjdtXbWMrLGjSel8GT3v/LHrOOIBvrTq+2BaD3bWls+extq573PZoJto\\\n",
       "e1VP13GCwhMFZq3NB3YZYzKqH+oDrHcYSb7H/u1bmf3nF2h6YRv6P/C4xuXljDRP8WNMlNaDnaWc\\\n",
       "pZ+yYOJY0rt2o9uwO13HCZoY1wHOwv3ARGNMHLAV0ArYEFV06CDTXniWWvHxDB71G+Jq13EdSTwi\\\n",
       "rnYdmlzQWkernIX83M3M+duf8KWmc/3PH46oo4g8U2DW2tVApusccnplJSVMe+FZSouKGPbsC9Rr\\\n",
       "nOg6kniMz59OzpJPsdZijHEdJ6QdLdjP9Bd/R3yDhgx6/NfExtVyHSmoIqeqJeAqKyt4929/5MD2\\\n",
       "bfR/cCTNklNcRxIPSvJnUHK8iMPamf60SouLmfbcM5SVljL0icg8ikgFJjVmwZtj2bJ8Mb2G30tq\\\n",
       "58tcxxGP+mKQQ+vBvlvVUUTPc3DPLgY+8iRNWrV2HckJFZjUiDUfzWHFu9O59LoBdOp3o+s44mFN\\\n",
       "Wl1AbK3aOlrlO1hrmTf2FbavXsE19/6M5Es6uo7kjApMztv21SuY+/o/aNMxk97D73MdRzwuKiqa\\\n",
       "5ql+jdJ/h5VzZrDmozlkDhzKJX2udx3HKRWYnJeCnduZ9efnSGzVmgEPjiQqWuPycv58/gwObN9K\\\n",
       "eVmZ6yghJXfZYrLfeI20y66kx613uY7jnApMztnxw4VMff4ZYmvXYfCop4mrE+86koQJnz+DivJy\\\n",
       "Dmzf6jpKyNi3NZd3//YiSSl++v3ikYgal/8uegXknJSVljD9hWc5cewoQ0Y+Rf1E7XwiNSfJnw6g\\\n",
       "fRGrHS04wLQXnqVOvfoMHvkUsbV0FBGowOQc2MpK3nv5JfK35tL//sdpnuJ3HUnCTL0miSQ0aqyj\\\n",
       "VYCTJ4qZ/sKzlJVUHUUUiePy30UFJmdt4eTx5Cz5lJ6334O/S1fXcSRMJfkzIv4dWGVF1VFEBbt2\\\n",
       "MPChJ0hsnew6UkhRgclZWTv3fZbNfIcOffvRuf9g13EkjPnSMjicnxcxR4N8m+wJY9i6chl97vkp\\\n",
       "yZd2dh0n5KjA5IztWLuaj8f8H8kdOnH13T/VNj8SUEmpVffBIvUy4sr3ZrHq/Vl07j+YDn1vcB0n\\\n",
       "JKnA5Iwc3L2TWf/7B5q0vIABDz2hcXkJuKRUPxgTkTtybF25jOzxr5Ka2ZUet2vf8u+iApPvdfxw\\\n",
       "IVOfe4bo2FiGjHqaWvEal5fAi6sTT2KryNuZvuoooudp1iaF/vc/pqOITkMFJqdVdrKUGS/+nuIj\\\n",
       "h6vG5Zs2cx1JIkiSP528LTlYa11HCYpjhwqY9vwz1EpIYPDjvyG2tsblT0cFJqf14T/+St6Wzdzw\\\n",
       "i0e/XJsjEiw+fwYlx45yeF+e6ygBd7LkBNOf/x2lxcUMHfU0CY2buI4U8lRg8p22r1nJxk/mc8UP\\\n",
       "byHt8itdx5EI9MU/msJ9kKOysmpc/sCObQx4aCRNL2zjOpInqMDkW1VWVJA9YQwNmidx2eAfuY4j\\\n",
       "ESrxgguJqVUr7NeDzX/jdbauWErvu0eQ0rGL6zieoQKTb7V27gcc3L2TnrfdQ0xsrOs4EqGioqNp\\\n",
       "3sZPfk74vgNb/cG7rJwzg079bqTjdQNcx/EUFZh8Q8nxIj7515u0urg9/suucB1HIpwvLYP927eE\\\n",
       "5c7021YtZ97YV0jpfBk97/yx6zieowKTb1j8zluUFB2j1533abGyOOfzp1NRXk7Bjm2uo9SoAzu2\\\n",
       "MevPz9P0wjb0f+BxjcufAxWYfM2hvXtY9f4s2vfqS/M2qa7jiJDkzwDCa2f6osJDTHv+WWrFxzN4\\\n",
       "1G+Iq13HdSRPUoHJ1yyY+DrRsXF0G3aH6ygiQNXO9HUbNgqbHTnKSqqOIiopOsaQUU9Tr3Gi60ie\\\n",
       "pQKTL+1Yu5oty5dw+ZCbdWSDhAxjDEn+jLDYkaOysoI5//8f2b9tK/0fHEmz5BTXkTxNBSbAF2Pz\\\n",
       "r1K/aXM63zDIdRyRr/H50ynM28uJomOuo5yXBRPHkbtsMb2G30tq58tcx/E8FZgA8O95H1Kwawc9\\\n",
       "b7+bmLg413FEvsaXVnUfbJ+HLyOu+eg9VsyexqXXDaBTvxtdxwkLKjChtPg4n/zzDVq2bUfa5Ve5\\\n",
       "jiPyDc1T0jy9M/321SuY+/rfadMxk97D73MdJ2yowITFU//JiaJj9B6usXkJTbXi42nS8gJPTiIW\\\n",
       "7NzOrD8/R+IFFzLgwZE6iqgGqcAiXGH+XlbOmUm7nn1onuJ3HUfkOyX508nP3eypnemPHy5k6vPP\\\n",
       "EFu7DkNGPU1cHR1FVJNUYBFuwZuvEx0TQ7dhd7qOInJaPn8GJ44d5cj+fa6jnJGy0qpx+RPHjjJk\\\n",
       "5FPUa6Jx+ZqmAotgO9etIXfZYi4fcjMJjRq7jiNyWl/sTO+Fy4i2spL3Xn6J/K259H9gpK5uBIgK\\\n",
       "LEJVVlaQPf5V6jdtRqf+GpuX0Ne0dTIxcbXIzwn9Als4eTw5Sz6l1x334s+83HWcsOWpAjPGRBtj\\\n",
       "VhljZrvO4nXrsj7iwM7t9LjtbmLjarmOI/K9oqKjaZ6SSt6W0J5EXDv3fZbNfIcO1/an0w0alw8k\\\n",
       "TxUY8CCwwXUIrystPs6it96gRcbFpHft5jqOyBlL8mewf9sWKspDc2f6HWtX8/GY/6PNpZ25+q4R\\\n",
       "muoNMM8UmDGmFdAfGOM6i9ctmfYvThw9orF58RyfP52KsjIO7NjuOso3HNy9k1n/+weatGpN/wdH\\\n",
       "aVw+CDxTYMCfgZFApeMcnnY4P4+Vc2bQrmcfklLTXMcROSu+ENyZ3lpLzpJPmfL7XxMTF8eQUU9R\\\n",
       "K17j8sEQ4zrAmTDGDAD2W2tXGGN6neZ5I4ARAK1btw5OOI9ZMHEsJjpaY/PiSfUSmxLfoCH5uZvh\\\n",
       "OtdpoGDXDrLGjWbnujUktk6m388foX5iM9exIoYnCgy4CrjRGHMDUBuob4x501p7+38+yVo7GhgN\\\n",
       "kJmZ6Z3VjkGy6/O15Cz9lKtuvp2Exk1cxxE5a8YYfGkZzreUKikq4tMpE1n9wbvUqhPP1ff8lA7X\\\n",
       "9NNlwyDzRIFZa58EngSofgf22KnlJadXWVlB1oQx1GvSlM4Dh7iOI3LOklLT2bJ8CSVFRdROSAjq\\\n",
       "566srGDdvI9Y9NYESoqKuOSa67ny5tuIr98gqDmkiicKTM7f59lzObB9K/0feFxj8+JpX9wHy9+y\\\n",
       "meQOnYL2efdsXM+8sa+wf/sWWrZtx9V3/0TneTnmuQKz1mYD2Y5jeMrJE8UsemsCvvS2ZFzZw3Uc\\\n",
       "kfOS5K/amT4/NzgFduxQAQveHMvGT+aT0CSR/g+OJOOK7prgDQGeKzA5e0umv03xkcMMHvkbfdGJ\\\n",
       "59WKr0vjFq0CPolYfvIkK96dzpJp/6KysoKuQ/+Lywb9iNjatQP6eeXMqcDC3JH9+ax4dzoXd+/9\\\n",
       "5aUXEa/z+dPZumo51toa/0eZtZYtK5aSPeFVjuzLx9/lCnrd+WMaNEuq0c8j508FFuYWTByHiYqi\\\n",
       "2y3DXUcRqTFJ/gw+nz+Xowf21WixHNy9i6zxo9mxdhVNWrXmpl/9ngsvubTG/nypWSqwMLZ7wzo2\\\n",
       "L17ElT+6TUc5SFjxfbkz/eYaKbDS4uN8NmUSq96fTWyt2vQefh8dru1PdIy+RYYy/d8JU7aykqzx\\\n",
       "r5LQJJFMjc1LmElsnUxMbBz5uZtoex6DSbayknXzP2bR5AkUHz3CD66+lm7D7tRYvEeowMLU5wvm\\\n",
       "sX/bFm64/zFia+mms4SX6JgYmrVJJS/n3Bc07928gXljR7Nvaw4t0i9i6BO/1bldHqMCC0MnS06w\\\n",
       "aPJ4fGkZtL2qp+s4IgHhS0tnzYfvUVFeflaX+ooKD7Fw0jjWL5hH3UaNueEXj9K2Wy9N6HqQCiwM\\\n",
       "LZ0+heOHC7nx0V/pi1LCVpI/gxXvzqBg5/YzeudUXlbGyjkzWDz1n1SWl3HZoJu4fMjNxNXRxrte\\\n",
       "pQILM0cP7Gf57Klc1K0XLdLbuo4jEjBf7Uy/+XsLbOvKZWSNH83h/DxSOl9GrzvvpVFSi2DElABS\\\n",
       "gYWZBRPHYozG5iX81W/ajDr1G5CfuwmuveFbn3No7x6yJ7zKtlXLadSiFUOffIY2l3YOclIJFBVY\\\n",
       "GNmzcT2bPlvIFTfdQv3Epq7jiASUMQafP528nG/uyFFaXMziqW+xcs5MYuJi6Xn7PXTsN5DomFgH\\\n",
       "SSVQVGBh4sux+cZN6DLwh67jiASFz5/B1pXLKC0+Tq34utjKStYvzGLhpHEcP1xIu17X0P2W4dRt\\\n",
       "2Mh1VAkAFViYWL8wi31bc+j3i0e1V5tEjKS06p3pc3OoFR/PvLGvkJe7CZ8/g0GP/1rbp4U5FVgY\\\n",
       "+GJsPsmfzkUam5cIkpSaBsDc1/9OYd4e4hs05PqfPczF3XtjoqIcp5NAU4GFgWUz36Go8BADH3lS\\\n",
       "X7QSUWrXTSDxggs5tHcPmQOH0nXoMGrFayw+UqjAPO5owX6Wz5xK26t60iL9ItdxRIJu8MinAGjQ\\\n",
       "rLnjJBJsKjCPWzhpPADdb9XYvEQmFVfk0vUmD9uzaQMbP5lP5o1DqZ/YzHUcEZGgUoF5lK2sJHvC\\\n",
       "qyQ0asxlN97kOo6ISNCpwDxqwyfzyc/dTPdb79LYvIhEJBWYB5WVlLBw0jiSUtO4qFsv13FERJxQ\\\n",
       "gXnQslnvUHToIL2Gj9DYvIhELH3385ijBQdYNnMqGVf2oGWGxuZFJHKpwDxm0eTxYC09br3LdRQR\\\n",
       "EadUYB6yd/NGNizKJnPgEOo31di8iEQ2FZhHWGvJHv8qdRs1pssgjc2LiKjAPGLjJ/PJy91E91uG\\\n",
       "E1e7jus4IiLOqcA8oKy0hAWTxtE8xc/F3Xu7jiMiEhJUYB6wfNY0ig4W0Gv4fRqbFxGppu+GIe7Y\\\n",
       "wQKWzpxC+hXdadW2nes4IiIhwxMFZoy5wBiTZYxZb4z53BjzoOtMwbJo8nhsZaXG5kVETuGV41TK\\\n",
       "gUettSuNMfWAFcaYj6y1610HC6S83E2sX5jF5UNu1pERIiKn8MQ7MGttnrV2ZfXHx4ANQEu3qQLL\\\n",
       "WkvW+Fep27ARl2lsXkTkGzxRYP/JGJMMdASWOI4SUOsXzCNv80a6DbuTuDo6Il1E5FReuYQIgDEm\\\n",
       "AXgHeMhae/Rbfn0EMAKgdevWQU5XM44fLmThpHF8Pn8uSalptOvZx3UkEZGQ5JkCM8bEUlVeE621\\\n",
       "U7/tOdba0cBogMzMTBvEeOetoryMle/NYvE7k6koK+OyQTdx+ZCbNTYvIvIdPFFgxhgDvAZssNa+\\\n",
       "5DpPTdu2ajlZ41+lMG8PKZ260OvOe2nkC+tbfCIi580TBQZcBdwB/NsYs7r6sV9aa+e4i3T+CvP2\\\n",
       "kD1hDFtXLqORryVDn/gtbTpmuo4lIuIJnigwa+0iwLjOUVNOnihm8bR/sWL2dGLiYul5+z107DeQ\\\n",
       "6JhY19FERDzDEwUWLmxlJRsWZbNg0jiOFx6iXc9r6H7rcOo2bOQ6moiI56jAgiR/Sw7zxr1C3uaN\\\n",
       "JPnTGfTor/ClZbiOJSLiWSqwACs+cpiFkyewLvsj4us34Lr/foh2Pa7WdKGIyHlSgQVIRXk5qz+Y\\\n",
       "zadvT6L85EkyBwyh69Bh1IrXomQRkZqgAguA7WtWkjX+VQ7t2UXypZ3pPfw+Grdo5TqWiEhYUYHV\\\n",
       "oMP78smeMIYtyxfTMMnH4JFPkdKpC1XL2EREpCapwGrAyZITLJ3+NstnTyMqKprut95FpxsGEROr\\\n",
       "sXgRkUBRgZ0Hay0bP5nPgoljKTp0kIu796b7rXeR0LiJ62giImFPBXaO9m3bQta4V9izcT3NU/wM\\\n",
       "fPgJWqRf5DqWiEjEUIGdpeKjR/jkrTdYO+8D6tSrz7U/eYD2va7RWLyISJCpwM5QZUUFqz+cw6dv\\\n",
       "v0lZSQmdb7iRrj+8hdp1E1xHExGJSCqwM7Dj36vJGjeag7t3cuElHek9/D6atPLmeWMiIuFCBXYa\\\n",
       "R/bvY/4br5Gz9FMaNGvOoMd+TWrm5RqLFxEJASqwb1FWWsLSGe+wfOY7EGXoNuxOOvcfTExcnOto\\\n",
       "IiJSTQV2ipxln5E1djTHDh6g7VU96XHb3dRrkug6loiInEIFdopjBQeoXa8eN9z/KK0uau86joiI\\\n",
       "fAcV2CkuvbY/l17Xn6ioaNdRRETkNFRgp4iKVnGJiHiBVt+KiIgnqcBERMSTVGAiIuJJKjAREfEk\\\n",
       "FZiIiHiSCkxERDxJBSYiIp5krLWuMwSEMeYAsMN1jvOUCBS4DhFC9Hp8Ra/F1+n1+LrzeT0utNY2\\\n",
       "rckwgRK2BRYOjDHLrbWZrnOECr0eX9Fr8XV6Pb4uUl4PXUIUERFPUoGJiIgnqcBC22jXAUKMXo+v\\\n",
       "6LX4Or0eXxcRr4fugYmIiCfpHZiIiHiSCiwEGWMuMMZkGWPWG2M+N8Y86DqTa8aYaGPMKmPMbNdZ\\\n",
       "XDPGNDTGTDHGbDTGbDDGXOE6kyvGmIerv0bWGWMmG2Nqu84UTMaY140x+40x6/7jscbGmI+MMTnV\\\n",
       "PzZymTGQVGChqRx41Fp7MdAV+Lkx5mLHmVx7ENjgOkSI+AvwvrW2LdCBCH1djDEtgQeATGtteyAa\\\n",
       "GOY2VdCNA64/5bEngLnW2jRgbvXPw5IKLARZa/OstSurPz5G1Teolm5TuWOMaQX0B8a4zuKaMaYB\\\n",
       "0AN4DcBae9Jae9hpKLdigDrGmBggHtjrOE9QWWsXAIdOeXgQML764/HA4GBmCiYVWIgzxiQDHYEl\\\n",
       "jqO49GdgJFDpOEcoaAMcAMZWX1IdY4yp6zqUC9baPcAfgZ1AHnDEWvuh21Qhobm1Nq/643ygucsw\\\n",
       "gaQCC2HGmATgHeAha+1R13lcMMYMAPZba1e4zhIiYoBOwN+ttR2B44TxJaLTqb63M4iqUm8B1DXG\\\n",
       "3O42VWixVWPmYTtqrgILUcaYWKrKa6K1dqrrPA5dBdxojNkOvAVcbYx5020kp3YDu621X7wjn0JV\\\n",
       "oUWia4Bt1toD1toyYCpwpeNMoWCfMcYHUP3jfsd5AkYFFoKMMYaqexwbrLUvuc7jkrX2SWttK2tt\\\n",
       "MlU36OdZayP2X9nW2nxglzEmo/qhPsB6h5Fc2gl0NcbEV3/N9CFCB1pOMRMYXv3xcGCGwywBpQIL\\\n",
       "TVcBd1D1bmN19X83uA4lIeN+YKIxZi1wKfA/buO4Uf0udAqwEvg3Vd/PImIHii8YYyYDnwEZxpjd\\\n",
       "xpgfA88BfY0xOVS9S33OZcZA0k4cIiLiSXoHJiIinqQCExERT1KBiYiIJ6nARETEk1RgIiLiSSow\\\n",
       "ERHxJBWYiIh4kgpMREQ8SQUmIiKepAITERFPUoGJiIgnqcBERMSTVGAiIuJJKjAREfEkFZiIiHiS\\\n",
       "CkxERDxJBSYiIp6kAhMREU9SgYmIiCepwERExJP+H2VSS37RAw7jAAAAAElFTkSuQmCC\\\n",
       "\"\n",
       "  frames[6] = \"data:image/png;base64,iVBORw0KGgoAAAANSUhEUgAAAbAAAAEgCAYAAADVKCZpAAAAOXRFWHRTb2Z0d2FyZQBNYXRwbG90\\\n",
       "bGliIHZlcnNpb24zLjMuMSwgaHR0cHM6Ly9tYXRwbG90bGliLm9yZy/d3fzzAAAACXBIWXMAAAsT\\\n",
       "AAALEwEAmpwYAAApVElEQVR4nO3da3Ab530u8OePyy4vAJZXyRJJiaBtWRenvum0duzmYicnjqM4\\\n",
       "OWlO6jR27E7PZM5Mp007nem050u/dfqh02m/nM54ksZKmjjNODmpLd+SOIkdO3Ya+ZLY1MW2SIkg\\\n",
       "RYl3ECABLIB9zweQ1I2kRBHAuy/2+c1kREEI+R+YxMPd99l3RSkFIiIi04R0D0BERHQ1GGBERGQk\\\n",
       "BhgRERmJAUZEREZigBERkZEYYEREZCQGGBERGYkBRkRERmKAERGRkRhgRERkJAYYEREZiQFGRERG\\\n",
       "YoAREZGRGGBERGQkBhgRERmJAUZEREZigBERkZEYYEREZCQGGBERGYkBRkRERmKAERGRkRhgRERk\\\n",
       "JAYYEREZiQFGRERGYoAREZGRGGBERGQkBhgRERmJAUZEREZigBERkZEYYEREZCQGGBERGYkBRkRE\\\n",
       "RmKAERGRkRhgRERkpIjuAWqlq6tL9ff36x6DiMgor7/++pRSqlv3HFeiYQOsv78fhw8f1j0GEZFR\\\n",
       "ROSU7hmuFE8hEhGRkRhgRERkJAYYEREZiQFGRERGYoAREZGRGGBERGQkBhgRGa00V0A56+oegzRg\\\n",
       "gBGR0aYfG8TM997VPQZp0LAXMhNR4/PyJRTPLECmc1BlDxLm7+RBwv/aRGQsN5UBAKiiB3c0q3ka\\\n",
       "qjcGGBEZaznAAKAwnNY4CenAACMiY7mpDCJdzYhsaYbLAAscroERkZGUUnBTGTRd3w6xQlh8axLK\\\n",
       "U5CQ6B6N6oRHYERkpPJcAV62CGtHHHbSgSqUUTzNdbAgYYARkZGW17+svkqAAUBheF7nSFRnDDAi\\\n",
       "MpI7kgEigug1rQg7NsKdTSxyBAwDjIiM5I5mYG2PQSKVtzE76cA9mYbylObJqF4YYERkHFX2UBzL\\\n",
       "wuqLrzxmJx14iyWUJhY1Tkb1xAAjIuMUzyxCFb1LAgwACkM8jRgUDDAiMs75BY5l4XYbYcfmOliA\\\n",
       "MMCIyDhuKoNQawThjqaVx0QE9oCDwnAaSnEdLAgYYERkHDeVgdUbh8iFFy3bSQdetojSVE7TZFRP\\\n",
       "DDAiMoqXL6E0uXjB6cNlVjIBgOtgQeG7ABORfxORCRF557zHOkTkxyLy3tKf7TpnJCJ93NEMoLBq\\\n",
       "gEW6mhGKR7kvYkD4LsAAPAbg3ose+xsALyilrgfwwtLfiSiA3FRlu6jVAkxEYCe5DhYUvgswpdRL\\\n",
       "AGYuevgzAA4ufXwQwGfrORMR+cfyDvShluiq/24nHZTTLsoz+TpPRvXmuwBbw1al1PjSx2cAbNU5\\\n",
       "DJFOpZk8sq+NB/IIo7ID/fyqR1/LuC9icJgSYCtU5ad21Z9cEfmKiBwWkcOTk5N1noyo9soLRUx9\\\n",
       "/W3M/fD9QDbtyukCvEwRVm9szedEtrQg1BLh9WABYEqAnRWRbQCw9OfEak9SSj2qlNqvlNrf3d1d\\\n",
       "1wGJak2VPEx/6whKswUAwWzarVzAvCOx5nMkJLCW1sGosZkSYE8CeHjp44cB/KfGWYjqTimF2e+/\\\n",
       "B/fkPDq+sAuhWDCbdm4qA4QF0W2t6z7PTjooz+RRShfqNBnp4LsAE5HHAbwK4AYRGRWRPwHwDwA+\\\n",
       "LiLvAfjY0t+JAiPzwggW35xA4uM70XLzlsDuOOGOXLgD/VqW18GCGPJBEtE9wMWUUl9c45/uqesg\\\n",
       "RD6x+OYE5n8ygpZbtyB+dx+Ayht07rdTKM8WEDlvO6VGpsoKxbEsWv/bNZd9bnRbK6QpjMJQGi03\\\n",
       "b6nDdKSD747AiOicwnAaM0+8CyvpoP1z169snRTEndeLZxcu2YF+LRIS2P1cB2t0DDAinypN5TD9\\\n",
       "rSOItDeh66E9F5w2C2LTbrUd6NdjJxMoTeZQzri1HIs0YoAR+ZC3WMTUY4MAgK5H9l1y0a6EBFbA\\\n",
       "jjDcVAahlgjCnVd2ytRauR4sOK9R0DDAiHxGlTxMfesoSrN5dH55LyJdzas+zx4IVtPOTWUQXWUH\\\n",
       "+rVYPTGIFWKANTAGGJGPKKUw+4P34A6n0fH5XbD7nTWfG6SmnVcooTSx+g70a5FwCNbORCBen6Bi\\\n",
       "gBH5SOanKSy+MYHEx3ag5Zb123PnN+0anTuarexAv+PKAwyohHzxzCK8xWKNJiOdGGBEPrH41gTm\\\n",
       "f3wKLbdsQfyeHZd9fpCadisFjt6NBxjAfREbFQOMyAcKp+Yrdfn+BNr/4PorXucJStPOTWUQ7mxC\\\n",
       "uHX1HejXYvXFgYgEIuSDiAFGpFlpOofpbw4i4tjofGjvZXeZON9K0+5kY79Bu6nMhta/lkkkBKsv\\\n",
       "wQBrUAwwIo1W6vIK6Hxk38aPMJabdg28DlZKF+DNu1cVYEClrVk8nYWXL1V5MtKNAUakiSp5mP73\\\n",
       "oyjN5NH54F5Eu1s2/DmC0LRzRzZ2AfPF7GQCUJXTtNRYGGBEGiilMPv/3kdhKI32z10Pe2Dtuvzl\\\n",
       "2P2N3bRzRys70Fvb1r4H2HqsHQkgLHAb+Cg1qBhgRBpkfj6KxdfPIn53H1pv29wNxpfDr1Gbdu5I\\\n",
       "pnLJQPTq3q5CVhhWb5zrYA2IAUZUZ4u/ncT88yfRfFM3Eh/fuenPZ/U2btNOeQrFsasrcJzPTibg\\\n",
       "jmbhueUqTUZ+wAAjqqPCyDxmvncc1s4EOj6/64rr8uuRaOM27YpnF6Fcb907MF8JO+kAnoI70phH\\\n",
       "qUHFACOqk9JMHtMHjyCcsNH50J6rPiW2mkZt2hVXLmC+uvWvZdbOBCDBuv1MEDDAiOrAy5Uw9dg7\\\n",
       "UGWFrkf2IRyzqvr5G7Vp56YykObImhsaX6lQUwTRnlhDHqUGGQOMqMZU2cP0t4+iNJVH50N7EN2y\\\n",
       "8br85Vg7EkBIGq5O76bmYfVd+Q7067H7HbipDFTRq8Jk5AcMMKIaUkph7ocnUHh/Du2fux5N17bV\\\n",
       "5OtUmnaxhjpF5hXKKJ7d2A7067EHHKCkVvZVJPMxwIhqKPvSKBZ+fQbxj/ahdf/m6vKXYw84DdW0\\\n",
       "K45lKjvQVyvA+pfWwRrsKDXIGGBENbL49hTSz55E8+90VaUufzlWgzXt3CoVOJaFWqKIbm1lgDUQ\\\n",
       "BhhRDbipDGb+4zisHXF0/M9dkNDm13Aux26wpp07kkG4o6mqhRd7wIF7ah6qzHWwRsAAI6qy0mwe\\\n",
       "UwcHEU5Y6PzyXkg0XJeve65p1zhHYNU6fbjMSiagih7csWxVPy/pwQAjqiIvX8LUY4NQJa8mdfnL\\\n",
       "qTTt5o1v2pXTBZQ3sQP9WpZvcNlobc2gYoARVclKXX4yh84Ha1OXv5yVpt2o2U27lfWvKgdYOGYh\\\n",
       "0t3cMKdZg44BRlQFSinMPXkChffm0P7Z69B0XbuWOVaadoa/QbuppR3ot1enwHE+e8BB4eQ8lKeq\\\n",
       "/rmpvhhgRFWQ/cUYFn51BrEP96L1d6/RNkejNO3c1OZ2oF+PnXSgCmUUxxeq/rmpvhhgRJuUG5xC\\\n",
       "+tlhNN/YCecT/brHgZVMGN20U56CO5qt7LJfA8vrYKYfpRIDjGhT3NEMZr57HNHeONq/cENd6vKX\\\n",
       "Yw84RjftShOLUG656utfy8KOjXBnk/FHqcQAI7pqpblKXT7UGkXXl/ciZNWnLn85dr/ZTbuVAseO\\\n",
       "2gQYsNTWPJnmOpjhGGBEV8HLlzD92CCUu1SXj9e3Lr+ecNzspp2bykCaIoh0bm4H+vXYAw68xRJK\\\n",
       "E4s1+xpUe8YEmIj8pYgMisg7IvK4iDTpnomCSZUVZh4/huLEIjq/tAfRa1p1j3QJk5t2lQuYYzU9\\\n",
       "HbuyDmboUSpVGBFgItID4M8B7FdK3QggDOABvVNRECmlMHfoBPLHZ9H2mevQtEtPXf5yTG3aeW4Z\\\n",
       "xTMLNVv/WhZutxF2bGOPUqnCiABbEgHQLCIRAC0ATmuehwIo+8ppLLw6jtjv9yD2e9t0j7Mmy9Cm\\\n",
       "XXE0W9Ud6NciIrCTCRSG01DKvKNUqjAiwJRSYwD+EcAIgHEAaaXUj/RORUHi5UuYe3oI6aeH0LS3\\\n",
       "E84nk7pHWlfEsRHuMK9pV6sdOFZjDTjwskWUpnI1/1pUG0YEmIi0A/gMgCSA7QBaReTBVZ73FRE5\\\n",
       "LCKHJycn6z0mNSDlKSwcPoMz/3gY2ZfH0HLbVnQ84I+6/OXYSfOadu5opnJ6rw57SHIdzHxGBBiA\\\n",
       "jwEYVkpNKqWKAH4A4IMXP0kp9ahSar9San93d3fdh6TGUhiZx8T/fQuzT7yHSEcTtvzpzej4/C7f\\\n",
       "1OUvx06a17RzR6q/A/1aIl3NCMWicA07zUrnRHQPcIVGANwuIi0AcgDuAXBY70jUqMrzLtLPDWPx\\\n",
       "jQmE4hbav7ALLTdvMeKo63z2wLkjDD82JS9WnndRThdg9fXU5euJSKWtubQOJmLWf18yJMCUUr8S\\\n",
       "kScAvAGgBOBNAI/qnYoajSp5yL5yGvMvjECVPcQ/3Iv43X0I2Ub8mFyi0rSzUBhOI3bHdt3jXJab\\\n",
       "qtzHrJYXMF/MTjrI/XYK5dkCIh28Msc0xvxkKqX+DsDf6Z6DGlPu2AzSh4ZQmsqhaXcHnAMDiHbV\\\n",
       "7kLaeqg07Rzk358z4gjDTWWBkMDaXr+jxfPXwRhg5jEmwIhqoTiVQ/rQEPLHZhDpakbnH+9D8w0d\\\n",
       "useqGmvAweJbkyhN5RDtrv/9yTbCTc0v7UBfvzXGyJYWhFoiKAyl0Xrb1rp9XaoOBhgFklcoYf6n\\\n",
       "KWRfHoNEQnDuSyL2we2QiCm9pitz/hGGnwNseQf6llu21PXrSkhg9TtsIhqKAUaBojyFxTcnkH5u\\\n",
       "GF6miJbbtsK5t99XexlW0wVNu9/174XXpclFqELtdqBfj510kD8yjVK6gIhj1/3r09VjgFFguKkM\\\n",
       "5p46AXckg2hvDJ0P7YW9I6F7rJpaXgfze9OunhcwX2y5rekOpxG5ub5HgLQ5DDBqeOWMi/TzJ7H4\\\n",
       "+lmEWqNo//wutNxqXi3+atkDDnJv+7tpV9mBPoyIhuJMdFsrxA6jMJxGCwPMKAwwaliq7CH7y3HM\\\n",
       "/+QUVNFD7Pd7kLh7B0JNwfq2N6Fp545kYPXGtfxSISGB3Z8wbt9IYoBRg8q/O4u5p06gNJmDvasd\\\n",
       "bQcGEN3i3xJDLfm9aee5ZRTPLiD+4T5tM9gDDvLHZ1HOunXZxoqqgwFGDaU0ncPcoSHkj84g3NmE\\\n",
       "zof3oml3h2/XfuphpWl30p9HGMXTWcDTs/61zDrvKLXlA9yGzhQMMGoIXqGMzM9TyLw0CgkLEvf2\\\n",
       "I35XT8PV4q/WctOunC4g7LOmnTuir8CxzOqJQaIhFIYYYCZhgJHRlFLI/WYSc88Mw5t30XLLFjif\\\n",
       "7Ec44a83ad3O3xfRb0UFN5VBuM3WeimDhEOwdibgDs9rm4E2jgFGxnLHsph78gTcU/OI9sTQ+aU9\\\n",
       "sHc2di3+avm5aeemMnXd/3AtdtLB/E9OwVssItQS1T0OXQEGGBmnnHUx/6NTWPj1GYRaomj/3PVo\\\n",
       "2b81MLX4q+HXpl0546I8V4D1Qf2bDdsDDqCAwsl5NO/t1D0OXQEGGBlDlT1kXxvH/I9HoNwSYh/c\\\n",
       "jsTHdiLUzG/jK2El/de0W7mA2QdHYFZvHIgICkNpBpgh+JNPRsi/P1epxZ9dhH1dG9o+PYDoVv/f\\\n",
       "48pPLlgH80lRwU1lgBAQ3R7TPQokGoLVl/BtW5MuxYoW+V7unSlMff1tqKKHzof2oOtPbmR4XYXl\\\n",
       "pp2figpuKoPoNa2+ucu1nUygOJaFly/pHoWuAAOMfM1NZTDzH8dh9cax9S9uRfO+rkBf07UZy007\\\n",
       "v6yDKU9VChwa6/MXW1kHO+WfkKe1McDIt0pzeUx9cxChWBSdX97rm9/STWYnHRTPLsBbLOoeBaWp\\\n",
       "nLYd6Ndi7UgAIYHL26sYgQFGvuTlS5j6xiCU66HrkX0Ne7uTerOT55p2uvnhAuaLhawwrN6Yb45S\\\n",
       "aX0MMPIdVVaY/s4xlCYX0fngHq53VZHVd65pp5s7moHYYUR8dqNNO+nAHc3Cc8u6R6HLYICRryil\\\n",
       "MPfUCRTenUXbZ69D0/XtukdqKJWmXdwXTTs3lYHVG/Pd9XvWgAN4Cu6I/qNUWh8DjHwl+/JpLLw2\\\n",
       "jtiHehHz8R2ETWYnHe1NO1Usozi+AKvPfzun2DsTgAAFH7U1aXUMMPKN3OA00s8MoXlfJ5x7+3WP\\\n",
       "07CW18FcjU07dywLeMpX61/LQk0RRLdzHcwEDDDyBXc0g5nvHkO0J4b2P7zBd6eVGom1s9K0K2hs\\\n",
       "2rmpbGUWH+zAsRo76cBNzUOVPN2j0DoYYKRdaa6AqYNHEGqNouvhfazL19hK007jKTI3Na99B/r1\\\n",
       "2EkHKKmVra7InxhgpJVXKGH6sUEot8y6fB1VmnYZbU07v13AfDE7WVmb42lEf2OAkTaqrDDznWMo\\\n",
       "Tiyg80t7EL2Gdfl6sQYcoKynaVfOuijPFnwdYKGWKKLXtPiirUlrY4CRNnOHTiB/fBZt91+Hpl2s\\\n",
       "y9eTzqbdyg70Pg4woLJ7v3tqHqrMdTC/YoCRFplXxrDw6jhid/Ugdjvr8vWms2m3sgN9j/4d6Ndj\\\n",
       "DzhQrldpTJIvMcCo7nJHp5E+NISmvZ1w7kvqHiewdDXt3FQG0a3+2YF+LXZ/5fYz3BfRvxhgVFfu\\\n",
       "WBYzjx9DdHsMHQ+wLq+TjqadH3egX0s4biHS3cwLmn3MmAATkTYReUJEjonIURG5Q/dMtDHldAFT\\\n",
       "BwcRao6g62HuLq+b1b/UtKvjEUZpOgeV99cO9Ouxkw4Kw2koT+kehVZhTIAB+BcAzymldgO4CcBR\\\n",
       "zfPQBniFMqYODkLly+h85EaEE7bukQIv3LrUtKtjgK3sQO/TC5gvZg84UIXKtlfkP0YEmIg4AD4E\\\n",
       "4OsAoJRylVJzWoeiK6Y8hZnvHkNxfAEdf7Qb1jbW5f2i3k07N5WBWP7bgX4tVrKyDqZz1xJamxEB\\\n",
       "BiAJYBLAN0TkTRH5mojwXdAQ6aeHkD86g7b7r0Xz7g7d49B57GR9m3Z+3YF+LRHHRrijyZgLmlXZ\\\n",
       "Q/q5YZQX9N+wtB5MCbAIgFsB/KtS6hYACwD+5uInichXROSwiByenJys94y0iuyrp5F95TRid25H\\\n",
       "7I7tusehi9jJ+jXtVNGr7EBvyOnDZXbSgXvS/+tgSinM/ecJZH4+isL7s7rHqQtTAmwUwKhS6ldL\\\n",
       "f38ClUC7gFLqUaXUfqXU/u7u7roOSJfKHZvB3JMn0LSnA86nBnSPQ6uoZ9POPe3fHejXYycdeIsl\\\n",
       "lCYWdY+yruwvxrDwX2cQ/0gvWm7aonucujAiwJRSZwCkROSGpYfuAXBE40h0Ge7pLGa+cwzRba3o\\\n",
       "eGC3MaeMgqheTTtTduC4mD3g/3Ww3DtTSD87jOYPdCHx3/t1j1M3RgTYkj8D8G0R+S2AmwH8vd5x\\\n",
       "aC3l+QKmDw4i1BSu7C5vsy7vZ3ayPk07N5VB2LGMa6CG222EHcu3AeamMpj5j+OweuPo+MKuQP2y\\\n",
       "GNE9wJVSSr0FYL/uOWh9nlvG1MEj8HIldP/vmxB2zHqzCiLrvCMMq4bbO5lyAfPFRAR20kH+xByU\\\n",
       "UhDxT0CU5vKY+uYgQrEoOr+8FxIN1i+LJh2Bkc9V6vLHUTydRccXd8Pa7u+97qhipWlXwyOMctZF\\\n",
       "eSYPqy9Rs69RS1bSgZcpojSV0z3KCi9fwtQ3BqFcL7C3ImKAUdWknxlG/sg0nAMDaN7TqXsc2gA7\\\n",
       "6cCt4TqYO7p0B+Y+M3+p8ds6mCorTH/nGEqTi+h8cA+iW4N5VREDjKoi+9o4si+PofWObYjf2aN7\\\n",
       "HNqgWjft3JF5QIBoj3mnEAEg0tWMUCwK1wf7IiqlMPfUCRTenUXbZ69D0/XBvRURA4w2Lf/uLOae\\\n",
       "fB9NN7Sj7cC1usehq7ByB+IaHWG4o9nKDvSGFnqW18EKQ2kopfd6sOzLp7Hw2jhiH+pF7HeDfSsi\\\n",
       "BhhtSvHMAqa/fRTRLa3o+KPdkLB/FrjpyoU7mmrWtFNqaQd6wy5gvpg94KCcLqA8W9A2Q25wGuln\\\n",
       "htC8rxPOvf3a5vALBhhdtXLGxdRjgxArjM5H9iFkG1NqpYuICKzl68GqfIRRmspB5Uqweg0PMM37\\\n",
       "IrqjGcx89xiiPTG0/yFvRQQwwOgqVeryg/AWiuh6eC8ibazLm86uUdNu5QJmw4/AIltaEGqJaAmw\\\n",
       "0lwBUwePINQarVxbyVsRAWCA0VVQnsLs946jOJZFxwO7jf/NmirO7YtY3aLCyg70W8zYgX4tEhJY\\\n",
       "/U7dA8wrlDD92CCUWw5sXX4tDDDasPTzJ5F7ZxrOfUk072NdvlFEuitNu2q/QZu2A/167KSD8nQe\\\n",
       "5XR91sFUWWHmO8dQnFhA55f2IHpNMOvya2GA0YZk/2sc2RdH0fp71yB2F+vyjWSlaVfFAFvegT5q\\\n",
       "4A4cq6l1W/Nic4dOIH98Fm33X4emXcGty6+FAUZXLP/eLOZ++D7sXe1ou/86X22pQ9VhJx2U5woo\\\n",
       "zeSr8vnc8SxQVrAbJMCi22MQO1yXAMu8MoaFV8cRu6sHsduDXZdfCwOMrkjxbKUuH+luQSfr8g2r\\\n",
       "2jtOmLoD/VokJLD7EzUPsNzRaaQPDaFpbyec+5I1/VomY4DRZa3U5SMhdD2yD6Em1uUbVbWbdm4q\\\n",
       "g3DCaqhNna2kg9JEDuWsW5PP745lMfP4MUS3x9DxAOvy62GA0bpUsYzpbx6Bly2i6+F9iLQ36R6J\\\n",
       "aqjaTTs3lWmY9a9l545Sq7+tVDldwNTBQYSaI+h6eC/r8pfBAKN1zXz/PbijGXT84Q0NcxqI1mcn\\\n",
       "E1Vp2pUXiihP5xvu+8bqiUGiIbhVPo3oFSrXVqp8GZ2P3GjcfdN0YIDRmvLvziL31iQS9+xA841d\\\n",
       "usehOqnWjhPuaGOtfy2TcAjWzuqug1VuRXQMxfEFdPzRbljbWJe/EgwwWpUqK8w9PYRwRxPiH+nT\\\n",
       "PQ7VUbWadu5IBhA05IXudtJB8cwCvMViVT5f+ukh5I/OoO3+a9G8u6MqnzMIGGC0qoVfj6N0dhFt\\\n",
       "9yUhEX6bBEm1mnZuKlMphRi6A/167KQDKKBwcvPrYNlXTyP7ymnE7tyO2B3bqzBdcPCdiS7h5UqY\\\n",
       "/9EpWEkHTdxpI5A227RTSqE4mmm404fLrL44EJFNh3zu2AzmnjyBpj0dcD41UKXpgoMBRpeYf2EE\\\n",
       "Xq6EtgMDvFg5oM6tg13dEUZ5Og9vsWT8Br5rkWgIVl98UwHmns5i5jvHEN3Wio4HdrMufxUYYHSB\\\n",
       "4uQisr88jZbbtsLqMfP277R5m23anbuAOVHNsXzFTjoojmXhFUob/v+W5wuYPjiIUFO4srt8A55m\\\n",
       "rQcGGF0g/cwwJBKC84l+3aOQRhLZXNPOTWUg0RCihu9Av57ldTB3g+tglVsRHYGXK6HzkX0NdZF3\\\n",
       "vTHAaEX+vVnkj84gfncfb9lAm2rauakMor2xht5yzNqZAEKyodOslbr8cRRPZ9Hxxd2wtvMsx2Yw\\\n",
       "wAjAUm3+0BDC7Tbid3KXeVraef0qmnaq5ME9nW3o04cAELLCsHpjGzpKTT8zjPyRaTgHBtC8hwWp\\\n",
       "zWKAEQBg4fAZlM4uwrkvCYny24KW1q+uomlXHF8AyqphG4jns5MO3NEMPLd82edmXxtH9uUxtN6x\\\n",
       "jb8kVgnfqQhevoT5H52E1Z/gjhu04mqbdu5I5YgtCAFmJR2grCoXba8j/+4s5p58H003tKPtwLV1\\\n",
       "mq7xMcAI8z8dgbfI2jxdyk46KJ7eWNPOHc0iFLcQdhp/HdXuTwCy/rZbxTOVWxFFt7aig7ciqioG\\\n",
       "WMCVpnLIvnIaLbdubcgtf2hz7KQDeBtr2rmpygXMQfhlKNQUQXR7bM3LDVZuRWSF0fnIPoRs3oqo\\\n",
       "mhhgATf3zDAkLKzN06o22rTzFosoTeUa9gLm1dhJB4WRDFTJu+DxSl1+EN5CEV2P7EOEdfmqY4AF\\\n",
       "WP79OeSPTCP+0T6EE41/uoc2bqNNu5ULmAN0NG8nHaDkrey+D1Tq8rPfO47i2FJdnpsC1AQDLKCU\\\n",
       "p5A+NIRwm434XWxE0dqsDTTt3NTyDvTBecO2+iuXCxSGzoV8+vmTyL0zDedTA2jey7p8rRgVYCIS\\\n",
       "FpE3ReSQ7llMt3D4DIpnFpZq89zGhtZmX2HTDjhvB/qm4Kz1hFujiF7TsnKUmv2vcWRfHEXr7dsQ\\\n",
       "u5O7y9eSUQEG4KsAjuoewnRevoT550/B2plA8wdYm6f1XUnTDqjsQL9c4AgaK+nAPTWP3PEZzP1w\\\n",
       "qS7/6WsDUWTRyZgAE5FeAJ8C8DXds5hu/mcpeAtFtH2atXm6vMs17ZaVZ5Z2oA9ggNlJB8r1MP3N\\\n",
       "I4huaUHHF1mXrwdjAgzAPwP4awDeZZ5H6yhN55B9eQwtt24J1EI7bc5aTbvznduBPnjfV8u3nwm1\\\n",
       "RCp1+QCdQtXJiAATkQMAJpRSr1/meV8RkcMicnhycrJO05kl/cwwJCRw7u3XPQoZxE4mLmnaXWxl\\\n",
       "B/qtrXWczB/CcQtt/+M6dP+vDyDS1qR7nMAwIsAA3AngfhE5CeC7AO4WkX+/+ElKqUeVUvuVUvu7\\\n",
       "u7vrPaPv5U/MITc4jfhH+hBO8JoUunJW/9INLofWPo3opjKI9jT2DvTrif3etkCGt05GBJhS6m+V\\\n",
       "Ur1KqX4ADwD4qVLqQc1jGWWlNu/YiH+ItXnamHBrFJGtLWsWOc7tQB+804ekjxEBRpu3+PpZFMcX\\\n",
       "4NzXz9o8XRV7oNK0U+VL18GKZxaAUjB2oCf/MC7AlFI/V0od0D2HSbxCCennT8LaEUfz7/DUKl2d\\\n",
       "5aZd8fTCJf+2UuAI0BZSpJ9xAUYbl/nZKLxskdel0KYsN+1WWwdzRzIIxaMIc78/qiMGWIMrzeSR\\\n",
       "eXkULbds4ekd2pRw3EKku3nVdTA3lYHVG4wd6Mk/GGANLv3sMEQECdbmqQrspIPCyTSUp1YeC+IO\\\n",
       "9OQPDLAGVhhOI/f2FOIf7uWtHKgq7KQDlS+jOH5uHcwdzQII5gXMpBcDrEEpT2Hu0BDCjoXYh3p1\\\n",
       "j0MNwlpeBzvvNOK5HegZYFRfDLAGtfjGBIpjWTifTCJksTZP1RFpsxHuaLokwCLdzdw+ieqOAdaA\\\n",
       "vEIZ6eeHK7X5m1ibp+qy+xNwh9NQSp23A31C91gUQAywBpT5eQpepgjnAHebp+qzBxx4iyWUJhZR\\\n",
       "ni3AWyhy/Yu04DF/gynN5pH5xShabu6GvYO/FVP12eetg4WaK28hDDDSgQHWYM7V5pO6R6EGFe5o\\\n",
       "QjhhoTCURjhuAZEQote06B6LAogB1kAKJ9PI/XYK8Xt2INLG2jzVhojAGnBQODGHSHsTrJ4YJMzV\\\n",
       "CKo/ftc1iJXafMJC/MOszVNt2UkHXqa4VODg6UPSgwHWIBbfnEBxNIsEa/NUB8vrYFDcwJf0YYA1\\\n",
       "gEpt/iSifXG0sDZPdRDpbkYoFgXAC5hJHwZYA8i8mII376LtwAAkxNo81Z6IwL62DeGEhXA711tJ\\\n",
       "D5Y4DFeayyPz0hiab+qGvZO1eaqftvuvhZcr8VpD0oYBZrj0sycBAM4n+7XOQcETbo0i3BrVPQYF\\\n",
       "GE8hGqxwah6530wi/qEeRNqadI9DRFRXDDBDLdfmQwkL8Y/06R6HiKjuGGCGWvzNJIqpDJx7+1mb\\\n",
       "J6JAYoAZyHPLmH92GNHeGFpu3qJ7HCIiLRhgBsq8OIryvIu2T1/L2jwRBRYDzDCluQKyL42yNk9E\\\n",
       "gccAM8z8c8NQCnDu7dc9ChGRVgwwgxRG5rH41lJtvp21eSIKNgaYIZRSSD81hFDcQvzDrM0TETHA\\\n",
       "DJH7zSTc5dq8zdo8EREDzACeW0b62WFEe2JouYW1eSIigAFmhOxLoyinXbR9mrvNExEtY4D5XCld\\\n",
       "QObFUTT/Thfsfkf3OEREvmFEgIlIn4j8TESOiMigiHxV90z1Mv/cSSil4Nyb1D0KEZGvmHI7lRKA\\\n",
       "v1JKvSEicQCvi8iPlVJHdA9WS24qg8U3JxD/aB8iHazNExGdz4gjMKXUuFLqjaWPMwCOAujRO1Vt\\\n",
       "KaUw99QJhOJRxD/Sq3scIiLfMSLAzici/QBuAfArzaPU1OIbE3BHMnA+0Y+QbcqBMhFR/Rj1zigi\\\n",
       "MQDfB/AXSqn5Vf79KwC+AgA7duyo83TVUc64SD87jMU3Jiq7zd+6VfdIRES+ZEyAiUgUlfD6tlLq\\\n",
       "B6s9Ryn1KIBHAWD//v2qjuNtmip5yP7yNOZfGIEqeYh/pBfxj/axNk9EtAYjAkxEBMDXARxVSv2T\\\n",
       "7nmqLXd8BumnhlCayqFpdwecAwOIdjXrHouIyNeMCDAAdwJ4CMDbIvLW0mP/Ryn1jL6RNq84lUP6\\\n",
       "0BDyx2YQ6WpG5x/vQ/MNHbrHIiIyghEBppR6GUDDnEvzCiVkfppC5uUxSCQE574kYh/cDokY16kh\\\n",
       "ItLGiABrFMpTWHxrAulnT8LLuGi5bSuce/sRjlu6RyMiMg4DrE7c0QzmnjwBdySDaF8cnQ/tgb2D\\\n",
       "d1QmIrpaDLAaK2ddpJ87icXXzyLUGkX753eh5dYtbBcSEW0SA6xGVNlD9pfjmP/JKaiSh9jv9yBx\\\n",
       "9w6EmviSExFVA99NayD/7izmDp1AaSIHe1c72j49gGh3i+6xiIgaCgOsikrTOcw9PYz8kWlEOpvQ\\\n",
       "+fBeNO3uQOUyNiIiqiYGWBV4hTIyP08h84tRSEiQuLcf8bt6WIsnIqohBtgmKKWQ+80k0s8Mozzv\\\n",
       "ouWWLXA+2Y9wwtY9GhFRw2OAXSV3LIu5p07APTmPaE8MHV/aA3sna/FERPXCANugctbF/I9OYeHX\\\n",
       "ZxBqiaL9D65Hy21bWYsnIqozBtgVUmWFhddOI/3jESi3jNidPUjcswOhZr6EREQ68N33CuTfn8Xc\\\n",
       "U0MonV2EfX0b2g4MILq1VfdYRESBxgBbR2kmj/TTQ8gNTiPc0YTOh/aiaS9r8UREfsAAW4XnlpF5\\\n",
       "cRSZF0chAiQ+sRPxu3ohUdbiiYj8ggF2kdzgFOaeHEI5XUDzTd1w7ksi4rAWT0TkNwywi5TmCgi1\\\n",
       "RNDxwA2wk47ucYiIaA0MsIvEbt+O2B3bWYsnIvI5BthFJMzgIiIyAVsJRERkJAYYEREZiQFGRERG\\\n",
       "YoAREZGRGGBERGQkBhgRERmJAUZEREYSpZTuGWpCRCYBnNI9xyZ1AZjSPYSP8PU4h6/Fhfh6XGgz\\\n",
       "r8dOpVR3NYeplYYNsEYgIoeVUvt1z+EXfD3O4WtxIb4eFwrK68FTiEREZCQGGBERGYkB5m+P6h7A\\\n",
       "Z/h6nMPX4kJ8PS4UiNeDa2BERGQkHoEREZGRGGA+JCJ9IvIzETkiIoMi8lXdM+kmImEReVNEDume\\\n",
       "RTcRaRORJ0TkmIgcFZE7dM+ki4j85dLPyDsi8riINOmeqZ5E5N9EZEJE3jnvsQ4R+bGIvLf0Z7vO\\\n",
       "GWuJAeZPJQB/pZTaC+B2AH8qIns1z6TbVwEc1T2ET/wLgOeUUrsB3ISAvi4i0gPgzwHsV0rdCCAM\\\n",
       "4AG9U9XdYwDuveixvwHwglLqegAvLP29ITHAfEgpNa6UemPp4wwqb1A9eqfSR0R6AXwKwNd0z6Kb\\\n",
       "iDgAPgTg6wCglHKVUnNah9IrAqBZRCIAWgCc1jxPXSmlXgIwc9HDnwFwcOnjgwA+W8+Z6okB5nMi\\\n",
       "0g/gFgC/0jyKTv8M4K8BeJrn8IMkgEkA31g6pfo1EWnVPZQOSqkxAP8IYATAOIC0UupHeqfyha1K\\\n",
       "qfGlj88A2KpzmFpigPmYiMQAfB/AXyil5nXPo4OIHAAwoZR6XfcsPhEBcCuAf1VK3QJgAQ18img9\\\n",
       "S2s7n0El1LcDaBWRB/VO5S+qUjNv2Ko5A8ynRCSKSnh9Wyn1A93zaHQngPtF5CSA7wK4W0T+Xe9I\\\n",
       "Wo0CGFVKLR+RP4FKoAXRxwAMK6UmlVJFAD8A8EHNM/nBWRHZBgBLf05onqdmGGA+JCKCyhrHUaXU\\\n",
       "P+meRyel1N8qpXqVUv2oLND/VCkV2N+ylVJnAKRE5Ialh+4BcETjSDqNALhdRFqWfmbuQUALLRd5\\\n",
       "EsDDSx8/DOA/Nc5SUwwwf7oTwEOoHG28tfS/+3QPRb7xZwC+LSK/BXAzgL/XO44eS0ehTwB4A8Db\\\n",
       "qLyfBWIHimUi8jiAVwHcICKjIvInAP4BwMdF5D1UjlL/QeeMtcSdOIiIyEg8AiMiIiMxwIiIyEgM\\\n",
       "MCIiMhIDjIiIjMQAIyIiIzHAiIjISAwwIiIyEgOMiIiMxAAjIiIjMcCIiMhIDDAiIjISA4yIiIzE\\\n",
       "ACMiIiMxwIiIyEgMMCIiMhIDjIiIjMQAIyIiIzHAiIjISAwwIiIyEgOMiIiM9P8B7ygkTEcAnkYA\\\n",
       "AAAASUVORK5CYII=\\\n",
       "\"\n",
       "  frames[7] = \"data:image/png;base64,iVBORw0KGgoAAAANSUhEUgAAAbAAAAEgCAYAAADVKCZpAAAAOXRFWHRTb2Z0d2FyZQBNYXRwbG90\\\n",
       "bGliIHZlcnNpb24zLjMuMSwgaHR0cHM6Ly9tYXRwbG90bGliLm9yZy/d3fzzAAAACXBIWXMAAAsT\\\n",
       "AAALEwEAmpwYAAAqm0lEQVR4nO3da3BTZ34/8O8jy/f7Fcu3I242YGFgl2UNBEiCCWSzgZALOE53\\\n",
       "dqad7ot2tttOdzrt/03fdfqi02lnX3Sa2W27bQNpCkmTTcCOcUIIhPvVxsbYEB3J8v2KbWxLlp7/\\\n",
       "CyzWEC7GlvToSN/PTAZjC+kbgfX1eX6PzhFSShARERmNSXUAIiKi+WCBERGRIbHAiIjIkFhgRERk\\\n",
       "SCwwIiIyJBYYEREZEguMiIgMiQVGRESGxAIjIiJDYoEREZEhscCIiMiQWGBERGRILDAiIjIkFhgR\\\n",
       "ERkSC4yIiAyJBUZERIbEAiMiIkNigRERkSGxwIiIyJBYYEREZEgsMCIiMiQWGBERGRILjIiIDIkF\\\n",
       "RkREhsQCIyIiQ2KBERGRIbHAiIjIkFhgRERkSCwwIiIyJBYYEREZEguMiIgMiQVGRESGxAIjIiJD\\\n",
       "YoEREZEhmVUHCJacnBxptVpVxyAiMpSLFy/2SylzVeeYi4gtMKvVigsXLqiOQURkKEIIXXWGueIS\\\n",
       "IhERGRILjIiIDIkFRkREhsQCIyIiQ2KBERGRIbHAiIjIkFhgREQB0NfXB7fbrTpGVGGBEREtkNvt\\\n",
       "xr/+67+ioaFBdZSowgIjIlogp9OJ6elpNDU1wefzqY4TNVhgREQLZLfbAQDj4+P3P6bgY4ERES2Q\\\n",
       "ruvIy8tDXFwcmpqaVMeJGiwwIqIF8Hg8cLlcWLZsGcrKytDS0gKv16s6VlRggRERLYDL5YLX64Wm\\\n",
       "abDZbJiYmMDt27dVx4oKLDAiogXwz7xKSkqwdOlSxMfHcxkxRFhgREQLoOs68vPzkZiYCLPZjJUr\\\n",
       "V+LGjRvweDyqo0U8FhgR0TxNT0/D6XRC07T7n7PZbJiamkJ7e7vCZNGBBUZENE+dnZ2Ynp5+oMAW\\\n",
       "L16MpKQkXL9+XWGy6MACIyKaJ12/d/Hi2QUWExODVatWobW1laeWCjIWGBHRPOm6jtzcXCQnJz/w\\\n",
       "+fLycng8Hty8eVNRsujAAiMimgev1wuHw/HA0ZefpmlISUnhbsQgY4EREc1Dd3c33G73IwvMZDKh\\\n",
       "vLwcbW1tmJycVJAuOrDAiIjm4VHzr9lsNhu8Xi9aW1tDGSuqsMCIiOZB13VkZWUhLS3tkV8vKipC\\\n",
       "eno6lxGDKOwKTAjxb0KIXiFE06zPZQkh6oUQbTO/ZqrMSETRzefzQdf1xx59AYAQAuXl5bh16xbu\\\n",
       "3r0bwnTRI+wKDMB/ANj10Of+GkCDlHI5gIaZ3xMRKdHb24vJyUlYrdYn3s5ms8Hn86GlpSU0waJM\\\n",
       "2BWYlPIEgMGHPr0HwG9nPv4tgNdCmYmIaLanzb/8LBYLsrKyuIwYJGFXYI+xSErZNfNxN4BFKsMQ\\\n",
       "qTQ0NITz589DSqk6StTSdR3p6enIyMh44u2EELDZbLDb7RgbGwtNuChilAK7T977rn3kd64Q4mdC\\\n",
       "iAtCiAt9fX0hTkYUfOPj4/iv//ovfPbZZxgYGFAdJypJKZ86/5rNZrNBSonm5uYgJ4s+RimwHiGE\\\n",
       "BQBmfu191I2klO9KKddLKdfn5uaGNCBRsE1PT+N//ud/MDw8DAC8dL0i/f39GB8ff+r8yy8vLw+5\\\n",
       "ublcRgwCoxTYJwB+OvPxTwF8rDALUchJKfHJJ5/A4XBg7969SE5Ovj+HodCa6/xrNpvNBofDgZGR\\\n",
       "kWDFikphV2BCiIMATgMoE0J0CCH+CMDfA9ghhGgDUDXze6Ko8dVXX+HatWt44YUXsHr1alitVui6\\\n",
       "zjmYArquIyUlBVlZWXP+MzabDQB4hvoAM6sO8DAp5duP+dL2kAYhChPXrl3D8ePHsWbNGmzduhXA\\\n",
       "vZ/+r1+/juHhYWRm8m2RoSKlhN1uh6ZpEELM+c9lZ2fDYrHg+vXr2LRpUxATRpewOwIjot/TdR0f\\\n",
       "f/wxNE3Dq6++ev9F0798xTlYaA0NDWF0dHTO86/ZbDYbXC4XBgcffpcQzRcLjChMDQwM4P3330dG\\\n",
       "Rgb2798Ps/n3Cya5ublITEzkHCzE5jP/8isvLwfAZcRAYoERhaG7d+/iwIEDAICamhokJSU98HWT\\\n",
       "yQRN01hgIWa325GUlIT57HLOyMhAUVERdyMGEAuMKMzM3i5fXV2N7OzsR95O0zQMDQ1xZ1sI+d//\\\n",
       "9Szzr9lsNht6enrA96kGBguMKIxIKfG73/0Ouq5jz549T1yq8n+NR2GhMTIyguHh4XktH/qtWrUK\\\n",
       "AJcRA4UFRhRGTpw4gatXr+L5559HRUXFE2+bn5+P+Ph4FliILGT+5ZeWlgZN09DU1MS3QAQAC4wo\\\n",
       "TDQ2NuLLL79ERUUFtm3b9tTbm0wmlJSUsMBCxG63Iz4+HosWLexUrDabDf39/ejp6QlQsujFAiMK\\\n",
       "Aw6HA//3f/+HkpIS7N69e84zFk3T0N/fzxPFhoB//mUyLexlc9WqVRBCcDNHALDAiBQbHBzE+++/\\\n",
       "j/T0dFRXVz+wXf5p/O9H4lFYcI2OjmJgYGBBy4d+ycnJWLJkCZcRA4AFRqTQxMQE3nvvPUgpH7ld\\\n",
       "/mksFgtiY2NZYEEWiPnXbDabDcPDw+js7AzI/UUrFhiRIv7t8kNDQ9i/fz9ycnKe+T5iYmJQXFzM\\\n",
       "M3IEma7riI2NhcViCcj9rVixAiaTicuIC8QCI1JASolPP/0Udrsdu3fvntepifw0TUNvby/u3r0b\\\n",
       "uID0AF3XUVJSgpiYmIDcX2JiIpYtW4ampib4fL6A3Gc0YoERKXDy5ElcuXIFW7duxdq1axd0X/7y\\\n",
       "czgcCw9G33H37l309vYGbPnQz2azYXR0FE6nM6D3G01YYEQh1tTUhIaGBthsNrzwwgsLvr+CggLE\\\n",
       "xMRwDhYkgZ5/+ZWVlcFsNnMZcQFYYEQh5HQ68dFHH6G4uBh79uyZ9ymJZouNjUVRURHnYEGi6zrM\\\n",
       "ZjMKCwsDer/x8fEoLS1Fc3MzvF5vQO87WrDAiEJkaGgIBw8eRFpaGqqrqxEbGxuw+7Zareju7sbk\\\n",
       "5GTA7pPu0XUdRUVFz/T2hrkqLy/H+Pg4j57niQVGFAL+7fI+nw81NTVITk4O6P1rmgYpJecpATY5\\\n",
       "OYnu7u6ALx/6LV++HHFxcVxGnCcWGFGQeb1efPDBBxgcHMT+/fvndSmOpykqKoLJZOIyYoA5HA5I\\\n",
       "KRe0S/RJ4uLiUFZWhpaWFkxPTwflMSIZC4woiKSU+Oyzz/Dtt9/i1VdfxeLFi4PyOHFxcSgoKOBS\\\n",
       "VIDpug6TyRTw+ddsNpsNExMTuH37dtAeI1KxwIiC6NSpU7h06RK2bNmCdevWBfWxrFYrOjs74Xa7\\\n",
       "g/o40UTXdRQWFiIuLi5oj7F06VIkJCTwEivzwAIjCpLm5mYcO3YM5eXlAdku/zSapsHn86GjoyPo\\\n",
       "jxUN3G43Ojs7gzb/8jObzVixYgVaWlrg8XiC+liRhgVGFAQdHR348MMPUVRUhNdee23BZzCfi+Li\\\n",
       "YgghOAcLEKfTCZ/PF7T512w2mw1utxvt7e1Bf6xIwgIjCrDh4WEcPHgQKSkpAd8u/yQJCQmwWCyc\\\n",
       "gwWIrusQQqC4uDjoj7V48WIkJSVxN+IzYoERBdDk5CTee+89TE9P45133kFKSkpIH1/TNHR0dHAp\\\n",
       "KgDsdjssFgvi4+OD/lgxMTFYtWoVbt68yRnmM2CBEQWI1+vF//7v/2JgYCBo2+WfRtM0eL1eXqZj\\\n",
       "gTweD1wuV9DnX7PZbDZ4PB7cvHkzZI9pdCwwogCQUuLIkSO4desWXnnlFSxZskRJjpKSEgDgHGyB\\\n",
       "XC4XvF5vSOZffiUlJUhJSeEy4jNggREFwOnTp3Hx4kVs3rwZ3//+95XlSEpKwqJFizgHWyD/8+f/\\\n",
       "gSAUTCYTysvL0dbWxlOCzRELjGiBWlpa8Pnnn2PlypXYvn276jjQNA1Op5MniF0Au92ORYsWITEx\\\n",
       "MaSPa7PZ4PV6cePGjZA+rlGxwIgWwOVy4fDhwygsLMTevXtDsl3+aTRNg8fj4Rxsnqanp+F0OkO6\\\n",
       "fOhXVFSE9PR0LiPOkfrvNiKD8m+XT05ORnV1dVDP1vAs/BsPuIw4P11dXZieng7pBg4/IQRsNhtu\\\n",
       "377NK2zPAQuMaB4mJydx4MABeDwe1NTUIDU1VXWk+1JSUpCTk8MCmyf/BhgVBQbcu8SKz+dDS0uL\\\n",
       "ksc3EsMUmBDiL4QQ14UQTUKIg0KIBNWZKDp5vV4cOnQIfX19eOutt7Bo0SLVkb5D0zQ4HA74fD7V\\\n",
       "UQxH13Xk5OQE/JI3c2WxWJCVlcVlxDkwRIEJIQoB/BmA9VJKG4AYANVqU1E0klKitrYW7e3teOWV\\\n",
       "V7Bs2TLVkR5J0zRMTU2hu7tbdRRD8Xq9cDgcSuZffv5lRLvdjtHRUWU5jMAQBTbDDCBRCGEGkASA\\\n",
       "E2oKubNnz+L8+fPYuHEj1q9frzrOY3EONj89PT1wu93Klg/9bDYbpJRobm5WmiPcGaLApJQuAP8A\\\n",
       "wAGgC8CIlPJztakomkxOTqKurg61tbVYsWIFduzYoTrSE6WnpyMzM5MF9oxUz7/88vLykJeXx0us\\\n",
       "PIUhCkwIkQlgD4DFAAoAJAsh/uARt/uZEOKCEOJCX19fqGNSBPL5fLh8+TJ+9atf4fTp01i3bh1e\\\n",
       "f/31sNgu/zSapkHXdc7BnoGu68jKykJaWprqKCgvL4fD4cDIyIjqKGEr/L8L76kC8K2Usk9K6QHw\\\n",
       "IYBND99ISvmulHK9lHK9ivPQUWTp6OjAr3/9a3z88cfIzMzEH//xH2PPnj1hs13+aTRNw8TEBPjD\\\n",
       "3Nz4fD44HA7lR19+NpsNAHgU9gRm1QHmyAGgUgiRBGACwHYAF9RGokg1OjqKY8eO4erVq0hJScHe\\\n",
       "vXuxevVqQxx1zebfiKDreljulAw3vb29mJiYCJsCy87OhsViQVNTEzZt+s7P6wSDFJiU8qwQ4hCA\\\n",
       "SwCmAVwG8K7aVBRppqencfbsWXz11VeYnp7G5s2bsXXr1pBcTiMYMjIykJaWBl3XsWHDBtVxwp5/\\\n",
       "XhguBQbcOwqrr6/H4OAgsrKyVMcJO4YoMACQUv4tgL9VnYMi082bN1FXV4eBgQGUlpZi586dyM7O\\\n",
       "Vh1rQYQQ0DQNt2/fhpQSQgjVkcKaruv3N7+Ei/LyctTX1+P69evYsmWL6jhhxzAFRhQMAwMDqK2t\\\n",
       "RVtbG7Kzs/HOO+9g+fLlqmMFjNVqRWNjIwYGBpCTk6M6TtiSUkLXdSxdulR1lAdkZGSgqKgITU1N\\\n",
       "LLBHYIFRVJqamsKJEydw+vRpmM1m7NixAz/84Q9hNkfWt8Ts94OxwB6vv78f4+PjYbV86Gez2VBb\\\n",
       "W4u+vj4lF0kNZ8aaShMtkM/nw5UrV/CrX/0Kp06dQkVFBX7+859j8+bNEVdewL2NAMnJybzA5VP4\\\n",
       "518qz8DxOKtWrQIAnlrqESLvO5boMVwuF44ePYqOjg4UFBSguroaRUVFqmMFlX8Opus652BPoOs6\\\n",
       "UlJSwnKjRFpaGqxWK5qamvD888/z73AWFhhFvLGxMTQ0NODy5ctITk7Gnj17sGbNGsNti58vq9WK\\\n",
       "5uZmDA8Ph9UGhXAhpYTdboemaWFbDjabDZ9++il6enqQn5+vOk7YYIFRxPJ6vTh37hyOHz8Oj8eD\\\n",
       "TZs2YevWrUhIiK4LGcyeg7HAvmtoaAijo6NhOf/yW7lyJT777DM0NTWxwGZhgVFEam9vR21tLfr7\\\n",
       "+7Fs2TLs3Lkzagfgubm5SExMhN1ux9q1a1XHCTvhPP/yS05OxpIlS9DU1ITt27eH7ZFiqLHAKKIM\\\n",
       "Dg6irq4Ora2tyMzMxNtvv43S0tKo/oY3mUz352D0XbquIzExMex3adpsNnz88cdwuVwRP7udKxYY\\\n",
       "RYSpqSmcPHkS33zzDUwmE7Zv346NGzdG5M7C+dA0DTdu3MCdO3fC4kS14cQ//wr3meiKFSvwu9/9\\\n",
       "Dk1NTSywGfzuJkOTUqKxsRH19fUYHR1FRUUFqqqq+CL9EP98x263o6KiQnGa8DEyMoLh4WFUVlaq\\\n",
       "jvJUiYmJWL58Oa5fv46XXnop7As3FFhgZFhdXV04cuQInE4nLBYL3nrrLZSUlKiOFZby8/MRHx8P\\\n",
       "XddZYLOE4/kPn6S8vBytra1wOp2GyRxMLDAynPHxcXzxxRe4ePEikpKS8Oqrr2LdunX8ifQJTCYT\\\n",
       "SkpKOAd7iK7riI+PN8zZ+svKymA2m9HU1MQCAwuMDMTr9eL8+fM4fvw4pqamUFlZiW3btiExMVF1\\\n",
       "NEPQNA1tbW0YGxtDSkqK6jhhwW63o6SkxDA//MTHx6O0tBTNzc3YtWsXYmJiVEdSigVGhnD79m0c\\\n",
       "PXoUfX19WLJkCXbt2oW8vDzVsQxl9vvBysvLFadRb3R0FAMDA/je976nOsozsdlsaG5uht1uD7uT\\\n",
       "D4eaMX7soKjW0tKC//zP/4TH48H+/fvxk5/8hOU1DwUFBYiNjeUy4gyHwwHAOPMvv+XLlyMuLo5X\\\n",
       "agYLjMKcy+XC4cOHUVhYiD/5kz/BypUro/o9XQsRExOD4uJiFtgMu92O2NhYWCwW1VGeSWxsLMrK\\\n",
       "ytDc3Izp6WnVcZRigVHYGh4exsGDB5GSkoK3334bcXFxqiMZnqZp6Onpwd27d1VHUU7XdRQXFxty\\\n",
       "jmSz2TA5OYnbt2+rjqIUC4zC0uTkJA4cOACPx4OamhpuOggQ/3KZf/ksWt29exe9vb1hffqoJ1m6\\\n",
       "dCkSEhKi/hIrLDAKO16vF4cOHUJfXx/27dvHeVcAFRYWIiYmJuqXEY06//Izm81YuXIlbty4AY/H\\\n",
       "ozqOMiwwCitSShw9ehTt7e348Y9/HPW7rAItNjYWRUVFUV9gdrsdZrMZhYWFqqPMW3l5OdxuN9rb\\\n",
       "21VHUYYFRmHlzJkzuHDhAjZt2oTvf//7quNEJE3T0NXVhcnJSdVRlNF1HUVFRYY+V+bixYuRlJQU\\\n",
       "1cuILDAKGzdu3EBdXR1WrlyJqqoq1XEilqZpkFLC6XSqjqLE5OQkuru7Dbt86BcTE4NVq1bh5s2b\\\n",
       "cLvdquMowQKjsNDZ2YnDhw+joKAAe/fuNcyZEYyouLgYJpMpapcRHQ4HpJSGLzDg3m5Ej8eD1tZW\\\n",
       "1VGU4KsEKTcyMoIDBw4gKSmJ2+VDIC4uDgUFBVFbYLquw2QyRcQlSUpKSpCamhq1y4gsMFJqamoK\\\n",
       "Bw4cgNvtRk1NDVJTU1VHigqapsHlckXl0pOu6ygsLIyIH5RMJhNWrVqF9vb2qJxpssBIGf92+d7e\\\n",
       "Xuzbt88wZwSPBFarFT6fDx0dHaqjhJTb7UZnZ2dELB/62Ww2eL1e3LhxQ3WUkGOBkTJ1dXVoa2vD\\\n",
       "j370Iyxbtkx1nKhSXFwMIUTULSM6nU74fL6IKrCioiKkp6dH5TIiC4yUOHPmDM6dO4eNGzfiBz/4\\\n",
       "geo4USchIQH5+fmw2+2qo4SUrusQQkTUhU+FELDZbLh9+zbGx8dVxwkpFhiFXGtrK+rq6lBWVoYd\\\n",
       "O3aojhO1NE1DR0dHVJ0QVtd1WCwWxMfHq44SUDabDT6fDy0tLaqjhBQLjEKqq6sLhw4dQn5+Pt54\\\n",
       "4w1ul1fIarXC6/XC5XKpjhISHo8HHR0dEbV86Jefn4+srKyou8SKYV49hBAZQohDQogbQogWIcRG\\\n",
       "1Zno2dy5cwcHDhxAYmIit8uHAf8yWrTMwVwuF7xeb0QWmH8Z0W63Y3R0VHWckDFMgQH4ZwC1UsoV\\\n",
       "ANYAiK5jZYPzb5efmppCTU0N0tLSVEeKeklJScjLy4uaOZi/qCOxwIB7y4hSSjQ3N6uOEjKGKDAh\\\n",
       "RDqArQB+AwBSSreUclhpKJozn8+Hw4cPo6enB2+++Sby8/NVR6IZVqsVTqcTXq9XdZSg03UdixYt\\\n",
       "QmJiouooQZGXl4e8vLyo2o1oiAIDsBhAH4B/F0JcFkL8WgiRrDoUzU1dXR1u3ryJl19+GaWlparj\\\n",
       "0CyapsHj8aCrq0t1lKDyer1wOp0Re/TlZ7PZ4HQ6MTIyojpKSBilwMwAvgfgX6SU6wCMA/jrh28k\\\n",
       "hPiZEOKCEOJCX19fqDPSI5w7dw5nz57FD3/4Q2zYsEF1HHqI/wU90pcROzs74fF4DHsBy7kqLy8H\\\n",
       "ED1zTaMUWAeADinl2ZnfH8K9QnuAlPJdKeV6KeX63NzckAak77p58yaOHj2K0tJS7Ny5U3UceoSU\\\n",
       "lBRkZ2dH/Aue//8vkt7/9SjZ2dn45S9/iYqKCtVRQsIQBSal7AbgFEKUzXxqO4DomVQaUHd3Nw4d\\\n",
       "OoRFixZxu3yYs1qtcDgc8Pl8qqMEjd1uR05ODlJSUlRHCbpo+H/0M9Krys8BvCeEuAZgLYC/UxuH\\\n",
       "Hse/XT4+Ph41NTUR96bRSKNpGqamptDT06M6SlD4fD44HI6In39FI8NcjlRKeQXAetU56MncbjcO\\\n",
       "HjyIiYkJ/OEf/iG3yxvA7DmYxWJRnCbwuru74Xa7I37+FY2MdARGYc6/Xb67uxtvvvlmRL4YRqL0\\\n",
       "9HRkZmZG7Bws0t//Fc1YYBQw9fX1aG1txc6dO1FWVvb0P0BhQ9M06LoekXMwu92OzMxMrgZEIBYY\\\n",
       "BcT58+dx+vRpbNiwAZWVlarj0DPSNA0TExOItLefcP4V2VhgtGDt7e04cuQIli9fzu3yBuV/gY+0\\\n",
       "ZcS+vj5MTExw/hWhWGC0ID09Pfjggw+Ql5eHN998EzExMaoj0Tz4l9gircD8b9DmEVhkYoHRvI2O\\\n",
       "juLAgQOIi4vjdnmDE0Lcn4NJKVXHCRhd15GWloaMjAzVUSgIWGA0L/7t8nfv3kVNTQ3S09NVR6IF\\\n",
       "0jQNY2NjGBgYUB0lIKSU0HUdVqsVQgjVcSgIWGD0zHw+Hz766CN0dnbijTfeQEFBgepIFACRNgcb\\\n",
       "GBjA+Pg4lw8jGAuMnllDQwNaWlrw0ksvYcWKFarjUIDk5OQgOTk5YgqM86/IxwKjZ3Lx4kWcOnUK\\\n",
       "69evx8aNvCh2JPHPwex2e0TMwXRdR3JyMrKzs1VHoSBhgdGc3bp1C59++imWLl2Kl19+mXOFCKRp\\\n",
       "Gu7cuYPh4WHVURaE86/owAKjOent7cUHH3yA3NxcvPXWW9wuH6H875cy+jLi0NAQ7ty5w+XDCMcC\\\n",
       "o6caGxvDgQMHYDabUVNTg4SEBNWRKEhyc3ORmJho+ALj+Q+jAwuMnsjj8eDgwYMYGxtDTU0N308T\\\n",
       "4UwmE0pKSgx/hWZd15GYmAhe2DayscDoiT755BO4XC68/vrrKCwsVB2HQkDTtPtLcEal6zo0TeOF\\\n",
       "VCMc/3bpsdrb29HY2Ijnn38eq1atUh2HQsToc7CRkREMDQ1x+TAKsMDokbxeL+rq6pCZmYnnnntO\\\n",
       "dRwKofz8fMTFxRl2GZHzr+jBAqNHunTpEvr6+rBjxw6YzYa5cDcFgH8OZtQjMF3XER8fj/z8fNVR\\\n",
       "KMhYYPQdExMT+OKLL6BpGlauXKk6DilgtVrR39+PsbEx1VGema7rKCkp4fwrCvBvmL7jxIkTmJiY\\\n",
       "wK5du/gm0CjlX35zOByKkzybsbEx9Pf3c/kwSrDA6AH9/f04e/Ys1q1bB4vFojoOKWKxWBAbG2u4\\\n",
       "OZh/2ZMXsIwOLDB6QH19PcxmM1588UXVUUghs9mMoqIiw83BdF1HbGwsf/iKEiwwuu/WrVtobW3F\\\n",
       "li1bkJqaqjoOKWa1WtHT04OJiQnVUebMbrejuLiYpzqLEiwwAvD7bfMZGRmorKxUHYfCgNHmYHfv\\\n",
       "3kVvby/nX1GEBUYAgMuXL6O3txc7duxAbGys6jgUBgoLCxETE2OYOZi/aDn/ih4sMMLk5CS++OIL\\\n",
       "lJSU8IwbdF9sbKyh5mC6riMmJoZXCI8iLDDCiRMncPfuXW6bp+/QNA1dXV2YmppSHeWp7HY7ioqK\\\n",
       "uIIQRVhgUW5gYABnzpzB2rVr+ZMrfYemaZBShv0cbHJyEt3d3Zx/RRkWWJSrr69HTEwMtm/frjoK\\\n",
       "haHi4mKYTKawX0Z0Op2QUnL+FWVYYFHs9u3buHHjBrfN02PFxcWhoKAg7AvMbrfDZDKhqKhIdRQK\\\n",
       "IRZYlPL5fKirq0N6ejo2btyoOg6FMU3T4HK54Ha7VUd5LF3XUVBQgLi4ONVRKIQMVWBCiBghxGUh\\\n",
       "xKeqsxjd5cuX0dPTw23z9FSapsHn86Gjo0N1lEdyu93o7Ozk8mEUMlSBAfgFgBbVIYxucnISDQ0N\\\n",
       "KC4uRnl5ueo4FOZKSkoghAjbZcSOjg74fD5u4IhChikwIUQRgFcA/Fp1FqP7+uuvuW2e5iwhIQH5\\\n",
       "+flhW2B2ux1CCBQXF6uOQiFmmAID8E8A/gqAT3EOQxscHMSZM2ewZs0aFBYWqo5DBqFpGjo6OjA9\\\n",
       "Pa06ygOcTieuXbuG/Px8JCQkqI5DIWaIAhNC/BhAr5Ty4lNu9zMhxAUhxIW+vr4QpTOW+vp6mEwm\\\n",
       "bpunZ6JpGqanp+FyuVRHAQCMjo7io48+wm9+8xt4vV7s2LFDdSRSwCjXit8MYLcQ4kcAEgCkCSH+\\\n",
       "W0r5B7NvJKV8F8C7ALB+/XoZ+pjh7dtvv0VLSwteeOEFpKWlqY5DBuKfL+m6rnTWND09jTNnzuDE\\\n",
       "iRPwer147rnnsGXLFsTHxyvLROoYosCklH8D4G8AQAjxPIBfPlxe9GT+bfNpaWnYtGmT6jhkMElJ\\\n",
       "ScjLy1M6B7t58yZqa2sxODiI0tJS7Ny5E9nZ2crykHqGKDBauCtXrqC7uxtvvPEGt83TvGiahitX\\\n",
       "rsDr9Yb0elv9/f2oq6tDW1sbsrOz8c4772D58uUhe3wKX4YrMCnlcQDHFccwlKmpKTQ0NKCoqAg2\\\n",
       "m011HDIoTdNw/vx5dHV1heSMF1NTUzhx4gROnz4Ns9mMl156CRs2bIDZbLiXLQoS/kuIAl9//TXG\\\n",
       "x8fx9ttvc9s8zdvsOVgwC8zn8+HatWs4duwYxsbGsHbtWmzfvp2nO6PvYIFFuKGhIZw+fRoVFRU8\\\n",
       "TxwtSGpqKrKzs2G327F58+agPIbL5cKRI0fgcrlQWFiI6upq/rulx2KBRThum6dA0jQN169fh8/n\\\n",
       "g8kUuHfhjI2NoaGhAZcvX0ZycjJee+01VFRUBPQxKPKwwCKYrutobm7G888/j/T0dNVxKAJYrVZc\\\n",
       "unQJPT09sFgsC76/6elpnDt3Dl999RU8Hg82bdqErVu38k3JNCcssAjl8/lQW1vLbfMUULPnYAst\\\n",
       "sPb2dtTW1qK/vx/Lli3Drl27kJOTE4iYFCVYYBHq6tWr6Orqwuuvv85LTFDApKenIyMjA3a7HZWV\\\n",
       "lfO6j8HBQdTV1aG1tRVZWVmoqalBaWlpgJNSNGCBRaDZ2+ZXr16tOg5FGE3TcPPmTUgpn2lX69TU\\\n",
       "FL7++mucPn0aMTExqKqqQmVlJbfF07zxX04EOnnyJMbGxrB//35um6eAs1qtuHr1Kvr6+pCXl/fU\\\n",
       "20sp0djYiPr6eoyOjqKiogJVVVU8nRktGAsswgwPD+Obb77B6tWreXkJCgr/HMxutz+1wDo7O3H0\\\n",
       "6FE4nU5YLBbs27eP/y4pYFhgEaa+vh5CCFRVVamOQhEqMzMTqamp0HUdGzZseORtxsfH0dDQgEuX\\\n",
       "LiEpKQm7d+/G2rVruS2eAooFFkEcDgeuX7+Obdu2cds8BY0QAlarFd9+++135mBerxfnz5/Hl19+\\\n",
       "CY/Hg8rKSmzbtg2JiYkKE1OkYoFFCP+2+dTU1KCdJYHIT9M0NDY2YnBw8P4Z4W/duoXa2lr09fVh\\\n",
       "6dKl2LVrF3JzcxUnpUjGAosQ165dQ2dnJ/bu3ctt8xR0s+dgJpMJdXV1uHHjBjIzM1FdXY2ysjJu\\\n",
       "IKKgY4FFAP+2+cLCQm6bp5DIyclBcnIyTp48iSNHjsBkMuHFF1/Exo0bebkeChkWWAQ4deoURkdH\\\n",
       "sW/fPg7JKSSEEFi8eDGampqwevVqVFVVce5KIccCMzj/tnmbzcbtyRRSL7/8MrZs2YJFixapjkJR\\\n",
       "igVmcMeOHQMAbpunkEtOTkZycrLqGBTFuN5kYA6HA01NTdi0aRMyMjJUxyEiCikWmEH5fD7U1dUh\\\n",
       "NTUVzz33nOo4REQhxwIzqMbGRrhcLlRVVXHbPBFFJRaYAbndbhw7dgwFBQXcNk9EUYsFZkD+bfO7\\\n",
       "du3itnkiilp89TOYkZERnDp1CjabDSUlJarjEBEpwwIzGG6bJyK6hwVmIE6nE42Njdw2T0QEFphh\\\n",
       "SClRW1uLlJQUnm2eiAgsMMOYvW0+Pj5edRwiIuVYYAbg3zZvsVhQUVGhOg4RUVhggRnAN998gzt3\\\n",
       "7nDbPBHRLHw1DHP+bfPl5eX3LyJIREQGKTAhRLEQ4kshRLMQ4roQ4heqM4VKQ0MDfD4ft80TET3E\\\n",
       "KJdTmQbwl1LKS0KIVAAXhRD1Uspm1cGCqaOjA9euXcOWLVuQmZmpOg4RUVgxxBGYlLJLSnlp5uNR\\\n",
       "AC0ACtWmCq7Z2+Z5tnkiou8yRIHNJoSwAlgH4KziKEF19epVdHR0YPv27dw2T0T0CEZZQgQACCFS\\\n",
       "ABwG8OdSyjuP+PrPAPwMgGHPEzg6Oopjx47h6tWrKCgowJo1a1RHIiIKS4YpMCFELO6V13tSyg8f\\\n",
       "dRsp5bsA3gWA9evXyxDGW7Dp6WmcPXsWX331FbxeL5577jls2bKF2+aJiB7DEAUmhBAAfgOgRUr5\\\n",
       "j6rzBFpbWxtqa2sxMDCA0tJS7Ny5E9nZ2apjERGFNUMUGIDNAH4CoFEIcWXmc/9PSnlEXaSFGxgY\\\n",
       "QG1tLdra2pCdnY133nkHy5cvVx2LiMgQDFFgUsqTAITqHIEyNTWFEydO4PTp0zCbzXjppZewYcMG\\\n",
       "mM2G+OsgIgoLfMUMIZ/Ph8bGRtTX12NsbAxr167F9u3bkZqaqjoaEZHhsMBCxOVy4ejRo+jo6EBh\\\n",
       "YSGqq6tRVFSkOhYRkWGxwIJsbGwMDQ0NuHz5MpKTk7Fnzx6sWbOGuwuJiBaIBRYkXq8X586dw/Hj\\\n",
       "x+HxeLBp0yZs3boVCQkJqqMREUUEFlgQtLe3o7a2Fv39/Vi2bBl27dqFnJwc1bGIiCIKCyyABgcH\\\n",
       "UVdXh9bWVmRlZeHtt99GaWkp7r2NjYiIAokFFgBTU1M4efIkvvnmG5hMJlRVVaGyspLb4omIgoiv\\\n",
       "sAsgpby/LX50dBQVFRWoqqpCWlqa6mhERBGPBTZPXV1dOHr0KBwOBywWC/bt24fi4mLVsYiIogYL\\\n",
       "7BmNj4/jiy++wMWLF5GUlITdu3dj7dq13BZPRBRiLLA58nq9uHDhAr788ku43W5UVlZi27ZtSExM\\\n",
       "VB2NiCgqscDm4Pbt2zh69Cj6+vqwZMkS7Nq1C3l5eapjERFFNRbYEwwNDeHzzz9HS0sLMjIyUF1d\\\n",
       "jbKyMm6LJyIKAyywR3C73Th16hROnToFIQRefPFFbNy4EbGxsaqjERHRDBbYQ1paWnD06FHcuXMH\\\n",
       "NpsNO3bsQHp6uupYRET0EBbYQ0ZGRpCUlIQ33ngDmqapjkNERI/BAnvID37wA2zYsIHb4omIwhwL\\\n",
       "7CExMTGqIxAR0RzwMIOIiAyJBUZERIbEAiMiIkNigRERkSGxwIiIyJBYYEREZEgsMCIiMiQhpVSd\\\n",
       "ISiEEH0AdNU5FigHQL/qEGGEz8fv8bl4EJ+PBy3k+dCklLmBDBMsEVtgkUAIcUFKuV51jnDB5+P3\\\n",
       "+Fw8iM/Hg6Ll+eASIhERGRILjIiIDIkFFt7eVR0gzPD5+D0+Fw/i8/GgqHg+OAMjIiJD4hEYEREZ\\\n",
       "EgssDAkhioUQXwohmoUQ14UQv1CdSTUhRIwQ4rIQ4lPVWVQTQmQIIQ4JIW4IIVqEEBtVZ1JFCPEX\\\n",
       "M98jTUKIg0KIBNWZQkkI8W9CiF4hRNOsz2UJIeqFEG0zv2aqzBhMLLDwNA3gL6WUqwBUAvhTIcQq\\\n",
       "xZlU+wWAFtUhwsQ/A6iVUq4AsAZR+rwIIQoB/BmA9VJKG4AYANVqU4XcfwDY9dDn/hpAg5RyOYCG\\\n",
       "md9HJBZYGJJSdkkpL818PIp7L1CFalOpI4QoAvAKgF+rzqKaECIdwFYAvwEAKaVbSjmsNJRaZgCJ\\\n",
       "QggzgCQAnYrzhJSU8gSAwYc+vQfAb2c+/i2A10KZKZRYYGFOCGEFsA7AWcVRVPonAH8FwKc4RzhY\\\n",
       "DKAPwL/PLKn+WgiRrDqUClJKF4B/AOAA0AVgREr5udpUYWGRlLJr5uNuAItUhgkmFlgYE0KkADgM\\\n",
       "4M+llHdU51FBCPFjAL1Syouqs4QJM4DvAfgXKeU6AOOI4CWiJ5mZ7ezBvVIvAJAshPgDtanCi7y3\\\n",
       "zTxit5qzwMKUECIW98rrPSnlh6rzKLQZwG4hhB3A+wBeFEL8t9pISnUA6JBS+o/ID+FeoUWjKgDf\\\n",
       "Sin7pJQeAB8C2KQ4UzjoEUJYAGDm117FeYKGBRaGhBAC92YcLVLKf1SdRyUp5d9IKYuklFbcG9B/\\\n",
       "IaWM2p+ypZTdAJxCiLKZT20H0KwwkkoOAJVCiKSZ75ntiNINLQ/5BMBPZz7+KYCPFWYJKhZYeNoM\\\n",
       "4Ce4d7RxZea/H6kORWHj5wDeE0JcA7AWwN+pjaPGzFHoIQCXADTi3utZVJyBwk8IcRDAaQBlQogO\\\n",
       "IcQfAfh7ADuEEG24d5T69yozBhPPxEFERIbEIzAiIjIkFhgRERkSC4yIiAyJBUZERIbEAiMiIkNi\\\n",
       "gRERkSGxwIiIyJBYYEREZEgsMCIiMiQWGBERGRILjIiIDIkFRkREhsQCIyIiQ2KBERGRIbHAiIjI\\\n",
       "kFhgRERkSCwwIiIyJBYYEREZEguMiIgMiQVGRESG9P8BBNRl/N5s1lUAAAAASUVORK5CYII=\\\n",
       "\"\n",
       "  frames[8] = \"data:image/png;base64,iVBORw0KGgoAAAANSUhEUgAAAbAAAAEgCAYAAADVKCZpAAAAOXRFWHRTb2Z0d2FyZQBNYXRwbG90\\\n",
       "bGliIHZlcnNpb24zLjMuMSwgaHR0cHM6Ly9tYXRwbG90bGliLm9yZy/d3fzzAAAACXBIWXMAAAsT\\\n",
       "AAALEwEAmpwYAAApE0lEQVR4nO3deXicdb338fdvJvt6p9lpk6ZNUuiSpEBb3I5HRY+KuBzxPM95\\\n",
       "zuP6gCjuK+5HReAA4oKiYAWXSz0ez0GOYosLKqgHFSiUpitZmqbpkplsk32bmd/zR1KWWqBLMr+5\\\n",
       "Zz6v6+Jqmg6ZzzXXnXwy9/29fz9jrUVERMRvAq4DiIiInA4VmIiI+JIKTEREfEkFJiIivqQCExER\\\n",
       "X1KBiYiIL6nARETEl1RgIiLiSyowERHxJRWYiIj4kgpMRER8SQUmIiK+pAITERFfUoGJiIgvqcBE\\\n",
       "RMSXVGAiIuJLKjAREfElFZiIiPiSCkxERHxJBSYiIr6kAhMREV9SgYmIiC+pwERExJdUYCIi4ksq\\\n",
       "MBER8SUVmIiI+JIKTEREfEkFJiIivqQCExERX1KBiYiIL6nARETEl1RgIiLiSyowERHxJRWYiIj4\\\n",
       "UobrAIulrKzM1tXVuY4hIuIrDz/8cL+1ttx1jpORsgVWV1fHtm3bXMcQEfEVY0y36wwnS6cQRUTE\\\n",
       "l1RgIiLiSyowERHxJRWYiIj4kgpMRER8SQUmIiK+pAITEUkR1sY52vszZmdHXEdJCBWYiEiKGB5+\\\n",
       "hD17PszAwL2uoySECkxEJEWEQlsIBLIpK7vQdZSEUIGJiKSAeDxKKHw3paUvJiOjwHWchFCBiYik\\\n",
       "gEjkAWZnB6isvNh1lIRRgYmIpIBQeCvBYD5lpS9yHSVhVGAiIj4Xj88SDv+asrILCQZzXcdJGBWY\\\n",
       "iIjPDQ7dTzQaSavTh6ACExHxvVBoCxkZhZQueYHrKAmlAhMR8bFYbJq+vnsoL385gUC26zgJpQIT\\\n",
       "EfGxwcE/EIuNUVmRXqcPQQUmIuJrvaEtZGYuoaTkua6jJJwKTETEp2KxCfr7f09FxSsIBDJcx0k4\\\n",
       "FZiIiE/19/+eeHySyopXuY7ihApMRMSnQqEtZGVV4HkbXUdxQgUmIuJD0egoA4N/oLLiIowJuo7j\\\n",
       "hApMRMSH+vruIR6fobIyPU8fQhIWmDHmO8aYsDFm15M+t8QYc48xpn3+zxKXGUVEXAuFt5KTs5Si\\\n",
       "onNdR3Em6QoM+B7wiuM+93Hgd9baRuB3838XEUlLs7NDDA7+DxUVF2GMcR3HmaQrMGvtH4HB4z79\\\n",
       "WuD78x9/H3hdIjOJiCSTcPjXWBtNu7UPj5d0BfY0Kq21R+c/7gUqXYYRcWly8hCHDv871lrXUcSR\\\n",
       "UHgrubnLKSxY6zqKU34psMfZue/aE37nGmMuN8ZsM8Zs6+vrS3AykcU3MzPI9kffzGOPfYaJiS7X\\\n",
       "ccSB6Zl+hob+SmXlxWl9+hD8U2AhY0w1wPyf4RM9yFq72Vq7wVq7oby8PKEBRRZbPD5N684rmJo6\\\n",
       "DMztwCvpJxz+JRBPy7UPj+eXArsLeMv8x28Bfu4wi0jCWWvZu/eTDA9vY83qL5KVVUYk8pDrWOJA\\\n",
       "KLSF/PxGCgpWuY7iXNIVmDHmx8BfgLONMYeMMZcC1wEvM8a0Ay+d/7tI2ug68HV6Qz9j5YoPUlX1\\\n",
       "GjxvE0ORB3QdLM1MTR1leHib3n3NS7rVH621/+dp/unChAYRSRK9vT+nq+smqqteT13duwEo8S4g\\\n",
       "HL6bqalD5ObWOE4oiRIO3w2Q1jcvP1nSvQMTkScMRR5iz96P43kXcM451zx+0f7Y2ndDug6WVkKh\\\n",
       "LRQWriUvb4XrKElBBSaSpCYmDrBz5xXk5i6luembBAJZj/9bfn4jmZklug6WRiYnDzIy2qrTh0+i\\\n",
       "AhNJQrOzEXa0XgZAS/NtZGZ6T/l3YwJ4xRuIDD3oIJ24EAptBaAiTbdOOREVmEiSicdnaN35LiYn\\\n",
       "D9PcdCt5eXUnfJxXcgGTUweZmjp6wn+X1BIKb6W46Fxyc5e6jpI0VGAiScRay959nyQSeYA1q6/D\\\n",
       "8zY87WOPXQfTacTUNz7ewdjYXio0vPEUKjCRJHLgwDfo7f1vVqx4P1VVr33GxxYWrCYjo1CDHGlg\\\n",
       "7vShobLiItdRkooKTCRJ9Pbexf6ur1BV+TpW1L33WR9vTJDi4g16B5birLWEwlvxvE1kZ2sZ2CdT\\\n",
       "gYkkgcjww+zd9zG84o2sXn3tSa9xV+JtZGKik+mZ/kVOKK6Mje1jYqIz7VeePxEVmIhjExPdtLa+\\\n",
       "k+zsapqbbyEQyD7p/9fzLgB0HSyVhcJbMSZIRfnLXUdJOiowEYdmZ4fZ0XoZ1sZZ33I7mZmnttl4\\\n",
       "YeFagsE8Leyboqy1hEJbKCl5HllZpa7jJB0VmIgj8fgMO3e+i8nJHpqbbjmt1RUCgUyKi87T/WAp\\\n",
       "amS0lampHt28/DRUYCIOWGvZ99hnGIr8ldXnXEtJyabT/lqet5Gx8ceYnY0sXEBJCuHQVozJpLz8\\\n",
       "H1xHSUoqMBEHurtv5ejRO6irew/V1a8/o6/lleg6WCqyNk4ovJXS0heSmVnkOk5SUoGJJFgotJXO\\\n",
       "/TdSWflqVq74wBl/vaLCZgKBLBVYihkefoTp6V6dPnwGKjCRBBoe3s6evR+huPh8Vp9z/YJsCR8M\\\n",
       "ZlNUdK5uaE4xodAWAoFsyspe4jpK0lKBiSTI5GQPO1ovJzuriuamWwgGT35c/tmUeJsYHd1DNDq6\\\n",
       "YF9T3InHo4TCd1NW+hIyMgpcx0laKjCRBJidHeHRHZdhbZSWltsWfCR6bl3EOJHhhxf064obkcgD\\\n",
       "zM4O6OblZ6ECE1lk8fgsO3e9m8nJAzQ1fZP8/PoFf47i4vMwJkPj9CkiFNpCMJhPaemLXEdJahmu\\\n",
       "A4ikMmstjz32rwwN/ZnVq69nSclzF+V5gsFcigqbiERUYH4Xj88Q7vsN5WUvJRjMcR0nqekdmMgi\\\n",
       "OnhwM0eO/id1y6/grOo3LOpzeSUXMDK6k1hsYlGfRxbX4OD9RKMRbZ1yElRgIoskHP4VHZ03UFHx\\\n",
       "Klau/NCiP5/nbcTaKMPD2xf9uWTxhMJbycgoonTJC1xHSXoqMJFFMDyyg917PkRR0bmsWX0Dxiz+\\\n",
       "t5pXfD4QYEinEX0rFpumr+8eystffkqLOqcrFZjIApucPExr6+VkZVXQ0nxrwq5jZGQUUli4Vjc0\\\n",
       "+9jA4H3EYmNUVuj04clQgYksoGh0lB2tlxKPT7O+5TayssoS+vwl3iZGRrYTi00n9HllYYRCW8nM\\\n",
       "XELJIg37pBoVmMgCmRuXfy8TE100rfsG+fkNCc/geZuIx2cYGW1N+HPLmYnFJujv/z0VFa8gENCA\\\n",
       "+MlQgYksAGstbW2fZ3DwT5x99lUsWfJ8Jzk8bwNgiAxpWSm/6e//PfH4pNY+PAUqMJEFcLDndg4f\\\n",
       "+THLay9n6Vn/21mOzEyPgoKzdT+YD4VCW8jOqpz/JUROhgpM5Az19f2Gjo7rKC9/BfX1H3UdB8/b\\\n",
       "SGT4EeLxWddR5CRFo6MMDP6BiopXYkzQdRzfUIGJnIGRkVZ27f4gRUXNrF1zY0LG5Z+N511APD7J\\\n",
       "6Ogu11HkJPX13UM8PqO1D0+R++82EZ+amjrCjtbLycpcQnPTtwgGc11HAo4t7ItOI/pIKLyFnJyl\\\n",
       "FBWtdx3FV1RgIqchGh1lx47LiMUmaWm5jezscteRHpedVUZeXr1uaPaJ2dkhBgfvp7LiVQuyP1w6\\\n",
       "8U2BGWM+aIzZbYzZZYz5sTFGq1yKE/F4lF2738/4RAdN626moOBs15H+Rom3iUhkG9bGXEeRZxEO\\\n",
       "/xprozp9eBp8UWDGmKXA+4AN1tp1QBD4Z7epJB1Za2lvv5qBgT+watXnKC39O9eRTsjzNhGLjTE6\\\n",
       "ttd1FHkWofBWcnPrKChY4zqK7/iiwOZlALnGmAwgDzjiOI+koZ5D3+PQ4R9QW3Mpy5b+i+s4T+vx\\\n",
       "62DaHyypTU/3MTT0VyorL9bpw9PgiwKz1h4GbgQOAkeBYWvtb9ymknQSjY7S3n4t7e3XUF72Mhoa\\\n",
       "PuY60jPKyakmN6dWgxxJLtz3SyCutQ9Pky8KzBhTArwWWAGcBeQbY954gsddbozZZozZ1tfXl+iY\\\n",
       "koKsjXPkyB38+S8XcrDnO5xV/U+sXftlX9yr45VsYijyENbGXUeRpxEKbSU/fxUFBatcR/ElXxQY\\\n",
       "8FKgy1rbZ62dBe4Ennf8g6y1m621G6y1G8rLk2cqTPxpePhRtm27hL37PkZebi0bN9zJ6tX/RjCY\\\n",
       "5zraSfG8jUSjEcbH211HkROYmjrC8PA2DW+cAb+sGHkQeI4xJg+YBC4EtrmNJKlqejpMZ+cXOdp7\\\n",
       "J1lZFaxZfSNVVa9NipuUT0WJdwEAQ5EHk3JSMt2Fw78E0OnDM+CLArPWPmCMuQN4BIgC24HNblNJ\\\n",
       "qonHZ+jp+R5dB24mHp9hee07qKt7FxkZBa6jnZacnGVkZ1cRiTxIzbI3uY4jxwmFtlBYuI68vDrX\\\n",
       "UXzLFwUGYK39LPBZ1zkkNfX330t7xzVMTHRRVvoSGhs/SV7eCtexzogxhhLvAgaH7sdaqym3JDIx\\\n",
       "0c3IaCsN9ck9DJTsfFNgIothYqKLtvZrGBi4l7y8FbS03E5Z6Ytcx1ownreJ3tDPmZjoIj9/pes4\\\n",
       "Mi8cvhuACp0+PCMqMElL0egYBw58g4M93yUQyKah4ePULHsLgUCW62gLyvM2AXPrIqrAkkcovIXi\\\n",
       "4vPIzV3qOoqvqcAkrVgbp7f3Z3R03sDMTB/VVZdQX//RpFrLcCHl5a0gK6uMSORBli7V4jXJYHy8\\\n",
       "g7Gxfaxq/IzrKL6nApO0MTLSymNtVzEysp2iwmaam26luHi961iLyhiD521iKPKAroMliVBoK2Co\\\n",
       "qLjIdRTfU4FJypue6aez80aOHr2DrKxSVq++nuqq1/tuLP50ed4mwuG7mZo6RG5ujes4ac1aSyi8\\\n",
       "Fc/bRHZ2hes4vqcCk5QVj89y6NAP2N91E/H4FLW1l7Ki7j1kZBS6jpZQJU+6DqYCc2tsbB8TE53U\\\n",
       "1LzVdZSUoAKTlDQw8Cfa2r/AxEQnpUteSGPjp8nPr3cdy4n8/EYyMjyGIg9SXX2J6zhpLRTegjFB\\\n",
       "Kspf4TpKSlCBSUqZmOimveNa+vt/S25uLS3N36a09MVpfe3HmAAl3kYt7OuYtZZQaCslJc8jK2uJ\\\n",
       "6zgpQQUmKSEaHae7+xa6D95OIJBB/cqPUlv7NgKBbNfRkoLnbaKv/x6mpnvJya5yHSctjYy2MjXV\\\n",
       "w4oV73EdJWWowMTX5n6r/QUdHdcxPROiqvJ1NDRcSXZ2petoScUrmb8ONvQgVVWvcZwmPYVDWzEm\\\n",
       "i/Kyf3AdJWWowMS3Rkd381jb5xkefpjCwnWsa/o6XvH5rmMlpcKC1QSDBUQiKjAXrI0TCm+ltPSF\\\n",
       "ZGYWuY6TMlRg4jszMwN07v8yR478hMzMEs4551rOqn6DL/bocsWYIJ63gSFdB3MiMvww09O9Wvtw\\\n",
       "ganAxDfi8VkOH/4R+7tuIhYbp6bmrayoe59+oz1JnreJgYH7mJnpJyurzHWctBIObSUQyKGs7ELX\\\n",
       "UVKKCkx8YXDwz7S1X8X4eDtLSp5P46rPUJDf6DqWrxy7H2wo8hCVFa90nCZ9xONRQuG7KSt7CRkZ\\\n",
       "+a7jpJT0WIpAfC3c92u2P/pmYrEpmptuYf3676u8TkNh4ToCgVyN0ydYJPIAs7MD2rhyEegdmCS1\\\n",
       "kZFWdu/+EEVFLZx37g8JBnNdR/KtQCATr/g8FViChUJbCAbzKU2hbXqShd6BSdKamjrCjtbLycoq\\\n",
       "o7n5WyqvBeB5mxgbe4zZ2YjrKGkhHp8h3PcbysteRjCY4zpOylGBSVKKRkd5dMelxGKTtLTcRraG\\\n",
       "DhbE3P5glkhkm+soaWFw8H6i0QiVlTp9uBhUYJJ04vEou3a9j4mJTpqavqHrXQuoqKiFQCBLpxET\\\n",
       "JBTeQkZGEUuWvMB1lJSkApOkYq2lrf0qBgb/yNmrrqJU3/gLKhjMpqhove4HS4BYbJq+vt9SXv7y\\\n",
       "lNvpO1mowCSp9PR8l8OHf0Rt7du1g/Ai8bxNjI7uJhoddR0lpQ0M3kcsNkZl5cWuo6QsFZgkjb6+\\\n",
       "e2jvuJby8pfTUH+l6zgpa+5+sDjDw4+4jpLSQqGtZGYuocR7jusoKUsFJklhZGQnu3Z/kKLCJtau\\\n",
       "+VLa7JbsQnHxuRiTodOIiygWm6C///dUVLySQEB3Ky0W/ZQQ5x4fl88sobl5s8blF1kwmEdRYZMG\\\n",
       "ORZRX//viMcnqazQ6cPFpAITp6LRMXa0vp1YbGJuXD673HWktOB5mxgZ2UksNuk6SkoKh7aSnVWJ\\\n",
       "521wHSWlqcDEmXg8yq7d72d8vJ2mdV+noOBs15HShleyCWtndR1sEUSjo/QP/IGKyot0KnyR6dUV\\\n",
       "Z9o7rmZg4D5WrfocpaUvdB0nrcztmxYgEnnIdZSU09d3D9bOaO3DBFCBiRM9Pd/j0KEfUFtzKcuW\\\n",
       "/ovrOGknI6OQwsI1GuRYBKHwFnJyllJUtN51lJSnApOE6+//PW3t11BW9lIaGrTBnytz18G2E49P\\\n",
       "u46SMmZnhxgcvJ/KiosxxriOk/JUYJJQo6O72bX7/RQWrmHd2q9oF2WHSrxNxOMzDI+0uo6SMsLh\\\n",
       "X2NtVGsfJohvCswY4xlj7jDG7DPG7DXGPNd1Jjk1U9O97NjxdjIyimhp3kwwmOc6Ulo7NiGncfqF\\\n",
       "EwpvIS9vBQUFa1xHSQu+KTDgJuBX1tpzgBZgr+M8cgqi0XFad1xONDZGS8vtZGdXuo6U9jIzSyjI\\\n",
       "P5vIkApsIUxP9zE09AAVFa/S6cME8UWBGWOKgRcCtwNYa2estRGnoeSkWRtj954PMjq2l3Vrb6Kw\\\n",
       "4BzXkWSeV7KJ4ZFHiMdnXUfxvXDfL4G41j5MIF8UGLAC6AO+a4zZboy5zRiT7zqUnJz29mvp7/8d\\\n",
       "q1b9K2VlL3YdR57E8zYRi00wOrrbdRTfC4W2UJB/trb/SSC/FFgGcB5wi7X2XGAc+PjxDzLGXG6M\\\n",
       "2WaM2dbX15fojHICPYd+QM+h71Gz7K3ULHuT6zhynLkNLiESecBxEn87dOiHDA8/THX1Ja6jpBW/\\\n",
       "FNgh4JC19th32R3MFdpTWGs3W2s3WGs3lJdrSSLX+vvvpa3tKsrKLqSx8ZOu48gJZGeVkZe3kiHd\\\n",
       "0Hza+gfu47G2z1NW9lJqat7qOk5a8UWBWWt7gR5jzLG1hi4E9jiMJM9idHTv3Lh8wWrWrtG4fDLz\\\n",
       "vE1EIg9hbcx1FN8ZHdvHrl3vmz/Ov6zjPMF8UWDz3gv8yBjTCqwHrnUbR57O9HSIHa2XkZFRSHPL\\\n",
       "ZjIydLkymZV4m4jFxhgb2+c6iq9MT4fZsUPHuUu+2ajGWvsooKWdk1wsNsGO1rcTjY5w/nk/ISe7\\\n",
       "ynUkeRbHroMNRR6ksHCt4zT+8MRxPqzj3CE/vQOTJGdtjF27P8jo6Py4fKFu5vSDnJxqcnNqiQxp\\\n",
       "kONkWBtj9+4PMTq6h3Vrv6bj3CEVmCyYjo7r6e//LasaP0VZ2Utcx5FT4HkbiQxvw9q46yhJr6Pj\\\n",
       "evr672FV46d1W4hjKjBZEIcO/zsHe25n2bI3aRLLh7ySTczODjE+3u46SlJ74jh/MzU1b3EdJ+2p\\\n",
       "wOSMDQz8kba2z1Fa+iIaGz7tOo6chpLH7wfTOP3TeeI4fzGrGnWcJwMVmJyRsbHH2LnrveTnN7Ju\\\n",
       "7U0EAr6ZC5InycmpITu7iiHd0HxCTxznq1i39qsal08SKjA5bdPTfezYcRnBYB4tzd8mI6PAdSQ5\\\n",
       "TcaYJ90PZl3HSSrHjvOMYL6O8ySjApPTEotN0tp6OTOzQ7Q0byYn5yzXkeQMlXibmJnpY3LygOso\\\n",
       "SePJx3lzy2ZycqpdR5InUYHJKbM2zu49H2FkdCfr1n6FoqIm15FkATz5fjA5wXFeuM51JDmOCkxO\\\n",
       "WWfnF+nr+xWNDZ+gvPxlruPIAsnLW0lWVpn2B5v3xHH+SR3nSUoFJqfk8OH/oPvgZpYu/Rdqav6f\\\n",
       "6ziygI5dBxuKPJD218GeOM7/LzU1b3MdR56GCkxO2uDg/TzW9q8sWfJ3rGr8rHadTUGet5Hp6aNM\\\n",
       "TR12HcWZY8d56ZIXsqrxX3WcJzEVmJyUsfF2du56N3l59TSt+7rG5VNUiXcBkL77gx07zvPzGli3\\\n",
       "7ms6zpOcCkye1fRMPzt2XEYgkE1L821kZBS6jiSLJD+/kYwMLy33B3viOM+hpUXHuR/o1wt5RrHY\\\n",
       "FK2t72Bmpp/zz/sxublLXUeSRWRMAM/bkHbvwI4/znVbiD/oHZg8o737PsHIyA7WrvkyRUXNruNI\\\n",
       "ApR4m5icPMjUdK/rKAlhbZw9ez86d5yv1XHuJyoweVoDA38iFLqLFSveR0XFy13HkQQ5dj9YuozT\\\n",
       "d+7/MuHw3TQ0fIyKch3nfqICkxOKx6O0d1xDbk4tdcvf4TqOJFBh4RqCwQIiaXBD85Ejd9DdfQtn\\\n",
       "nfXP1NZc5jqOnCIVmJzQkSM/YXy8nYaGjxMIZLuOIwlkTBDPOz/lBzkGB//Mvsc+xZKSF3D2qs9p\\\n",
       "XN6HVGDyN2ZnR9jf9RU87wLKy//BdRxxwPMuYGKig5mZftdRFsX4eOf8bSEraGq6mUAg03UkOQ0q\\\n",
       "MPkbBw7czOxshFWNn9JvpWmqxNsIQCSyzXGShTczM8CjOy7FmEzdFuJzKjB5iomJLnoOfZ+zqv+J\\\n",
       "wsK1ruOII4WF6wgEclNuf7BYbJrWne9kZiZMS/NmcnOXuY4kZ0D3gclTtHdcRyCQzcqVH3IdRRwK\\\n",
       "BLIoLj43pXZotjbO3r1XMjz8COvW3Uxx8XrXkeQM6R2YPG5w8H76+39L3fJ3kZ1d7jqOOFbibWJs\\\n",
       "bB+zs8OuoyyI/V1fJRTeQn39lVRWvNJ1HFkAKjAB5sbm29qvJidnmVbfFuDY/WCWyLD/r4MdPfpT\\\n",
       "Dhz4BmdV/y+W117uOo4sEBWYAHDk6H8yPt5GQ8PHCQY1Ni9QVLSeQCCLyJC/r4MNDf2Vvfs+RUnJ\\\n",
       "8zj77Ks0mJRCVGBCNDrK/v1fwSveSEX5K1zHkSQRDGZTVLTe1zs0j4/vp3Xnu8jNXU7Tum9oXD7F\\\n",
       "qMCErgM3Mzs7RKPG5uU4nreR0dHdRKNjrqOcspmZQXa0XooxQda33EZmZpHrSLLAVGBpbmLiAD09\\\n",
       "36e6+hKKippcx5EkM7c/WJzh4YddRzkl8fg0rTuvYHq6l5bmb5GbW+M6kiwCFVia6+i4jkAgk/qV\\\n",
       "H3YdRZJQcfG5GJPhq2WlrLXs2ftxhoe3sWb1jRQXn+c6kiwSFVgaGxz8M33991C3/Aqysytcx5Ek\\\n",
       "FAzmUVjY5Kv9wbq6vkYodBf1Kz9MZeWrXMeRRaQCS1PWxmjvuIacnKXU1Pw/13EkiZV4GxkZ2Uks\\\n",
       "Nuk6yrM62vszug58jeqqS1i+/ArXcWSR+arAjDFBY8x2Y8wW11n87siR/2JsbB8N9R8jGMxxHUeS\\\n",
       "mOdtwtpZhoe3u47yjIYiD7F37yco8Z7DOedcrYGkNOCrAgPeD+x1HcLvotFROvd/ieLi86mouMh1\\\n",
       "HElynrcBCCT1/mATE120tr6T3NxlNDV9k0Agy3UkSQDfFJgxZhnwKuA211n87sCBbzI7O8iqxk/r\\\n",
       "t1R5VhkZhRQWrk7a+8FmZ4d4dMdlGBOgpfk2MjOLXUeSBPFNgQFfBa4E4o5z+NrERDcHe75HddXr\\\n",
       "KSpqdh1HfMLzLmBk5FHi8WnXUZ5ieHg7j2x/E1NTR2huuoW8vOWuI0kC+aLAjDEXA2Fr7TPejGKM\\\n",
       "udwYs80Ys62vry9B6fylo/N6jAlSX/8R11HER0q8jcTj04yM7HQdBYDp6TC793yEbQ+/gdmZQZqb\\\n",
       "vjl/qlPSiV+2U3k+8BpjzEVADlBkjPmhtfaNT36QtXYzsBlgw4YNNvExk9vQ0F/p6/s1K1d8kOzs\\\n",
       "StdxxEe8+Q0uhyIPOC2KeHyanp7v0XXgG8TjsyxffgV1y68gIyPfWSZxxxcFZq39BPAJAGPMi4CP\\\n",
       "HF9e8sysjdHWfg3Z2dXU1l7mOo74TGZmCfn5q5zuD9bffy9t7VczOXmAsrILaWz4JHl5dc7yiHu+\\\n",
       "KDA5c0eP/pSxsT2sXftVjc3LaSnxLuBo70+Jx2cTuijuxEQXbe1XMzBwH3l5K1nf8h1KS/8+Yc8v\\\n",
       "yct3BWatvQ+4z3EMX4lGx+bG5ovOpbLiYtdxxKc8byOHDv+A0dHdCdnNOBod48CBb3Cw57sEAtk0\\\n",
       "NHyCmmVv1oi8PM53BSan7kD3rczM9NPcvFlj83La5ja4hEjkwUUtMGvj9Pb+jI7OG5iZ6aO6+g3U\\\n",
       "r/yIdgmXv6ECS3GTkz309NxOVdXrKC5qcR1HfCw7u5y8vJUMRR5k+fLF2dV4ZKSVx9o+z8jIoxQV\\\n",
       "rae5+Vs6buVpqcBSXEfnDUCQ+pUam5cz53kbCYfvxtoYxgQX7OtOz/TT2XkjR4/+F1lZZaxZfQNV\\\n",
       "Vf+IMb6400ccUYGlsKHIQ4TDd7NixQfIyal2HUdSQIl3AUeO/ISxsX0UFq49468Xj89w6NAP2N/1\\\n",
       "NeLxaWpr386KuneTkVG4AGkl1anAUpS1cdrbv0B2dhXLNTYvC+SJ+8EePOMCGxj4I23tVzMx0Ulp\\\n",
       "6d+zqvEz5OWtWIiYkiZUYCnqaO+djI7uZu2arxAM5rqOIykiJ+cscnJqiEQepLbmbaf1NSYmumnv\\\n",
       "uJb+/t+Sm7uclubbKCt78QInlXSgAktB0eg4nZ03UlR0LpWVr3YdR1JMibeR/oF7sdae0lRrNDrO\\\n",
       "ge5bOHjwdgKBTBrqr6Sm5q0EAtmLmFZSmQosBXV338rMTB/NTbdobF4WnOddwNHeOxkfb6egYNWz\\\n",
       "Pt5aSyh0Fx0d1zM9E6Kq6nU01F+p5czkjKnAUszk5GEO9txGVeVrKS4+13UcSUHHroNFIg8+a4GN\\\n",
       "jO6ire0qhocfprBwHU1NN1NcfF4iYkoaUIGlmI7O64GAVpuXRZObW0t2dhVDkQdZtuzES5LOzAzQ\\\n",
       "uf9LHDnyn2RmlrD6nOuorr5EY/GyoFRgKSQS2UY4vJUVde8jJ+cs13EkRRlj8LxNDA395W+ug8Xj\\\n",
       "sxw6/EO6um4iFpukpuZtrKh7L5mZRQ4TS6pSgaUIa+O0tV89Nza//O2u40iK87yNhEJ3MTl54PHR\\\n",
       "98HB+2lr/wLj4+0sWfJ3rGr8NPn5DY6TSipTgaWI3t6fMTq6kzVrvkQwmOc6jqS4Eu8CYO5+MGMy\\\n",
       "aO+4lr6+35CbU0tz062Ulb1UA0Sy6FRgKeCJsfkWqipf4zqOpIG8vJVkZpbS3X0rbW2fY265sg9T\\\n",
       "U3MpwaDG4iUxVGApoPvgZqZnQjQ13ayL5JIQxhiWlDyXUHgLlZWvoaH+Si1XJgmnAvO5qakjHDz4\\\n",
       "bSorX63xZEmoVas+S13duygoONt1FElTKjCfm1ttHhrqr3ScRNJNVtYSsrKWuI4haUznm3wsMvww\\\n",
       "odAvqK19u8bmRSTtqMB8am61+WvIzqqkbvk7XMcREUk4FZhP9YbuYmRkB/X1H9XYvIikJRWYD8Vi\\\n",
       "E3R2fpGiwmaqql7rOo6IiBMa4vCh7u5vMz3dy7p1X9PYvIikLf3085mpqSN0H9xMZcXFeMXnu44j\\\n",
       "IuKMCsxnOjtvBCz1GpsXkTSnAvOR4eHt9IZ+Tm3tZeTmLnUdR0TEKRWYT1hraWu/mqysCpbXamxe\\\n",
       "REQF5hOh0C8YGXmUhvqPkJGR7zqOiIhzKjAfiMUm6ei8nsLCdVRV/aPrOCIiSUFj9D7QffC2ubH5\\\n",
       "tTdpbF5EZJ5+Gia5qamjdHd/i4qKi/C8Da7jiIgkDV8UmDGmxhhzrzFmjzFmtzHm/a4zJUrn/huB\\\n",
       "GA31H3MdRUQkqfjlFGIU+LC19hFjTCHwsDHmHmvtHtfBFtPwyA56e39G3fIryM1d5jqOiEhS8cU7\\\n",
       "MGvtUWvtI/MfjwJ7gZS+EcpaS3vbF8jKKmf58ne6jiMiknR8UWBPZoypA84FHnAcZVH19v43wyPb\\\n",
       "qV/5ETIyClzHERFJOn45hQiAMaYA+CnwAWvtyAn+/XLgcoDa2toEp1sY09N9dHbewNHeOykqbKa6\\\n",
       "+vWuI4mIJCXfFJgxJpO58vqRtfbOEz3GWrsZ2AywYcMGm8B4Zywen6Hn0Pfp6rqZeHyG5cvfSd3y\\\n",
       "KzQ2LyLyNHxRYMYYA9wO7LXWftl1noXWP3Af7e1XMzHRRVnpS2hs/CR5eStcxxIRSWq+KDDg+cCb\\\n",
       "gJ3GmEfnP/dJa+3d7iKduYmJLtrar2Fg4F7y8lbQ0nI7ZaUvch1LRMQXfFFg1tr/AYzrHAslGh3j\\\n",
       "wIFvcrDnOwQC2TQ0fIKaZW8mEMhyHU1ExDd8UWCpwto4vb0/p6PzBmZmwlRXXUJ9/UfJzi53HU1E\\\n",
       "xHdUYAkyMtJKW9tVDI9sp6ioheamWyguXu86loiIb6nAFtnMTD+dnV/iyNH/IiurlNWrr6e66vWa\\\n",
       "LhQROUMqsEUSj89y6NAP2N91E/H4NLW1l7Ki7j1kZBS6jiYikhJUYItgYOBPtLVfzcREB6VLXkhj\\\n",
       "42fIz1/pOpaISEpRgS2gycmDtLVfQ3//b8nNXU5L87cpLX0xc7exiYjIQlKBLYBodJzu7ls42HM7\\\n",
       "xmRQX38ltTVvJRDIdh1NRCRlqcDOgLWWUOgXdHRez/R0L1VVr6Oh/kqysytdRxMRSXkqsNM0Orqb\\\n",
       "x9quYnh4G4WF62ha93WKi89zHUtEJG2owE7RzMwAnfu/zJEjPyEzs4TV5/wb1dVv0Fi8iEiCqcBO\\\n",
       "Ujwe5fDhH7G/66vEYhPU1LyNFXXvJTOzyHU0EZG0pAI7CYOD99PW/gXGx9tZUvICGld9moL8Rtex\\\n",
       "RETSmgrsGUxOHqK941r6+n5NTk4NzU23Ulb2Uo3Fi4gkARXYCcRik3R3f4vug5uBAPUrP0xNzaUE\\\n",
       "gxqLFxFJFiqw4/T1/YbH2q5ievoolZWvpqH+Y+TkVLuOJSIix1GBHWdq6giZmSWsXfsVSryNruOI\\\n",
       "iMjTUIEdZ+nSN7Js2ZswJug6ioiIPAMV2HECAb0kIiJ+oLtvRUTEl1RgIiLiSyowERHxJRWYiIj4\\\n",
       "kgpMRER8SQUmIiK+pAITERFfMtZa1xkWhTGmD+h2neMMlQH9rkMkEb0eT9Br8VR6PZ7qTF6P5dba\\\n",
       "8oUMs1hStsBSgTFmm7V2g+scyUKvxxP0WjyVXo+nSpfXQ6cQRUTEl1RgIiLiSyqw5LbZdYAko9fj\\\n",
       "CXotnkqvx1Olxeuha2AiIuJLegcmIiK+pAJLQsaYGmPMvcaYPcaY3caY97vO5JoxJmiM2W6M2eI6\\\n",
       "i2vGGM8Yc4cxZp8xZq8x5rmuM7lijPng/PfILmPMj40xOa4zJZIx5jvGmLAxZteTPrfEGHOPMaZ9\\\n",
       "/s8SlxkXkwosOUWBD1tr1wDPAd5tjFnjOJNr7wf2ug6RJG4CfmWtPQdoIU1fF2PMUuB9wAZr7Tog\\\n",
       "CPyz21QJ9z3gFcd97uPA76y1jcDv5v+eklRgSchae9Ra+8j8x6PM/YBa6jaVO8aYZcCrgNtcZ3HN\\\n",
       "GFMMvBC4HcBaO2OtjTgN5VYGkGuMyQDygCOO8ySUtfaPwOBxn34t8P35j78PvC6RmRJJBZbkjDF1\\\n",
       "wLnAA46juPRV4Eog7jhHMlgB9AHfnT+lepsxJt91KBestYeBG4GDwFFg2Fr7G7epkkKltfbo/Me9\\\n",
       "QKXLMItJBZbEjDEFwE+BD1hrR1znccEYczEQttY+7DpLksgAzgNusdaeC4yTwqeInsn8tZ3XMlfq\\\n",
       "ZwH5xpg3uk2VXOzcmHnKjpqrwJKUMSaTufL6kbX2Ttd5HHo+8BpjzAHgP4CXGGN+6DaSU4eAQ9ba\\\n",
       "Y+/I72Cu0NLRS4Eua22ftXYWuBN4nuNMySBkjKkGmP8z7DjPolGBJSFjjGHuGsdea+2XXedxyVr7\\\n",
       "CWvtMmttHXMX6H9vrU3b37Kttb1AjzHm7PlPXQjscRjJpYPAc4wxefPfMxeSpgMtx7kLeMv8x28B\\\n",
       "fu4wy6JSgSWn5wNvYu7dxqPz/13kOpQkjfcCPzLGtALrgWvdxnFj/l3oHcAjwE7mfp6lxQoUxxhj\\\n",
       "fgz8BTjbGHPIGHMpcB3wMmNMO3PvUq9zmXExaSUOERHxJb0DExERX1KBiYiIL6nARETEl1RgIiLi\\\n",
       "SyowERHxJRWYiIj4kgpMRER8SQUmIiK+pAITERFfUoGJiIgvqcBERMSXVGAiIuJLKjAREfElFZiI\\\n",
       "iPiSCkxERHxJBSYiIr6kAhMREV9SgYmIiC+pwERExJdUYCIi4kv/HzV5GoiQiHpUAAAAAElFTkSu\\\n",
       "QmCC\\\n",
       "\"\n",
       "\n",
       "\n",
       "    /* set a timeout to make sure all the above elements are created before\n",
       "       the object is initialized. */\n",
       "    setTimeout(function() {\n",
       "        anim601fa0c27dad4228b1b7f5cc810889b7 = new Animation(frames, img_id, slider_id, 500.0,\n",
       "                                 loop_select_id);\n",
       "    }, 0);\n",
       "  })()\n",
       "</script>\n"
      ],
      "text/plain": [
       "<IPython.core.display.HTML object>"
      ]
     },
     "execution_count": 81,
     "metadata": {},
     "output_type": "execute_result"
    },
    {
     "data": {
      "image/png": "[encoded data removed]",
      "text/plain": [
       "<Figure size 432x288 with 1 Axes>"
      ]
     },
     "metadata": {
      "needs_background": "light"
     },
     "output_type": "display_data"
    }
   ],
   "source": [
    "\n",
    "nums = [ 1, 2, 5, 11, 7, 8, 10, 3, 4, 6]\n",
    "\n",
    "ims = []\n",
    "\n",
    "fig = plt.figure()\n",
    "for i in range(1, len(nums)):\n",
    "    a = bubble_sort2(nums, i)\n",
    "    x = np.arange(1, len(a)+1)\n",
    "    im = plt.plot(x, np.array(a))\n",
    "    ims.append(im)\n",
    "    \n",
    "ani = animation.ArtistAnimation(fig, ims, interval=500)\n",
    "HTML(ani.to_jshtml())"
   ]
  },
  {
   "cell_type": "code",
   "execution_count": 82,
   "metadata": {},
   "outputs": [
    {
     "data": {
      "text/plain": [
       "[1, 2, 5, 7, 8, 10, 3, 4, 6, 11]"
      ]
     },
     "execution_count": 82,
     "metadata": {},
     "output_type": "execute_result"
    }
   ],
   "source": [
    "nums"
   ]
  },
  {
   "cell_type": "code",
   "execution_count": 83,
   "metadata": {},
   "outputs": [
    {
     "name": "stdout",
     "output_type": "stream",
     "text": [
      "['arugula', 'bacon', 'carrots', 'pretzels']\n"
     ]
    }
   ],
   "source": [
    "def bubble_sort3(a: List[Union[str, float]]):\n",
    "    for _ in range(1, len(a)):\n",
    "        for i in range(1, len(a)):\n",
    "            if a[i] < a[i-1]:\n",
    "                # swap\n",
    "                a[i-1], a[i] = a[i], a[i-1]\n",
    "                \n",
    "names = [\"pretzels\", \"carrots\", \"arugula\", \"bacon\"]\n",
    "bubble_sort3(names)\n",
    "print(names)"
   ]
  },
  {
   "cell_type": "code",
   "execution_count": 84,
   "metadata": {},
   "outputs": [
    {
     "name": "stdout",
     "output_type": "stream",
     "text": [
      "#1: bacon has 350 calories\n",
      "#2: donut has 240 calories\n",
      "#3: muffin has 190 calories\n"
     ]
    }
   ],
   "source": [
    "snacks = [\n",
    "    (\"bacon\", 350),\n",
    "    (\"donut\", 240),\n",
    "    (\"muffin\", 190),\n",
    "]\n",
    "\n",
    "for i in range(len(snacks)):\n",
    "    item = snacks[i]\n",
    "    name = item[0]\n",
    "    calories = item[1]\n",
    "    print(f\"#{i+1}: {name} has {calories} calories\")"
   ]
  },
  {
   "cell_type": "code",
   "execution_count": 85,
   "metadata": {},
   "outputs": [
    {
     "name": "stdout",
     "output_type": "stream",
     "text": [
      "#1: bacon has 350 calories\n",
      "#2: donut has 240 calories\n",
      "#3: muffin has 190 calories\n"
     ]
    }
   ],
   "source": [
    "for rank, (name, calories) in enumerate(snacks, 1):\n",
    "    print(f\"#{rank}: {name} has {calories} calories\")"
   ]
  },
  {
   "cell_type": "markdown",
   "metadata": {},
   "source": [
    "## rangeではなくenumerateを使う"
   ]
  },
  {
   "cell_type": "code",
   "execution_count": 86,
   "metadata": {},
   "outputs": [
    {
     "name": "stdout",
     "output_type": "stream",
     "text": [
      "0b110010001111110101111001110110111011010011111111110111110111011\n",
      "7241432980617424827\n"
     ]
    }
   ],
   "source": [
    "from random import randint\n",
    "\n",
    "random_bits = 0\n",
    "for i in range(64):\n",
    "    if randint(0, 1):\n",
    "        random_bits |= 1 << i\n",
    "        \n",
    "print(bin(random_bits))\n",
    "print(random_bits)"
   ]
  },
  {
   "cell_type": "code",
   "execution_count": 87,
   "metadata": {},
   "outputs": [
    {
     "name": "stdout",
     "output_type": "stream",
     "text": [
      "3\n"
     ]
    }
   ],
   "source": [
    "a = 1\n",
    "\n",
    "a |= 2\n",
    "\n",
    "print(a)"
   ]
  },
  {
   "cell_type": "code",
   "execution_count": 88,
   "metadata": {},
   "outputs": [
    {
     "name": "stdout",
     "output_type": "stream",
     "text": [
      "0b11\n",
      "0b1\n",
      "0b11\n",
      "3\n",
      "0b10\n",
      "0b101\n",
      "0b111\n",
      "7\n"
     ]
    }
   ],
   "source": [
    "# |= inplcace OR operator\n",
    "# here, toward bit set \n",
    "a = 3\n",
    "print(bin(a))\n",
    "a |= 1\n",
    "print(bin(1))\n",
    "print(bin(a))\n",
    "print(a)\n",
    "\n",
    "a = 2\n",
    "print(bin(a))\n",
    "a |= 5\n",
    "print(bin(5))\n",
    "print(bin(a))\n",
    "print(a)"
   ]
  },
  {
   "cell_type": "code",
   "execution_count": 89,
   "metadata": {},
   "outputs": [],
   "source": [
    "flavor_list = [\"valila\", \"chocolate\", \"pecan\", \"strawberry\"]"
   ]
  },
  {
   "cell_type": "code",
   "execution_count": 90,
   "metadata": {},
   "outputs": [
    {
     "name": "stdout",
     "output_type": "stream",
     "text": [
      "(0, 'valila')\n",
      "(1, 'chocolate')\n"
     ]
    }
   ],
   "source": [
    "it = enumerate(flavor_list)\n",
    "print(next(it))\n",
    "print(next(it))"
   ]
  },
  {
   "cell_type": "code",
   "execution_count": 91,
   "metadata": {},
   "outputs": [
    {
     "name": "stdout",
     "output_type": "stream",
     "text": [
      "1: valila\n",
      "2: chocolate\n",
      "3: pecan\n",
      "4: strawberry\n"
     ]
    }
   ],
   "source": [
    "for i, flavor in enumerate(flavor_list):\n",
    "    print(f\"{i+1}: {flavor}\")"
   ]
  },
  {
   "cell_type": "code",
   "execution_count": 92,
   "metadata": {},
   "outputs": [
    {
     "name": "stdout",
     "output_type": "stream",
     "text": [
      "1: valila\n",
      "2: chocolate\n",
      "3: pecan\n",
      "4: strawberry\n"
     ]
    }
   ],
   "source": [
    "# specify the start num\n",
    "for i, flavor in enumerate(flavor_list, 1):\n",
    "    print(f\"{i}: {flavor}\")"
   ]
  },
  {
   "cell_type": "markdown",
   "metadata": {},
   "source": [
    "## イテレータを並列に処理するにはzipを使う"
   ]
  },
  {
   "cell_type": "code",
   "execution_count": 93,
   "metadata": {},
   "outputs": [
    {
     "name": "stdout",
     "output_type": "stream",
     "text": [
      "[7, 4, 5]\n"
     ]
    }
   ],
   "source": [
    "names = [\"Cacilia\", \"Lise\", \"Marie\"]\n",
    "counts = [len(n) for n in names]\n",
    "\n",
    "print(counts)"
   ]
  },
  {
   "cell_type": "code",
   "execution_count": 94,
   "metadata": {},
   "outputs": [
    {
     "name": "stdout",
     "output_type": "stream",
     "text": [
      "Cacilia\n"
     ]
    }
   ],
   "source": [
    "longest_name = None\n",
    "max_count = 0\n",
    "\n",
    "for i in range(len(names)):\n",
    "    count = counts[i]\n",
    "    if count > max_count:\n",
    "        longest_name = names[i]\n",
    "        max_count = count\n",
    "        \n",
    "print(longest_name)"
   ]
  },
  {
   "cell_type": "code",
   "execution_count": 95,
   "metadata": {},
   "outputs": [
    {
     "name": "stdout",
     "output_type": "stream",
     "text": [
      "Cacilia\n"
     ]
    }
   ],
   "source": [
    "longest_name = None\n",
    "max_count = 0\n",
    "\n",
    "for i, name in enumerate(names):\n",
    "    count = counts[i]\n",
    "    if count > max_count:\n",
    "        longest_name = name\n",
    "        max_count = count\n",
    "\n",
    "print(longest_name)"
   ]
  },
  {
   "cell_type": "code",
   "execution_count": 96,
   "metadata": {},
   "outputs": [
    {
     "name": "stdout",
     "output_type": "stream",
     "text": [
      "Cacilia\n"
     ]
    }
   ],
   "source": [
    "longest_name = None\n",
    "max_count = 0\n",
    "\n",
    "for name, count in zip(names, counts):\n",
    "    if count > max_count:\n",
    "        longest_name = name\n",
    "        max_count = count\n",
    "\n",
    "print(longest_name)"
   ]
  },
  {
   "cell_type": "code",
   "execution_count": 97,
   "metadata": {},
   "outputs": [
    {
     "name": "stdout",
     "output_type": "stream",
     "text": [
      "Cacilia: 7\n",
      "Lise: 4\n",
      "Marie: 5\n",
      "Rosalind: None\n"
     ]
    }
   ],
   "source": [
    "from itertools import zip_longest\n",
    "\n",
    "names.append(\"Rosalind\")\n",
    "\n",
    "for name, count in zip_longest(names, counts):\n",
    "    print(f\"{name}: {count}\")"
   ]
  },
  {
   "cell_type": "markdown",
   "metadata": {},
   "source": [
    "## forループとwhileループのあとのelseブロックは使わない"
   ]
  },
  {
   "cell_type": "code",
   "execution_count": 98,
   "metadata": {},
   "outputs": [
    {
     "name": "stdout",
     "output_type": "stream",
     "text": [
      "Loop 0\n",
      "Loop 1\n",
      "Loop 2\n",
      "else block!\n"
     ]
    }
   ],
   "source": [
    "for i in range(3):\n",
    "    print(\"Loop\", i)\n",
    "else:\n",
    "    print(\"else block!\")"
   ]
  },
  {
   "cell_type": "code",
   "execution_count": 99,
   "metadata": {},
   "outputs": [
    {
     "name": "stdout",
     "output_type": "stream",
     "text": [
      "Loop 0\n",
      "Loop 1\n",
      "Loop 2\n"
     ]
    }
   ],
   "source": [
    "for i in range(3):\n",
    "    print(\"Loop\", i)\n",
    "    if i == 2:\n",
    "        break\n",
    "else:\n",
    "    print(\"else block!\")"
   ]
  },
  {
   "cell_type": "code",
   "execution_count": 100,
   "metadata": {},
   "outputs": [
    {
     "name": "stdout",
     "output_type": "stream",
     "text": [
      "For Else block!\n"
     ]
    }
   ],
   "source": [
    "for x in []:\n",
    "    print(\"Never runs\")\n",
    "else:\n",
    "    print(\"For Else block!\")"
   ]
  },
  {
   "cell_type": "code",
   "execution_count": 101,
   "metadata": {},
   "outputs": [
    {
     "name": "stdout",
     "output_type": "stream",
     "text": [
      "While Else block!\n"
     ]
    }
   ],
   "source": [
    "while False:\n",
    "    print(\"Never runs\")\n",
    "else:\n",
    "    print(\"While Else block!\")\n"
   ]
  },
  {
   "cell_type": "code",
   "execution_count": 102,
   "metadata": {},
   "outputs": [
    {
     "name": "stdout",
     "output_type": "stream",
     "text": [
      "Testing 2\n",
      "Testing 3\n",
      "Testing 4\n",
      "Coprime\n"
     ]
    }
   ],
   "source": [
    "a = 4\n",
    "b = 9\n",
    "\n",
    "for i in range(2, min(a, b) + 1):\n",
    "    print(\"Testing\", i)\n",
    "    if a % i == 0 and b % i == 0:\n",
    "        print(\"Not coprime\")\n",
    "        break\n",
    "else:\n",
    "    print(\"Coprime\")"
   ]
  },
  {
   "cell_type": "code",
   "execution_count": 103,
   "metadata": {},
   "outputs": [],
   "source": [
    "def coprime(a: int, b: int)->bool:\n",
    "    for i in range(2, min(a, b)+1):\n",
    "        if a % i == 0 and b % i == 0:\n",
    "            return False\n",
    "    return True\n",
    "\n",
    "assert coprime(4, 9)\n",
    "assert not coprime(3, 6)"
   ]
  },
  {
   "cell_type": "code",
   "execution_count": 104,
   "metadata": {},
   "outputs": [],
   "source": [
    "def coprime2(a: int, b: int)->bool:\n",
    "    is_coprime = True\n",
    "    for i in range(2, min(a, b) + 1):\n",
    "        if a % i == 0 and b % i == 0:\n",
    "            is_coprime = False\n",
    "            break\n",
    "    return is_coprime\n",
    "\n",
    "assert coprime2(4, 9)\n",
    "assert not coprime2(3, 6)"
   ]
  },
  {
   "cell_type": "markdown",
   "metadata": {},
   "source": [
    "## 代入式で繰り返しを防ぐ"
   ]
  },
  {
   "cell_type": "code",
   "execution_count": 105,
   "metadata": {},
   "outputs": [
    {
     "name": "stdout",
     "output_type": "stream",
     "text": [
      "['d', 'e']\n",
      "['b', 'c', 'd', 'e', 'f', 'g']\n"
     ]
    }
   ],
   "source": [
    "a = [\"a\", \"b\", \"c\", \"d\", \"e\", \"f\", \"g\", \"h\"]\n",
    "\n",
    "print(a[3:5])\n",
    "print(a[1:7])"
   ]
  },
  {
   "cell_type": "code",
   "execution_count": 106,
   "metadata": {},
   "outputs": [],
   "source": [
    "assert a[:5] == a[0:5]"
   ]
  },
  {
   "cell_type": "code",
   "execution_count": 107,
   "metadata": {},
   "outputs": [],
   "source": [
    "assert a[5:] == a[5:len(a)]"
   ]
  },
  {
   "cell_type": "code",
   "execution_count": 108,
   "metadata": {},
   "outputs": [
    {
     "data": {
      "text/plain": [
       "['a', 'b', 'c', 'd', 'e', 'f', 'g', 'h']"
      ]
     },
     "execution_count": 108,
     "metadata": {},
     "output_type": "execute_result"
    }
   ],
   "source": [
    "a[:]"
   ]
  },
  {
   "cell_type": "code",
   "execution_count": 109,
   "metadata": {},
   "outputs": [
    {
     "data": {
      "text/plain": [
       "['a', 'b', 'c', 'd', 'e']"
      ]
     },
     "execution_count": 109,
     "metadata": {},
     "output_type": "execute_result"
    }
   ],
   "source": [
    "a[:5]"
   ]
  },
  {
   "cell_type": "code",
   "execution_count": 110,
   "metadata": {},
   "outputs": [
    {
     "data": {
      "text/plain": [
       "['a', 'b', 'c', 'd', 'e', 'f', 'g']"
      ]
     },
     "execution_count": 110,
     "metadata": {},
     "output_type": "execute_result"
    }
   ],
   "source": [
    "a[:-1]"
   ]
  },
  {
   "cell_type": "code",
   "execution_count": 111,
   "metadata": {},
   "outputs": [
    {
     "data": {
      "text/plain": [
       "['e', 'f', 'g', 'h']"
      ]
     },
     "execution_count": 111,
     "metadata": {},
     "output_type": "execute_result"
    }
   ],
   "source": [
    "a[4:]"
   ]
  },
  {
   "cell_type": "code",
   "execution_count": 112,
   "metadata": {},
   "outputs": [
    {
     "data": {
      "text/plain": [
       "['f', 'g', 'h']"
      ]
     },
     "execution_count": 112,
     "metadata": {},
     "output_type": "execute_result"
    }
   ],
   "source": [
    "a[-3:]"
   ]
  },
  {
   "cell_type": "code",
   "execution_count": 113,
   "metadata": {},
   "outputs": [
    {
     "data": {
      "text/plain": [
       "['c', 'd', 'e']"
      ]
     },
     "execution_count": 113,
     "metadata": {},
     "output_type": "execute_result"
    }
   ],
   "source": [
    "a[2:5]"
   ]
  },
  {
   "cell_type": "code",
   "execution_count": 114,
   "metadata": {},
   "outputs": [
    {
     "data": {
      "text/plain": [
       "['c', 'd', 'e', 'f', 'g']"
      ]
     },
     "execution_count": 114,
     "metadata": {},
     "output_type": "execute_result"
    }
   ],
   "source": [
    "a[2:-1]"
   ]
  },
  {
   "cell_type": "code",
   "execution_count": 115,
   "metadata": {},
   "outputs": [
    {
     "data": {
      "text/plain": [
       "['f', 'g']"
      ]
     },
     "execution_count": 115,
     "metadata": {},
     "output_type": "execute_result"
    }
   ],
   "source": [
    "a[-3:-1]"
   ]
  },
  {
   "cell_type": "code",
   "execution_count": 116,
   "metadata": {},
   "outputs": [
    {
     "name": "stdout",
     "output_type": "stream",
     "text": [
      "['d', 'e', 'f', 'g', 'h']\n"
     ]
    }
   ],
   "source": [
    "b = a[3:]\n",
    "print(b)\n",
    "b[1] = 99"
   ]
  },
  {
   "cell_type": "code",
   "execution_count": 117,
   "metadata": {},
   "outputs": [
    {
     "name": "stdout",
     "output_type": "stream",
     "text": [
      "['d', 99, 'f', 'g', 'h']\n"
     ]
    }
   ],
   "source": [
    "print(b)"
   ]
  },
  {
   "cell_type": "code",
   "execution_count": 118,
   "metadata": {},
   "outputs": [
    {
     "name": "stdout",
     "output_type": "stream",
     "text": [
      "['a', 'b', 'c', 'd', 'e', 'f', 'g', 'h']\n"
     ]
    }
   ],
   "source": [
    "print(a)"
   ]
  },
  {
   "cell_type": "code",
   "execution_count": 119,
   "metadata": {},
   "outputs": [
    {
     "name": "stdout",
     "output_type": "stream",
     "text": [
      "['a', 'b', 99, 22, 14, 'h']\n"
     ]
    }
   ],
   "source": [
    "a[2:7] = [99, 22, 14]\n",
    "print(a)"
   ]
  },
  {
   "cell_type": "code",
   "execution_count": 120,
   "metadata": {},
   "outputs": [],
   "source": [
    "b = a[:]\n",
    "assert b == a and b is not a"
   ]
  },
  {
   "cell_type": "code",
   "execution_count": 121,
   "metadata": {},
   "outputs": [
    {
     "name": "stdout",
     "output_type": "stream",
     "text": [
      "['a', 'b', 99, 22, 14, 'h']\n",
      "['a', 'b', 99, 22, 14, 'h']\n"
     ]
    }
   ],
   "source": [
    "b = a\n",
    "print(a)\n",
    "print(b)"
   ]
  },
  {
   "cell_type": "code",
   "execution_count": 122,
   "metadata": {},
   "outputs": [],
   "source": [
    "a[:] = [101, 102, 103]\n",
    "assert a is b"
   ]
  },
  {
   "cell_type": "markdown",
   "metadata": {},
   "source": [
    "## １つの式ではストライドとスライスを同時に使わない"
   ]
  },
  {
   "cell_type": "code",
   "execution_count": 123,
   "metadata": {},
   "outputs": [
    {
     "name": "stdout",
     "output_type": "stream",
     "text": [
      "['red', 'yellow', 'blue']\n",
      "['orange', 'green', 'purple']\n"
     ]
    }
   ],
   "source": [
    "x = [\"red\", \"orange\", \"yellow\", \"green\", \"blue\", \"purple\"]\n",
    "odds = x[::2]\n",
    "evens = x[1::2]\n",
    "print(odds)\n",
    "print(evens)"
   ]
  },
  {
   "cell_type": "code",
   "execution_count": 124,
   "metadata": {},
   "outputs": [
    {
     "name": "stdout",
     "output_type": "stream",
     "text": [
      "b'esoognom'\n"
     ]
    }
   ],
   "source": [
    "x = b\"mongoose\"\n",
    "y = x[::-1]\n",
    "\n",
    "print(y)"
   ]
  },
  {
   "cell_type": "code",
   "execution_count": 125,
   "metadata": {},
   "outputs": [
    {
     "name": "stdout",
     "output_type": "stream",
     "text": [
      "司寿\n"
     ]
    }
   ],
   "source": [
    "x = \"寿司\"\n",
    "y = x[::-1]\n",
    "print(y)"
   ]
  },
  {
   "cell_type": "code",
   "execution_count": 126,
   "metadata": {},
   "outputs": [
    {
     "ename": "UnicodeDecodeError",
     "evalue": "'utf-8' codec can't decode byte 0xb8 in position 0: invalid start byte",
     "output_type": "error",
     "traceback": [
      "\u001b[0;31m---------------------------------------------------------------------------\u001b[0m",
      "\u001b[0;31mUnicodeDecodeError\u001b[0m                        Traceback (most recent call last)",
      "\u001b[0;32m<ipython-input-126-6e32dbbaf040>\u001b[0m in \u001b[0;36m<module>\u001b[0;34m\u001b[0m\n\u001b[1;32m      2\u001b[0m \u001b[0mx\u001b[0m \u001b[0;34m=\u001b[0m \u001b[0mw\u001b[0m\u001b[0;34m.\u001b[0m\u001b[0mencode\u001b[0m\u001b[0;34m(\u001b[0m\u001b[0;34m\"utf-8\"\u001b[0m\u001b[0;34m)\u001b[0m\u001b[0;34m\u001b[0m\u001b[0;34m\u001b[0m\u001b[0m\n\u001b[1;32m      3\u001b[0m \u001b[0my\u001b[0m \u001b[0;34m=\u001b[0m \u001b[0mx\u001b[0m\u001b[0;34m[\u001b[0m\u001b[0;34m:\u001b[0m\u001b[0;34m:\u001b[0m\u001b[0;34m-\u001b[0m\u001b[0;36m1\u001b[0m\u001b[0;34m]\u001b[0m\u001b[0;34m\u001b[0m\u001b[0;34m\u001b[0m\u001b[0m\n\u001b[0;32m----> 4\u001b[0;31m \u001b[0mz\u001b[0m \u001b[0;34m=\u001b[0m \u001b[0my\u001b[0m\u001b[0;34m.\u001b[0m\u001b[0mdecode\u001b[0m\u001b[0;34m(\u001b[0m\u001b[0;34m\"utf-8\"\u001b[0m\u001b[0;34m)\u001b[0m\u001b[0;34m\u001b[0m\u001b[0;34m\u001b[0m\u001b[0m\n\u001b[0m",
      "\u001b[0;31mUnicodeDecodeError\u001b[0m: 'utf-8' codec can't decode byte 0xb8 in position 0: invalid start byte"
     ]
    }
   ],
   "source": [
    "w = \"寿司\"\n",
    "x = w.encode(\"utf-8\")\n",
    "y = x[::-1]\n",
    "z = y.decode(\"utf-8\")"
   ]
  },
  {
   "cell_type": "code",
   "execution_count": 127,
   "metadata": {},
   "outputs": [],
   "source": [
    "# itertools.islice"
   ]
  },
  {
   "cell_type": "markdown",
   "metadata": {},
   "source": [
    "## スライスではなくCatch-allアンパックを使う"
   ]
  },
  {
   "cell_type": "code",
   "execution_count": 128,
   "metadata": {},
   "outputs": [],
   "source": [
    "car_ages = [0, 9, 4, 8, 7, 20, 19, 1, 6, 15]\n",
    "car_ages_descending = sorted(car_ages, reverse=True)\n",
    "oldest, second_oldest, *others = car_ages_descending"
   ]
  },
  {
   "cell_type": "code",
   "execution_count": 129,
   "metadata": {},
   "outputs": [
    {
     "name": "stdout",
     "output_type": "stream",
     "text": [
      "20 19 [15, 9, 8, 7, 6, 4, 1, 0]\n"
     ]
    }
   ],
   "source": [
    "print(oldest, second_oldest, others)"
   ]
  },
  {
   "cell_type": "markdown",
   "metadata": {},
   "source": [
    "## key 引数を使い複雑な基準でソートする"
   ]
  },
  {
   "cell_type": "code",
   "execution_count": 130,
   "metadata": {},
   "outputs": [
    {
     "name": "stdout",
     "output_type": "stream",
     "text": [
      "[68, 70, 86, 93]\n"
     ]
    }
   ],
   "source": [
    "numbers = [93, 86, 68, 70]\n",
    "numbers.sort()\n",
    "print(numbers)"
   ]
  },
  {
   "cell_type": "code",
   "execution_count": 135,
   "metadata": {},
   "outputs": [],
   "source": [
    "class Tool:\n",
    "    def __init__(self, name: str, weight: int):\n",
    "        self.name = name\n",
    "        self.weight = weight\n",
    "    \n",
    "    def __repr__(self):\n",
    "        return f\"Tool({self.name!r}, {self.weight})\"\n",
    "    \n",
    "    \n",
    "tools = [\n",
    "    Tool(\"level\", 3.5),\n",
    "    Tool(\"hammer\", 1.25),\n",
    "    Tool(\"screwdriver\", 0.5),\n",
    "    Tool(\"chisel\", 0.25)\n",
    "]"
   ]
  },
  {
   "cell_type": "code",
   "execution_count": 136,
   "metadata": {},
   "outputs": [
    {
     "ename": "TypeError",
     "evalue": "'<' not supported between instances of 'Tool' and 'Tool'",
     "output_type": "error",
     "traceback": [
      "\u001b[0;31m---------------------------------------------------------------------------\u001b[0m",
      "\u001b[0;31mTypeError\u001b[0m                                 Traceback (most recent call last)",
      "\u001b[0;32m<ipython-input-136-934c749d7824>\u001b[0m in \u001b[0;36m<module>\u001b[0;34m\u001b[0m\n\u001b[0;32m----> 1\u001b[0;31m \u001b[0mtools\u001b[0m\u001b[0;34m.\u001b[0m\u001b[0msort\u001b[0m\u001b[0;34m(\u001b[0m\u001b[0;34m)\u001b[0m\u001b[0;34m\u001b[0m\u001b[0;34m\u001b[0m\u001b[0m\n\u001b[0m",
      "\u001b[0;31mTypeError\u001b[0m: '<' not supported between instances of 'Tool' and 'Tool'"
     ]
    }
   ],
   "source": [
    "tools.sort()"
   ]
  },
  {
   "cell_type": "code",
   "execution_count": 138,
   "metadata": {},
   "outputs": [
    {
     "name": "stdout",
     "output_type": "stream",
     "text": [
      "Unsortd [Tool('chisel', 0.25), Tool('hammer', 1.25), Tool('level', 3.5), Tool('screwdriver', 0.5)]\n",
      "\n",
      "Sored:  [Tool('chisel', 0.25), Tool('hammer', 1.25), Tool('level', 3.5), Tool('screwdriver', 0.5)]\n"
     ]
    }
   ],
   "source": [
    "print(\"Unsortd\", repr(tools))\n",
    "tools.sort(key=lambda x: x.name)\n",
    "print(\"\\nSored: \", tools)"
   ]
  },
  {
   "cell_type": "code",
   "execution_count": 139,
   "metadata": {},
   "outputs": [
    {
     "name": "stdout",
     "output_type": "stream",
     "text": [
      "By weight:  [Tool('chisel', 0.25), Tool('screwdriver', 0.5), Tool('hammer', 1.25), Tool('level', 3.5)]\n"
     ]
    }
   ],
   "source": [
    "tools.sort(key=lambda x: x.weight)\n",
    "print(\"By weight: \", tools)"
   ]
  },
  {
   "cell_type": "markdown",
   "metadata": {},
   "source": [
    "## 辞書の欠損キーの処理にはinやKeyErrorではなくgetを使う"
   ]
  },
  {
   "cell_type": "code",
   "execution_count": 142,
   "metadata": {},
   "outputs": [],
   "source": [
    "votes = {\n",
    "    \"baguette\": [\"Bob\", \"Alice\"],\n",
    "    \"ciabatta\": [\"Coco\", \"Deb\"]\n",
    "}\n",
    "\n",
    "key = \"brioche\"\n",
    "who = \"Elimer\"\n",
    "\n",
    "names = votes.get(\"key\")\n",
    "if names is None:\n",
    "    votes[key] = names = []\n",
    "\n",
    "names.append(who)"
   ]
  },
  {
   "cell_type": "code",
   "execution_count": 143,
   "metadata": {},
   "outputs": [
    {
     "data": {
      "text/plain": [
       "['Elimer']"
      ]
     },
     "execution_count": 143,
     "metadata": {},
     "output_type": "execute_result"
    }
   ],
   "source": [
    "names"
   ]
  },
  {
   "cell_type": "code",
   "execution_count": 145,
   "metadata": {},
   "outputs": [],
   "source": [
    "from collections import defaultdict\n",
    "\n",
    "class Visits:\n",
    "    def __init__(self):\n",
    "        self.data = defaultdict(set)\n",
    "    \n",
    "    def add(self, country, city):\n",
    "        self.data[country].add(city)"
   ]
  },
  {
   "cell_type": "code",
   "execution_count": 146,
   "metadata": {},
   "outputs": [
    {
     "name": "stdout",
     "output_type": "stream",
     "text": [
      "defaultdict(<class 'set'>, {'England': {'Bath', 'London'}})\n"
     ]
    }
   ],
   "source": [
    "visits = Visits()\n",
    "\n",
    "visits.add(\"England\", \"Bath\")\n",
    "visits.add(\"England\", \"London\")\n",
    "\n",
    "print(visits.data)"
   ]
  },
  {
   "cell_type": "code",
   "execution_count": 147,
   "metadata": {},
   "outputs": [],
   "source": [
    "# ファイルシステムにあるソーシャルネットワークプロフィールの写真を管理するプログラムを書いてるとする。\n",
    "pictures = {}\n",
    "\n",
    "path = \"profile_1234.png\"\n",
    "\n",
    "handle = pictures.get(path)\n",
    "if handle is None:\n",
    "    try:\n",
    "        handle = open(path, \"a+b\")\n",
    "    except OSError:\n",
    "        print(f\"Failed to open path {path}\")\n",
    "        raise\n",
    "    else:\n",
    "        pictures[path] = handle\n",
    "    \n",
    "    \n",
    "handle.seek(0)\n",
    "image_data = handle.read()"
   ]
  },
  {
   "cell_type": "code",
   "execution_count": 149,
   "metadata": {},
   "outputs": [],
   "source": [
    "try:\n",
    "    handle = pictures.setdefault(path, open(path, \"a+b\"))\n",
    "except OSError:\n",
    "    print(f\"Failed to open path {path}\")\n",
    "    raise\n",
    "\n",
    "else:\n",
    "    handle.seek(0)\n",
    "    image_data = handle.read()\n",
    "    \n"
   ]
  },
  {
   "cell_type": "code",
   "execution_count": 150,
   "metadata": {},
   "outputs": [
    {
     "ename": "TypeError",
     "evalue": "open_picture() missing 1 required positional argument: 'profile_path'",
     "output_type": "error",
     "traceback": [
      "\u001b[0;31m---------------------------------------------------------------------------\u001b[0m",
      "\u001b[0;31mTypeError\u001b[0m                                 Traceback (most recent call last)",
      "\u001b[0;32m<ipython-input-150-b9e690e79703>\u001b[0m in \u001b[0;36m<module>\u001b[0;34m\u001b[0m\n\u001b[1;32m      9\u001b[0m \u001b[0;34m\u001b[0m\u001b[0m\n\u001b[1;32m     10\u001b[0m \u001b[0mpictures\u001b[0m \u001b[0;34m=\u001b[0m \u001b[0mdefaultdict\u001b[0m\u001b[0;34m(\u001b[0m\u001b[0mopen_picture\u001b[0m\u001b[0;34m)\u001b[0m\u001b[0;34m\u001b[0m\u001b[0;34m\u001b[0m\u001b[0m\n\u001b[0;32m---> 11\u001b[0;31m \u001b[0mhandle\u001b[0m \u001b[0;34m=\u001b[0m \u001b[0mpictures\u001b[0m\u001b[0;34m[\u001b[0m\u001b[0mpath\u001b[0m\u001b[0;34m]\u001b[0m\u001b[0;34m\u001b[0m\u001b[0;34m\u001b[0m\u001b[0m\n\u001b[0m\u001b[1;32m     12\u001b[0m \u001b[0mhandle\u001b[0m\u001b[0;34m.\u001b[0m\u001b[0mseek\u001b[0m\u001b[0;34m(\u001b[0m\u001b[0;36m0\u001b[0m\u001b[0;34m)\u001b[0m\u001b[0;34m\u001b[0m\u001b[0;34m\u001b[0m\u001b[0m\n\u001b[1;32m     13\u001b[0m \u001b[0mimage_data\u001b[0m \u001b[0;34m=\u001b[0m \u001b[0mhandle\u001b[0m\u001b[0;34m.\u001b[0m\u001b[0mread\u001b[0m\u001b[0;34m(\u001b[0m\u001b[0;34m)\u001b[0m\u001b[0;34m\u001b[0m\u001b[0;34m\u001b[0m\u001b[0m\n",
      "\u001b[0;31mTypeError\u001b[0m: open_picture() missing 1 required positional argument: 'profile_path'"
     ]
    }
   ],
   "source": [
    "from collections import defaultdict\n",
    "\n",
    "def open_picture(profile_path: str):\n",
    "    try:\n",
    "        return open(profile_path, \"a+b\")\n",
    "    except OSError:\n",
    "        print(f\"Failed to open path {profile_path}\")\n",
    "        raise\n",
    "\n",
    "# defaultdict はコンストラクタに渡される関数には引数がないと仮定してる\n",
    "pictures = defaultdict(open_picture)\n",
    "handle = pictures[path]\n",
    "handle.seek(0)\n",
    "image_data = handle.read()"
   ]
  },
  {
   "cell_type": "code",
   "execution_count": 152,
   "metadata": {},
   "outputs": [],
   "source": [
    "# 欠損キーを扱うロジック\n",
    "# Dict型を継承して、新しいメソッドを付け足す\n",
    "class Pictures(dict):\n",
    "    def __missing__(self, key: str):\n",
    "        value = open_picture(key)\n",
    "        self[key] = value\n",
    "        return value\n",
    "    \n",
    "pictures = Pictures()\n",
    "handle = pictures[path] # ここでキーのpathがなければ上で定義した__missing__が呼ばれる\n",
    "handle.seek(0)\n",
    "image_data = handle.read()"
   ]
  },
  {
   "cell_type": "code",
   "execution_count": 154,
   "metadata": {},
   "outputs": [
    {
     "data": {
      "text/plain": [
       "b''"
      ]
     },
     "execution_count": 154,
     "metadata": {},
     "output_type": "execute_result"
    }
   ],
   "source": [
    "image_data"
   ]
  },
  {
   "cell_type": "code",
   "execution_count": null,
   "metadata": {},
   "outputs": [],
   "source": []
  }
 ],
 "metadata": {
  "kernelspec": {
   "display_name": "Python 3",
   "language": "python",
   "name": "python3"
  },
  "language_info": {
   "codemirror_mode": {
    "name": "ipython",
    "version": 3
   },
   "file_extension": ".py",
   "mimetype": "text/x-python",
   "name": "python",
   "nbconvert_exporter": "python",
   "pygments_lexer": "ipython3",
   "version": "3.7.6"
  }
 },
 "nbformat": 4,
 "nbformat_minor": 4
}
